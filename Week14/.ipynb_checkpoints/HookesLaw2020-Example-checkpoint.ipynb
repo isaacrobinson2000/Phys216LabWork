{
 "cells": [
  {
   "cell_type": "markdown",
   "metadata": {},
   "source": [
    "The usual error function toolkit..."
   ]
  },
  {
   "cell_type": "code",
   "execution_count": 15,
   "metadata": {},
   "outputs": [],
   "source": [
    "import numpy as np\n",
    "from typing import Iterable, Tuple, Union\n",
    "\n",
    "# Define our rules...\n",
    "\n",
    "def rule_1(c, error_val):\n",
    "    return abs(c) * error_val\n",
    "\n",
    "def rule_2(c, val, error_val, power):\n",
    "    return abs(c * power * val ** (power - 1)) * error_val\n",
    "\n",
    "def rule_3(*err_vals: Iterable[float]) -> float:\n",
    "    \"\"\"\n",
    "    Calculate rule 4 from the paper 'Treatment of Data'.\n",
    "    \n",
    "    @param err_vals: A list of parameters, being the errors in each value. It is assumed they were summed \n",
    "                     together to get the final value.\n",
    "    \n",
    "    @returns: The error of all of the sum of the values...\n",
    "    \"\"\"\n",
    "    total = 0\n",
    "    \n",
    "    for err in err_vals:\n",
    "        total += err ** 2\n",
    "    \n",
    "    return np.sqrt(total)\n",
    "\n",
    "\n",
    "def rule_4(value: float, *error_list: Iterable[Tuple[float, float, float]]) -> float:\n",
    "    \"\"\"\n",
    "    Calculate rule 4 from the paper 'Treatment of Data'.\n",
    "    \n",
    "    @param value: The value of the thing we are trying to calculate the error of.\n",
    "    @param error_list: A list of length 3 tuples. \n",
    "                       Each tuple should contain:\n",
    "                       - A float: A value in the error formula.\n",
    "                       - A float: The measured error in the above value.\n",
    "                       - A float: The power of the above value in the multiplicative formula.\n",
    "\n",
    "    @returns: A float, being the error in 'value'.\n",
    "    \"\"\"\n",
    "    total = 0\n",
    "    \n",
    "    for x, x_err, power in error_list:\n",
    "        total += (power * (x_err / x)) ** 2\n",
    "        \n",
    "    return abs(value) * np.sqrt(total)\n",
    "\n",
    "# Adding this to the toolkit, checks if two values \"agree\" with each other.... \n",
    "FloatVec = Union[float, np.ndarray] \n",
    "BoolVec = Union[bool, np.ndarray]\n",
    "\n",
    "def values_agree(val_1: FloatVec, err_1: FloatVec, val_2: FloatVec, err_2: FloatVec) -> BoolVec:\n",
    "    \"\"\"\n",
    "    Determines if the values in 2 vectors(arrays) agree with each other, given there uncertainty values. \n",
    "    \n",
    "    @param val_1: The 1st array of values.\n",
    "    @param err_1: The uncertainty values for the 1st vector.\n",
    "    @param val_2: The 2nd array of values.\n",
    "    @param err_2: The uncertainty values for the 2st vector. \n",
    "    \n",
    "    @returns: A vector of booleans, being whether each value agrees with the other.\n",
    "    \"\"\"\n",
    "    r11, r12 = val_1 - err_1, val_1 + err_1\n",
    "    r21, r22 = val_2 - err_2, val_2 + err_2\n",
    "    \n",
    "    r11 <= r21\n",
    "    \n",
    "    return ((r11 <= r21) & (r21 <= r12)) | ((r11 <= r22) & (r22 <= r12))\n"
   ]
  },
  {
   "cell_type": "markdown",
   "metadata": {},
   "source": [
    "# Method 1:  Determine k for Spring 1"
   ]
  },
  {
   "cell_type": "code",
   "execution_count": 24,
   "metadata": {},
   "outputs": [
    {
     "data": {
      "image/png": "[encoded data removed]",
      "text/plain": [
       "<Figure size 432x288 with 1 Axes>"
      ]
     },
     "metadata": {
      "needs_background": "light"
     },
     "output_type": "display_data"
    },
    {
     "name": "stdout",
     "output_type": "stream",
     "text": [
      "Slope = 3.00 N/m\n",
      "Error in slope = 0.03 N/m\n",
      "Goodness of fit = 0.24\n",
      "Spring Constant is: 3.00 ± 0.03 N/m\n"
     ]
    }
   ],
   "source": [
    "import physplot as phys\n",
    "import numpy as np\n",
    "\n",
    "# My measurements...\n",
    "m1 = np.array([100, 130, 150, 170, 190, 210]) / 1000 # g -> kg\n",
    "x1 = np.array([33, 43, 49.5, 56, 62.5, 69]) / 100 # cm -> m\n",
    "errm = np.array([1, 1, 1, 1, 1, 1]) / 1000 # mm -> m\n",
    "\n",
    "#call the plotfit function from the physplot.py code\n",
    "#You can open that code to see how it works\n",
    "#This is what the plotfit function looks like.  Pass\n",
    "#in the parameters in the correct order\n",
    "#plotfit(x,y,dy,title,xlabel,ylabel,slopeunit)\n",
    "\n",
    "s, ds, N = phys.plotfit(x1,m1*9.8,errm*9.8,'Small k spring','x(m)','F(N)','N/m')\n",
    "\n",
    "print(f\"Spring Constant is: {s:0.2f} ± {ds:0.2f} N/m\")"
   ]
  },
  {
   "cell_type": "markdown",
   "metadata": {},
   "source": [
    "# Method 1:  Determine k for Spring 2"
   ]
  },
  {
   "cell_type": "code",
   "execution_count": 54,
   "metadata": {},
   "outputs": [
    {
     "data": {
      "image/png": "[encoded data removed]",
      "text/plain": [
       "<Figure size 432x288 with 1 Axes>"
      ]
     },
     "metadata": {
      "needs_background": "light"
     },
     "output_type": "display_data"
    },
    {
     "name": "stdout",
     "output_type": "stream",
     "text": [
      "Slope = 11.82 N/m\n",
      "Error in slope = 0.09 N/m\n",
      "Goodness of fit = 28.92\n",
      "Spring Constant is: 11.82 ± 0.09 N/m\n"
     ]
    }
   ],
   "source": [
    "# My measurements...\n",
    "m1 = np.array([100, 140, 170, 200, 230, 260]) / 1000 # g -> kg\n",
    "x1 = np.array([8.5, 12, 14.5, 17, 19, 22]) / 100 # cm -> m\n",
    "errm = np.array([1, 1, 1, 1, 1, 1]) / 1000 # mm -> m\n",
    "\n",
    "#call the plotfit function from the physplot.py code\n",
    "#You can open that code to see how it works\n",
    "#This is what the plotfit function looks like.  Pass\n",
    "#in the parameters in the correct order\n",
    "#plotfit(x,y,dy,title,xlabel,ylabel,slopeunit)\n",
    "\n",
    "m, dm, N = phys.plotfit(x1,m1*9.8,errm*9.8,'Small k spring','x(m)','F(N)','N/m')\n",
    "\n",
    "print(f\"Spring Constant is: {m:0.2f} ± {dm:0.2f} N/m\")"
   ]
  },
  {
   "cell_type": "markdown",
   "metadata": {},
   "source": [
    "# Method 2 for Spring 1"
   ]
  },
  {
   "cell_type": "code",
   "execution_count": 53,
   "metadata": {},
   "outputs": [
    {
     "name": "stdout",
     "output_type": "stream",
     "text": [
      "[2.033476 1.874161 1.723969 1.600225 1.452025 1.3456  ] [0.0713  0.06845 0.06565 0.06325 0.06025 0.058  ]\n"
     ]
    },
    {
     "data": {
      "image/png": "[encoded data removed]",
      "text/plain": [
       "<Figure size 432x288 with 1 Axes>"
      ]
     },
     "metadata": {
      "needs_background": "light"
     },
     "output_type": "display_data"
    },
    {
     "name": "stdout",
     "output_type": "stream",
     "text": [
      "Slope = 13.88 m/N\n",
      "Error in slope = 1.54 m/N\n",
      "Goodness of fit = 0.29\n",
      "Spring Constant is: 2.84 ± 0.32 N/m\n"
     ]
    }
   ],
   "source": [
    "# My measurements...\n",
    "m = np.array([150, 140, 130, 120, 110, 100]) / 1000 # g -> kg\n",
    "t = np.array([14.26, 13.69, 13.13, 12.65, 12.05, 11.60]) # seconds...\n",
    "errm = np.array([1, 1, 1, 1, 1, 1]) / 1000\n",
    "errt = 250 / 1000 # 250ms, because my reaction times are bad...\n",
    "\n",
    "T = t / 10\n",
    "errT = errt / 10\n",
    "\n",
    "T2 = T ** 2\n",
    "errT2 = rule_2(1, T, errT, 2)\n",
    "print(T2, errT2)\n",
    "\n",
    "s, ds, N = phys.plotfit(m, T2, errT2, 'Small k spring','x(m)','F(N)','m/N')\n",
    "\n",
    "k = (4 * np.pi ** 2) / s\n",
    "errk = rule_4(k, (s, ds, -1))\n",
    "\n",
    "print(f\"Spring Constant is: {k:0.2f} ± {errk:0.2f} N/m\")"
   ]
  },
  {
   "cell_type": "markdown",
   "metadata": {},
   "source": [
    "# Method 2 for Spring 2"
   ]
  },
  {
   "cell_type": "code",
   "execution_count": 52,
   "metadata": {},
   "outputs": [
    {
     "name": "stdout",
     "output_type": "stream",
     "text": [
      "[1.016064 0.944784 0.8836   0.779689 0.736164 0.665856] [0.0504  0.0486  0.047   0.04415 0.0429  0.0408 ]\n"
     ]
    },
    {
     "data": {
      "image/png": "[encoded data removed]",
      "text/plain": [
       "<Figure size 432x288 with 1 Axes>"
      ]
     },
     "metadata": {
      "needs_background": "light"
     },
     "output_type": "display_data"
    },
    {
     "name": "stdout",
     "output_type": "stream",
     "text": [
      "Slope = 3.55 m/N\n",
      "Error in slope = 0.54 m/N\n",
      "Goodness of fit = 0.34\n",
      "Spring Constant is: 11.11 ± 1.70 N/m\n"
     ]
    }
   ],
   "source": [
    "# My measurements...\n",
    "m = np.array([300, 280, 260, 240, 220, 200]) / 1000 # g -> kg\n",
    "t = np.array([10.08, 9.72, 9.40, 8.83, 8.58, 8.16]) # seconds...\n",
    "errm = np.array([1, 1, 1, 1, 1, 1]) / 1000\n",
    "\n",
    "errt = 250 / 1000 # 250ms, because my reaction times are bad...\n",
    "\n",
    "T = t / 10\n",
    "errT = errt / 10\n",
    "\n",
    "T2 = T ** 2\n",
    "errT2 = rule_2(1, T, errT, 2)\n",
    "print(T2, errT2)\n",
    "\n",
    "s, ds, N = phys.plotfit(m, T2, errT2, 'Small k spring','x(m)','F(N)','m/N')\n",
    "\n",
    "k = (4 * np.pi ** 2) / s\n",
    "errk = rule_4(k, (s, ds, -1))\n",
    "\n",
    "print(f\"Spring Constant is: {k:0.2f} ± {errk:0.2f} N/m\")"
   ]
  },
  {
   "cell_type": "code",
   "execution_count": null,
   "metadata": {},
   "outputs": [],
   "source": []
  }
 ],
 "metadata": {
  "kernelspec": {
   "display_name": "Python 3",
   "language": "python",
   "name": "python3"
  },
  "language_info": {
   "codemirror_mode": {
    "name": "ipython",
    "version": 3
   },
   "file_extension": ".py",
   "mimetype": "text/x-python",
   "name": "python",
   "nbconvert_exporter": "python",
   "pygments_lexer": "ipython3",
   "version": "3.8.5"
  }
 },
 "nbformat": 4,
 "nbformat_minor": 2
}
