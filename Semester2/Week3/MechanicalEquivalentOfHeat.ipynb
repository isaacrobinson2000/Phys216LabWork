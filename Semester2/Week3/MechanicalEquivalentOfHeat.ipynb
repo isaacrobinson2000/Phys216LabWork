{
 "cells": [
  {
   "cell_type": "markdown",
   "metadata": {},
   "source": [
    "# Look to bottom for QA Section. \n",
    "\n",
    "### Usual error calculation code:"
   ]
  },
  {
   "cell_type": "code",
   "execution_count": 1,
   "metadata": {},
   "outputs": [],
   "source": [
    "import numpy as np\n",
    "from typing import Iterable, Tuple, Union\n",
    "import pandas as pd\n",
    "from IPython.display import Markdown\n",
    "\n",
    "# Define our rules...\n",
    "\n",
    "def rule_1(c, error_val):\n",
    "    return abs(c) * error_val\n",
    "\n",
    "def rule_2(c, val, error_val, power):\n",
    "    return abs(c * power * val ** (power - 1)) * error_val\n",
    "\n",
    "def rule_3(*err_vals: Iterable[float]) -> float:\n",
    "    \"\"\"\n",
    "    Calculate rule 3 from the paper 'Treatment of Data'.\n",
    "    \n",
    "    @param err_vals: A list of parameters, being the errors in each value. It is assumed they were summed \n",
    "                     together to get the final value.\n",
    "    \n",
    "    @returns: The error of all of the sum of the values...\n",
    "    \"\"\"\n",
    "    total = 0\n",
    "    \n",
    "    for err in err_vals:\n",
    "        total += err ** 2\n",
    "    \n",
    "    return np.sqrt(total)\n",
    "\n",
    "\n",
    "def rule_4(value: float, *error_list: Iterable[Tuple[float, float, float]]) -> float:\n",
    "    \"\"\"\n",
    "    Calculate rule 4 from the paper 'Treatment of Data'.\n",
    "    \n",
    "    @param value: The value of the thing we are trying to calculate the error of.\n",
    "    @param error_list: A list of length 3 tuples. \n",
    "                       Each tuple should contain:\n",
    "                       - A float: A value in the error formula.\n",
    "                       - A float: The measured error in the above value.\n",
    "                       - A float: The power of the above value in the multiplicative formula.\n",
    "\n",
    "    @returns: A float, being the error in 'value'.\n",
    "    \"\"\"\n",
    "    total = 0\n",
    "    \n",
    "    for x, x_err, power in error_list:\n",
    "        total += (power * (x_err / x)) ** 2\n",
    "        \n",
    "    return abs(value) * np.sqrt(total)\n",
    "\n",
    "# Fixed bug in checking code below...\n",
    "FloatVec = Union[float, np.ndarray] \n",
    "BoolVec = Union[bool, np.ndarray]\n",
    "\n",
    "def values_agree(val_1: FloatVec, err_1: FloatVec, val_2: FloatVec, err_2: FloatVec) -> BoolVec:\n",
    "    \"\"\"\n",
    "    Determines if the values in 2 vectors(arrays) agree with each other, given there uncertainty values. \n",
    "    \n",
    "    @param val_1: The 1st array of values.\n",
    "    @param err_1: The uncertainty values for the 1st vector.\n",
    "    @param val_2: The 2nd array of values.\n",
    "    @param err_2: The uncertainty values for the 2st vector. \n",
    "    \n",
    "    @returns: A vector of booleans, being whether each value agrees with the other.\n",
    "    \"\"\"\n",
    "    # Grab the ranges for each value...\n",
    "    r11, r12 = val_1 - err_1, val_1 + err_1\n",
    "    r21, r22 = val_2 - err_2, val_2 + err_2\n",
    "    \n",
    "    # The ranges are sorted (r21 <= r22 and r11 <= r12), so the simple 2 checks below are enough. \n",
    "    # Check 1: Does r21(lowest value of 2nd range) land above the 1st range? If so fail...\n",
    "    # Check 2: Does r22(highest value of 2nd range) fall below the 1st range? If so fail...\n",
    "    return ((r21 <= r12) & (r11 <= r22))"
   ]
  },
  {
   "cell_type": "markdown",
   "metadata": {},
   "source": [
    "# Questions:\n",
    "\n",
    "### 1) Write your measurement of the mass of the aluminum cylinder including the uncertainty.   (3 points)\n",
    "\n",
    "This is the value I recored for the mass of the aluminum cylinder:"
   ]
  },
  {
   "cell_type": "code",
   "execution_count": 53,
   "metadata": {},
   "outputs": [
    {
     "data": {
      "text/markdown": [
       "Mass of aluminium cylinder: $202.90 \\pm 0.10\\text{ g}$."
      ],
      "text/plain": [
       "<IPython.core.display.Markdown object>"
      ]
     },
     "metadata": {},
     "output_type": "display_data"
    }
   ],
   "source": [
    "df = pd.read_csv(\"data.csv\")\n",
    "display(Markdown(fr\"Mass of aluminium cylinder: ${df['m (g)'][0]:.02f} \\pm {df['err_m (g)'][0]:.02f}\\text{{ g}}$.\"))"
   ]
  },
  {
   "cell_type": "markdown",
   "metadata": {},
   "source": [
    "### 2) Write your measurement for the diameter of the cylinder including the uncertainty.  (3 points)\n",
    "\n",
    "This is the value I recorded for the diameter of the cylinder:"
   ]
  },
  {
   "cell_type": "code",
   "execution_count": 52,
   "metadata": {},
   "outputs": [
    {
     "data": {
      "text/markdown": [
       "Diameter of cylinder: $48.00 \\pm 0.50\\text{ mm}$."
      ],
      "text/plain": [
       "<IPython.core.display.Markdown object>"
      ]
     },
     "metadata": {},
     "output_type": "display_data"
    }
   ],
   "source": [
    "df = pd.read_csv(\"data.csv\")\n",
    "display(Markdown(fr\"Diameter of cylinder: ${df['D (mm)'][0]:.02f} \\pm {df['D_err (mm)'][0]:.02f}\\text{{ mm}}$.\"))"
   ]
  },
  {
   "cell_type": "markdown",
   "metadata": {},
   "source": [
    "### 3) What is your uncertainty in $T_{final}$ or $T_{initial}$ and how did you determine it?  (5 points)\n",
    "\n",
    "My uncertainty for $T_{final}$ and $T_{initial}$ ended up being $0.3 \\text{ }^{\\circ}C$. I determined from our prior experiment, and the value correlates to the 'bounce' in the thermistor as it levels out and correctly gives the temperature. Sadly, I couldn't determine a value myself due to not having access to the software for converting thermistor resistance values into temperatures."
   ]
  },
  {
   "cell_type": "markdown",
   "metadata": {},
   "source": [
    "### 4) What is the mechanical equivalent of heat you calculated including the uncertainty.  Show your work.  (either work done by hand or give me a few lines of the code you used, or an explanation of them) (6 points)\n",
    "\n",
    "The following code below computes the mechanical equivalent of heat conversion factor. At the bottom it prints out its result:"
   ]
  },
  {
   "cell_type": "code",
   "execution_count": 57,
   "metadata": {},
   "outputs": [
    {
     "data": {
      "text/markdown": [
       "Conversion rate for work to heat derived experimentally: $4.3602 ± 0.1797 \\frac{J}{cal}$"
      ],
      "text/plain": [
       "<IPython.core.display.Markdown object>"
      ]
     },
     "metadata": {},
     "output_type": "display_data"
    },
    {
     "data": {
      "text/markdown": [
       "Accepted value: $4.1860 \\frac{J}{cal}$."
      ],
      "text/plain": [
       "<IPython.core.display.Markdown object>"
      ]
     },
     "metadata": {},
     "output_type": "display_data"
    },
    {
     "data": {
      "text/markdown": [
       "Do values aggree? Yes."
      ],
      "text/plain": [
       "<IPython.core.display.Markdown object>"
      ]
     },
     "metadata": {},
     "output_type": "display_data"
    }
   ],
   "source": [
    "import pandas as pd\n",
    "from IPython.display import Markdown\n",
    "\n",
    "# Read in data I took.\n",
    "df = pd.read_csv(\"data.csv\")\n",
    "\n",
    "# Grab values from csv....\n",
    "\n",
    "# Mass of the hanging object\n",
    "M = df[\"M (kg)\"]\n",
    "err_M = df[\"err_M (kg)\"]\n",
    "\n",
    "# Radius of the cylinder.\n",
    "R = (df[\"D (mm)\"] / 1000) / 2 # mm -> m\n",
    "err_R = (df[\"D_err (mm)\"] / 1000) / 2 # mm -> m\n",
    "\n",
    "# The number of turns completed... \n",
    "# (We subtract off turns before cylinder started warming up, and include and error of 10 turns.)\n",
    "N = df[\"#Turns\"] - df[\"Sub_Turns\"]\n",
    "err_N = df[\"err_#Turns\"]\n",
    "\n",
    "# g!!!\n",
    "g = 9.8  # m / s^2\n",
    "\n",
    "# Calculate work and error in work done.\n",
    "Work = 2 * np.pi * g * R * N * M\n",
    "err_Work = rule_4(Work, (R, err_R, 1), (N, err_N, 1), (M, err_M, 1))\n",
    "\n",
    "# The change in temperature...\n",
    "T_diff = df[\"T_finish (C)\"] - df[\"T_start (C)\"]\n",
    "err_T_diff = rule_3(df[\"err_T (C)\"], df[\"err_T (C)\"])\n",
    "\n",
    "# Specfic Heat of aluminum...\n",
    "c_aluminum = 214  # cal/(kg*C) We assume no error.\n",
    "\n",
    "# Mass of the cylinder...\n",
    "m = df[\"m (g)\"] / 1000 # g -> kg\n",
    "err_m = df[\"err_m (g)\"] / 1000 # g -> kg\n",
    "\n",
    "# Calculate heat and error in head generated.\n",
    "Heat = T_diff * c_aluminum * m\n",
    "err_Heat = rule_4(Heat, (m, err_m, 1), (T_diff, err_T_diff, 1))\n",
    "\n",
    "# Calculate the conversion constant...\n",
    "J = Work / Heat\n",
    "err_J = rule_4(J, (Work, err_Work, 1), (Heat, err_Heat, -1))\n",
    "\n",
    "accepted_J = 4.1860\n",
    "\n",
    "display(Markdown(fr\"Conversion rate for work to heat derived experimentally: ${J[0]:.04f} ± {err_J[0]:.04f} \\frac{{J}}{{cal}}$\"))\n",
    "display(Markdown(fr\"Accepted value: ${accepted_J:.04f} \\frac{{J}}{{cal}}$.\"))\n",
    "display(Markdown(f\"Do values aggree? {'Yes' if(values_agree(J[0], err_J[0], accepted_J, 0)) else 'No'}.\"))"
   ]
  },
  {
   "cell_type": "markdown",
   "metadata": {},
   "source": [
    "As seen above, we get a result of $4.3602 \\pm 0.1797 \\frac{J}{cal}$.\n",
    "\n",
    "### 5) Does your result for the mechanical equivalent of heat agree with the accepted value of $J = 4.1860 \\frac{J}{cal}$?  Justify your answer.  (4 points)\n",
    "\n",
    "As seen in the results printed from the code above, my value does agree with the accepted value of $4.1860 \\frac{J}{cal}$. This can be easily confirmed by hand by adding and subracting the error from the value we got, and then checking to see if the accepted value lands within the range between the lower and upper error bounds.\n",
    "\n",
    "### 6) If we had been doing work on a steel cylinder, with specific heat $c_S = 120 \\frac{cal}{(kg °C)}$, instead of aluminum, would it have taken more or less turns to achieve the same temperature difference?  Justify your answer.  (4 points)\n",
    "\n",
    "Rearranging the formula above for work:\n",
    "\n",
    "$$\n",
    "J = \\frac{W}{Q} \\implies W = JQ \\implies W = J(mc_s \\Delta T)\n",
    "$$\n",
    "\n",
    "We see that work and heat are proportional to each other by the constant $J$ ($4.1860 \\frac{J}{cal}$). Since work is directly proportional to heat, which is directly proportional to the specific heat of a material, decreasing the specific heat would cause the amount of work we need to do to go down. Therefore, if we had used a steel cylinder, we would have been able to achieve the same temperature difference with less turns (work is proportional to turns)."
   ]
  },
  {
   "cell_type": "code",
   "execution_count": null,
   "metadata": {},
   "outputs": [],
   "source": []
  }
 ],
 "metadata": {
  "kernelspec": {
   "display_name": "Python 3",
   "language": "python",
   "name": "python3"
  },
  "language_info": {
   "codemirror_mode": {
    "name": "ipython",
    "version": 3
   },
   "file_extension": ".py",
   "mimetype": "text/x-python",
   "name": "python",
   "nbconvert_exporter": "python",
   "pygments_lexer": "ipython3",
   "version": "3.8.5"
  }
 },
 "nbformat": 4,
 "nbformat_minor": 4
}
