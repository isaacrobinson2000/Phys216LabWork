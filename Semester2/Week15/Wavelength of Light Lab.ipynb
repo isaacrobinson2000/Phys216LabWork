{
 "cells": [
  {
   "cell_type": "markdown",
   "metadata": {},
   "source": [
    "# Wavelength of Light Lab"
   ]
  },
  {
   "cell_type": "markdown",
   "metadata": {},
   "source": [
    "## 1. Write down your measurements of D and as many h values as you were able to measure, including their uncertainties. (6 pts)"
   ]
  },
  {
   "cell_type": "code",
   "execution_count": 28,
   "metadata": {},
   "outputs": [
    {
     "name": "stdout",
     "output_type": "stream",
     "text": [
      "[0.7914587  0.39305802 0.38260721 0.79744577] [0.01211928 0.01480995 0.01481087 0.01204411]\n",
      "[7.11379212e-07 7.66030045e-07 7.46680868e-07 7.15574206e-07] [8.46508329e-09 2.72761397e-08 2.73970220e-08 8.36115203e-09]\n"
     ]
    }
   ],
   "source": [
    "from lablib import *\n",
    "import numpy as np\n",
    "\n",
    "d = 2E-6  # In meters...\n",
    "n = np.array([2, 1, 1, 2])\n",
    "\n",
    "D = 8.2 / 100 # cm -> m\n",
    "D_err = 0.1 / 100 # cm -> m\n",
    "\n",
    "h = np.array([8.3, 3.4, 3.3, 8.4]) / 100 # cm -> m\n",
    "h_err = 0.1 / 100 # cm -> m\n",
    "\n",
    "theta = np.arctan(h / D)\n",
    "theta_err = np.arctan((h + h_err) / (D - D_err)) - theta\n",
    "print(theta, theta_err)\n",
    "\n",
    "lambd = (d * np.sin(theta)) / n\n",
    "lambd_err = ((d / n) * np.sin(theta + theta_err)) - gamma\n",
    "print(lambd, lambd_err)\n",
    "\n",
    "lambd_avg = np.mean(lambd)\n",
    "lambd_avg_err = np.mean(lambd_err)"
   ]
  },
  {
   "cell_type": "markdown",
   "metadata": {},
   "source": [
    "## 2.  What did you calculate for d? (4 pts)\n",
    "\n",
    "Was gotten by taking the reciprocal of the lines per millimeter and then going from millimeters to micrometers."
   ]
  },
  {
   "cell_type": "code",
   "execution_count": 29,
   "metadata": {},
   "outputs": [
    {
     "data": {
      "text/markdown": [
       "D value: $ 2.00 \\pm 0.00 \\: \\mu m $"
      ],
      "text/plain": [
       "<IPython.core.display.Markdown object>"
      ]
     },
     "metadata": {},
     "output_type": "display_data"
    }
   ],
   "source": [
    "display_result(\"D value:\", d * 1e6, 0, \"\\mu m\")"
   ]
  },
  {
   "cell_type": "markdown",
   "metadata": {},
   "source": [
    "## 3.  What is your value for  $\\lambda_{avg}±\\delta \\lambda$ ? (10 pts)"
   ]
  },
  {
   "cell_type": "code",
   "execution_count": 30,
   "metadata": {},
   "outputs": [
    {
     "data": {
      "text/markdown": [
       "Calculated value for $\\lambda_{avg}$: $ 734.92 \\pm 17.87 \\: nm $"
      ],
      "text/plain": [
       "<IPython.core.display.Markdown object>"
      ]
     },
     "metadata": {},
     "output_type": "display_data"
    }
   ],
   "source": [
    "display_result(\"Calculated value for $\\lambda_{avg}$:\", lambd_avg * 1E9, lambd_avg_err * 1E9, \"nm\")"
   ]
  },
  {
   "cell_type": "markdown",
   "metadata": {},
   "source": [
    "## 4.  What is the value of  $\\lambda_{avg}$  and does your value agree?  Justify your answer. (5 pts)"
   ]
  },
  {
   "cell_type": "markdown",
   "metadata": {},
   "source": [
    "My value does not agree with the accepted value of $ 650 \\: nm $, as the error range does not overlap. It's actually quite a bit off, by over $ 50 \\: nm $."
   ]
  }
 ],
 "metadata": {
  "kernelspec": {
   "display_name": "Python 3",
   "language": "python",
   "name": "python3"
  },
  "language_info": {
   "codemirror_mode": {
    "name": "ipython",
    "version": 3
   },
   "file_extension": ".py",
   "mimetype": "text/x-python",
   "name": "python",
   "nbconvert_exporter": "python",
   "pygments_lexer": "ipython3",
   "version": "3.8.5"
  }
 },
 "nbformat": 4,
 "nbformat_minor": 4
}
