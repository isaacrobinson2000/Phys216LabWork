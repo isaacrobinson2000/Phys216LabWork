{
 "cells": [
  {
   "cell_type": "markdown",
   "metadata": {},
   "source": [
    "# Index of Refraction Lab"
   ]
  },
  {
   "cell_type": "code",
   "execution_count": 13,
   "metadata": {},
   "outputs": [],
   "source": [
    "from lablib import *\n",
    "import physplot\n",
    "import numpy as np\n",
    "import pandas as pd"
   ]
  },
  {
   "cell_type": "markdown",
   "metadata": {},
   "source": [
    "### 1.  Please provide the github link for your plot. (10 pt)"
   ]
  },
  {
   "cell_type": "code",
   "execution_count": 17,
   "metadata": {},
   "outputs": [
    {
     "data": {
      "text/html": [
       "<div>\n",
       "<style scoped>\n",
       "    .dataframe tbody tr th:only-of-type {\n",
       "        vertical-align: middle;\n",
       "    }\n",
       "\n",
       "    .dataframe tbody tr th {\n",
       "        vertical-align: top;\n",
       "    }\n",
       "\n",
       "    .dataframe thead th {\n",
       "        text-align: right;\n",
       "    }\n",
       "</style>\n",
       "<table border=\"1\" class=\"dataframe\">\n",
       "  <thead>\n",
       "    <tr style=\"text-align: right;\">\n",
       "      <th></th>\n",
       "      <th>Angle In (deg)</th>\n",
       "      <th>Angle Out (deg)</th>\n",
       "    </tr>\n",
       "  </thead>\n",
       "  <tbody>\n",
       "    <tr>\n",
       "      <th>0</th>\n",
       "      <td>10</td>\n",
       "      <td>7</td>\n",
       "    </tr>\n",
       "    <tr>\n",
       "      <th>1</th>\n",
       "      <td>20</td>\n",
       "      <td>14</td>\n",
       "    </tr>\n",
       "    <tr>\n",
       "      <th>2</th>\n",
       "      <td>25</td>\n",
       "      <td>19</td>\n",
       "    </tr>\n",
       "    <tr>\n",
       "      <th>3</th>\n",
       "      <td>30</td>\n",
       "      <td>21</td>\n",
       "    </tr>\n",
       "    <tr>\n",
       "      <th>4</th>\n",
       "      <td>40</td>\n",
       "      <td>28</td>\n",
       "    </tr>\n",
       "    <tr>\n",
       "      <th>5</th>\n",
       "      <td>-10</td>\n",
       "      <td>-8</td>\n",
       "    </tr>\n",
       "    <tr>\n",
       "      <th>6</th>\n",
       "      <td>-20</td>\n",
       "      <td>-16</td>\n",
       "    </tr>\n",
       "    <tr>\n",
       "      <th>7</th>\n",
       "      <td>-25</td>\n",
       "      <td>-19</td>\n",
       "    </tr>\n",
       "    <tr>\n",
       "      <th>8</th>\n",
       "      <td>-30</td>\n",
       "      <td>-22</td>\n",
       "    </tr>\n",
       "    <tr>\n",
       "      <th>9</th>\n",
       "      <td>-40</td>\n",
       "      <td>-29</td>\n",
       "    </tr>\n",
       "  </tbody>\n",
       "</table>\n",
       "</div>"
      ],
      "text/plain": [
       "   Angle In (deg)  Angle Out (deg)\n",
       "0              10                7\n",
       "1              20               14\n",
       "2              25               19\n",
       "3              30               21\n",
       "4              40               28\n",
       "5             -10               -8\n",
       "6             -20              -16\n",
       "7             -25              -19\n",
       "8             -30              -22\n",
       "9             -40              -29"
      ]
     },
     "metadata": {},
     "output_type": "display_data"
    },
    {
     "data": {
      "image/png": "[encoded data removed]",
      "text/plain": [
       "<Figure size 432x288 with 1 Axes>"
      ]
     },
     "metadata": {
      "needs_background": "light"
     },
     "output_type": "display_data"
    },
    {
     "name": "stdout",
     "output_type": "stream",
     "text": [
      "Slope =  1.3358857622093383   Unitless\n",
      "Error in slope =  0.013887102312365299   Unitless\n",
      "Goodness of fit =  4.570417973073786\n"
     ]
    }
   ],
   "source": [
    "data = pd.read_csv(\"AngleData.csv\")\n",
    "display(data)\n",
    "\n",
    "theta_i = data[\"Angle In (deg)\"]\n",
    "theta_r = data[\"Angle Out (deg)\"]\n",
    "\n",
    "order = np.argsort(theta_i)\n",
    "theta_i = theta_i[order]\n",
    "theta_r = theta_r[order]\n",
    "theta_err = 1\n",
    "\n",
    "sin_i = np.sin(np.deg2rad(theta_i))\n",
    "sin_r = np.sin(np.deg2rad(theta_r))\n",
    "\n",
    "sin_i_err = np.sin(np.deg2rad(theta_i + theta_err)) - np.sin(np.deg2rad(theta_i))\n",
    "sin_r_err = np.sin(np.deg2rad(theta_r + theta_err)) - np.sin(np.deg2rad(theta_r))\n",
    "\n",
    "m, dm, N = physplot.plotfit(sin_r, sin_i, sin_i_err, \"Angle of Inflection vs Refraction Graph\", \"Angle of Inflection\", \"Angle of Refraction\", \"Unitless\")"
   ]
  },
  {
   "cell_type": "markdown",
   "metadata": {},
   "source": [
    "### 2.  Please upload the picture of your lab setup. (3 pt)\n",
    "\n",
    "Came to lab, so don't have to upload this..."
   ]
  },
  {
   "cell_type": "markdown",
   "metadata": {},
   "source": [
    "### 3.  What is your value for $n_{H2O} \\pm \\delta n_{H2O}$? (4 pt)"
   ]
  },
  {
   "cell_type": "code",
   "execution_count": 26,
   "metadata": {},
   "outputs": [
    {
     "data": {
      "text/markdown": [
       "Index of Refraction for Water:  $ 1.34 \\pm 0.01 \\:  $"
      ],
      "text/plain": [
       "<IPython.core.display.Markdown object>"
      ]
     },
     "metadata": {},
     "output_type": "display_data"
    }
   ],
   "source": [
    "display_result(\"Index of Refraction for Water: \", m, dm, \"\")"
   ]
  },
  {
   "cell_type": "markdown",
   "metadata": {},
   "source": [
    "### 4.  What is the accepted value of $n_{H2O}$?  Does your value agree? (4 pt)\n",
    "\n",
    "As seen below, my value agrees with the accepted value, as the error ranges overlap. It is also extremely close (yay!)."
   ]
  },
  {
   "cell_type": "code",
   "execution_count": 25,
   "metadata": {},
   "outputs": [
    {
     "data": {
      "text/markdown": [
       "Accepted Value: $1.33$"
      ],
      "text/plain": [
       "<IPython.core.display.Markdown object>"
      ]
     },
     "metadata": {},
     "output_type": "display_data"
    },
    {
     "data": {
      "text/markdown": [
       "Do the values agree? Yes!"
      ],
      "text/plain": [
       "<IPython.core.display.Markdown object>"
      ]
     },
     "metadata": {},
     "output_type": "display_data"
    }
   ],
   "source": [
    "markdown(f\"Accepted Value: ${1.33}$\")\n",
    "markdown(f\"Do the values agree? {'Yes!' if(values_agree(m, dm, 1.33, 0)) else 'No!'}\")"
   ]
  },
  {
   "cell_type": "markdown",
   "metadata": {},
   "source": [
    "### 5.  If we had used a semi-circle of glass instead of water, would the slope of your plot increased, decreased or stayed the same? (4 pt)"
   ]
  },
  {
   "cell_type": "markdown",
   "metadata": {},
   "source": [
    "$$\n",
    "\\frac{n_{H2O}}{n_{air}}\\sin(\\theta_r) = \\sin(\\theta_i) \\implies \\frac{n_{H2O}}{1}\\sin(\\theta_r) = \\sin(\\theta_i) \\implies n_{H2O}\\sin(\\theta_r) = \\sin(\\theta_i) \\implies mx=y\n",
    "$$\n",
    "\n",
    "Considering the slope of our plot above is equal to our index of refraction for the transition material (this happens because the index of refraction in air equals 1, so it disappears), and glass has a higher index of refraction then water, we would expect the slope of our plot to be increase."
   ]
  },
  {
   "cell_type": "code",
   "execution_count": null,
   "metadata": {},
   "outputs": [],
   "source": []
  }
 ],
 "metadata": {
  "kernelspec": {
   "display_name": "Python 3",
   "language": "python",
   "name": "python3"
  },
  "language_info": {
   "codemirror_mode": {
    "name": "ipython",
    "version": 3
   },
   "file_extension": ".py",
   "mimetype": "text/x-python",
   "name": "python",
   "nbconvert_exporter": "python",
   "pygments_lexer": "ipython3",
   "version": "3.8.5"
  }
 },
 "nbformat": 4,
 "nbformat_minor": 5
}
