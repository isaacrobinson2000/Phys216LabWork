{
 "cells": [
  {
   "cell_type": "markdown",
   "metadata": {},
   "source": [
    "## Importing files using numpy's genfromtxt() and how to index and slice arrays"
   ]
  },
  {
   "cell_type": "markdown",
   "metadata": {},
   "source": [
    "This week we'll learn how to import files which is very handy if you have large data sets.  It's even handy if you don't want have to type in all of your data by hand if you've done your data taking in a text file for example.\n",
    "Once the data is imported into an array (generally a 2D array), we'll learn how to grab the data we want to assign to our x and y variables for plotting.\n",
    "\n",
    "Everyone download and open up the PHSX218_Week1 Jupyter notebook from Moodle or a Google Colab so that you can be ready to do some array work here in a bit."
   ]
  },
  {
   "cell_type": "code",
   "execution_count": 19,
   "metadata": {},
   "outputs": [
    {
     "name": "stdout",
     "output_type": "stream",
     "text": [
      "2\n",
      "[1 2]\n"
     ]
    }
   ],
   "source": [
    "import numpy as np\n",
    "import matplotlib.pyplot as plt\n",
    "\n",
    "#Create a couple simple arrays\n",
    "#1D array\n",
    "arr1 = np.array([2,4,5,6,8])\n",
    "#2D array\n",
    "arr2 = np.array([[1,2],[2,3],[6,8],[7,9]])\n",
    "\n",
    "#Draw on board to show 2D array and indices [row,col]\n",
    "\n",
    "#Indexing starts at 0, so the first element in an array is the zeroth\n",
    "\n",
    "print(arr1[0])\n",
    "print(arr2[0])"
   ]
  },
  {
   "cell_type": "markdown",
   "metadata": {},
   "source": [
    "Slicing means to grab portions of the array based on what you need.\n",
    "\n",
    "1. a[start:stop]  # items start through stop-1\n",
    "2. a[start:]      # items start through the rest of the array\n",
    "3. a[:stop]       # items from the beginning through stop-1\n",
    "4. a[:]           # a copy of the whole array\n",
    "\n",
    "\n",
    "The key point to remember is that the :stop value represents the first value that is not in the selected slice. So, the difference between stop and start is the number of elements selected.\n",
    "\n",
    "We will not be covering \"advanced\" slicing techniques"
   ]
  },
  {
   "cell_type": "code",
   "execution_count": 2,
   "metadata": {},
   "outputs": [
    {
     "name": "stdout",
     "output_type": "stream",
     "text": [
      "[2 4 5]\n",
      "[[2 3]\n",
      " [6 8]]\n"
     ]
    }
   ],
   "source": [
    "x = arr1[0:3]\n",
    "print(x)\n",
    "y = arr2[1:3]\n",
    "print (y)"
   ]
  },
  {
   "cell_type": "code",
   "execution_count": 3,
   "metadata": {},
   "outputs": [
    {
     "data": {
      "text/plain": [
       "array([2, 3])"
      ]
     },
     "execution_count": 3,
     "metadata": {},
     "output_type": "execute_result"
    }
   ],
   "source": [
    "#We don't have to use print statements or assign to variables if \n",
    "#we just want to look at some slices\n",
    "arr2[1]"
   ]
  },
  {
   "cell_type": "code",
   "execution_count": 4,
   "metadata": {},
   "outputs": [
    {
     "data": {
      "text/plain": [
       "array([[1, 2],\n",
       "       [2, 3],\n",
       "       [6, 8]])"
      ]
     },
     "execution_count": 4,
     "metadata": {},
     "output_type": "execute_result"
    }
   ],
   "source": [
    "arr2[:3]"
   ]
  },
  {
   "cell_type": "markdown",
   "metadata": {},
   "source": [
    "In a 2D array, the indices are [row,col]  Let's look at my drawing on the whiteboard."
   ]
  },
  {
   "cell_type": "markdown",
   "metadata": {},
   "source": [
    "So then if we want to grab the entire first column of data, we can do the following:"
   ]
  },
  {
   "cell_type": "code",
   "execution_count": 5,
   "metadata": {},
   "outputs": [
    {
     "name": "stdout",
     "output_type": "stream",
     "text": [
      "[1 2 6 7]\n"
     ]
    }
   ],
   "source": [
    "x = arr2[:,0] #: for all the rows, and 0 for the zeroth column only\n",
    "print (x)"
   ]
  },
  {
   "cell_type": "markdown",
   "metadata": {},
   "source": [
    "### Head to the breakout rooms for about 5 minutes to work on the following and then we'll come back \n",
    "1. With the 2D array, assign the first column of data to a variable x, and assign the second column of data to a variable y. Print out your results\n",
    "2. With the 2D array, assign the first two rows of the first column of data to a variable z and print out result. (your result should be [1,2])"
   ]
  },
  {
   "cell_type": "code",
   "execution_count": 18,
   "metadata": {},
   "outputs": [
    {
     "name": "stdout",
     "output_type": "stream",
     "text": [
      "[[1 2]\n",
      " [2 3]\n",
      " [6 8]\n",
      " [7 9]]\n",
      "[1 2 6 7] [2 3 8 9]\n",
      "[1 2]\n"
     ]
    }
   ],
   "source": [
    "print(arr2)\n",
    "\n",
    "x, y = arr2[:, 0], arr2[:, 1]\n",
    "print(x, y)\n",
    "\n",
    "z = x[:2]\n",
    "print(z)"
   ]
  },
  {
   "cell_type": "markdown",
   "metadata": {},
   "source": [
    "#### Let's look at importing data files and doing some plotting and analysis.  To do this we'll use Numpy's genfromtxt function.  There are a lot of options available with genfromtxt as shown in the API (Application Progamming Interface) below, which can make it seem really confusing at first, so we're going to keep it simple!"
   ]
  },
  {
   "cell_type": "markdown",
   "metadata": {},
   "source": [
    "numpy.genfromtxt(fname, dtype=<class 'float'>, comments='#', delimiter=None, skip_header=0, skip_footer=0, converters=None, missing_values=None, filling_values=None, usecols=None, names=None, excludelist=None, deletechars=\" !#$%&'()*+, -./:;<=>?@[]^{|}~\", replace_space='_', autostrip=False, case_sensitive=True, defaultfmt='f%i', unpack=None, usemask=False, loose=True, invalid_raise=True, max_rows=None, encoding='bytes')"
   ]
  },
  {
   "cell_type": "markdown",
   "metadata": {},
   "source": [
    "Satellites in low Earth orbit (LEO) operate between 250 and 1500 km above the ground. Because Earth's atmosphere extends hundreds of miles into space, LEOs eventually experience enough friction that they fall back to Earth and burn up. The accompanying text files gives the number of low Earth orbit satellites that reentered the Earth's atmosphere and the number of sunspots for each year since 1969. Graph the number of reentered satellites vs. the number of sunspots. Source: NASA Goddard Space Flight Center.\n",
    "\n",
    "\n",
    "Look first at satellite-failures.txt file.  "
   ]
  },
  {
   "cell_type": "code",
   "execution_count": 30,
   "metadata": {},
   "outputs": [
    {
     "name": "stdout",
     "output_type": "stream",
     "text": [
      "[[105.  26.]\n",
      " [107.  25.]\n",
      " [ 66.  19.]\n",
      " [ 67.  12.]\n",
      " [ 37.  14.]\n",
      " [ 32.  21.]\n",
      " [ 14.  15.]\n",
      " [ 12.  16.]\n",
      " [ 26.  18.]\n",
      " [ 87.  33.]\n",
      " [145.  42.]\n",
      " [149.  41.]\n",
      " [146.  32.]\n",
      " [115.  19.]\n",
      " [ 65.  28.]\n",
      " [ 43.  14.]\n",
      " [ 16.  17.]\n",
      " [ 11.  16.]\n",
      " [ 29.  13.]\n",
      " [101.  33.]\n",
      " [162.  45.]\n",
      " [145.  30.]\n",
      " [144.  40.]\n",
      " [ 93.  41.]\n",
      " [ 54.  28.]\n",
      " [ 31.  17.]\n",
      " [ 18.  20.]\n",
      " [  8.  22.]\n",
      " [ 20.  21.]\n",
      " [ 62.  30.]\n",
      " [ 96.  25.]\n",
      " [124.  37.]\n",
      " [123.  41.]\n",
      " [109.  38.]\n",
      " [ 66.  31.]\n",
      " [ 43.  19.]]\n"
     ]
    }
   ],
   "source": [
    "data = np.genfromtxt(\"satellite-failures.txt\",skip_header=1,usecols=(1,2))\n",
    "print(data)"
   ]
  },
  {
   "cell_type": "code",
   "execution_count": 22,
   "metadata": {},
   "outputs": [
    {
     "name": "stdout",
     "output_type": "stream",
     "text": [
      "(36, 2)\n"
     ]
    }
   ],
   "source": [
    "# how big is the array?  (rows,cols) will be returned\n",
    "print (data.shape)\n",
    "\n",
    "#I want to select every row (:), but only those\n",
    "#whose second index is 0. This gives us the first column\n",
    "sunspots = data[:,0]\n",
    "\n",
    "#I want to select every row, but only the second thing in each\n",
    "#row, giving us our satellites data\n",
    "satellites = data[:,1]\n",
    "\n",
    "#print (sunspots)\n",
    "#print (satellites)\n"
   ]
  },
  {
   "cell_type": "code",
   "execution_count": 27,
   "metadata": {},
   "outputs": [
    {
     "name": "stdout",
     "output_type": "stream",
     "text": [
      "13.952004077267041 0.1635072456826606\n"
     ]
    },
    {
     "data": {
      "text/plain": [
       "[<matplotlib.lines.Line2D at 0x7f07a619ad60>]"
      ]
     },
     "execution_count": 27,
     "metadata": {},
     "output_type": "execute_result"
    },
    {
     "data": {
      "image/png": "[encoded data removed]",
      "text/plain": [
       "<Figure size 432x288 with 1 Axes>"
      ]
     },
     "metadata": {
      "needs_background": "light"
     },
     "output_type": "display_data"
    }
   ],
   "source": [
    "intercept, slope = np.polynomial.polynomial.polyfit(sunspots,satellites,1)\n",
    "\n",
    "print(intercept,slope)\n",
    "\n",
    "#create best fit line's x and y points\n",
    "x = np.linspace(0,160)\n",
    "\n",
    "#best fit line\n",
    "y = slope * x + intercept\n",
    "\n",
    "plt.xlabel(\"# of Sunspots in a year\")\n",
    "plt.ylabel(\"# of Satellites re-entering in a year\")\n",
    "plt.title(\"Satellites burning up vs sunspot count\")\n",
    "plt.scatter(sunspots,satellites,color=\"purple\")\n",
    "plt.plot(x,y)"
   ]
  },
  {
   "cell_type": "markdown",
   "metadata": {},
   "source": [
    "### Predict how many satellites would burn up if there were 400 sunspots in a year."
   ]
  },
  {
   "cell_type": "code",
   "execution_count": 29,
   "metadata": {},
   "outputs": [
    {
     "name": "stdout",
     "output_type": "stream",
     "text": [
      "Prediction for 400 sunspots: 79.35490235033129 satalites burning up.\n"
     ]
    }
   ],
   "source": [
    "sp_at = 400\n",
    "prediction = slope * sp_at + intercept\n",
    "print(f\"Prediction for {sp_at} sunspots: {prediction} satalites burning up.\")"
   ]
  },
  {
   "cell_type": "markdown",
   "metadata": {},
   "source": [
    "### Lab Assignment\n",
    "Mauna Loa Observatory on the \"Big Island\" of Hawaii has been recording atmospheric carbon dioxide concentrations for nearly half a century beginning in the year 1958. Readings are taken continuously, but only the monthly averages are reported. Values are reported in parts per million (ppm) Construct a graph of atmospheric CO2 concentration vs. time. What two obvious behaviors are revealed in your graph? Split the data set in half, make two plots and perform a linear regression analysis on the data for the years… 1958-1987 and 1988-2017. Compare the behavior of CO2 levels in the first half of the data set to the second half. If the rate of CO2 concentration(ppm)/year continues as it has in the 1988-2017 range, what would the CO2 concentration(ppm) be in 2040?\n",
    "\n",
    "Source: Scripps Institution of Oceanography\n",
    "\n",
    "Use the co2-mauna-loa.txt file from Moodle.\n",
    "\n",
    "For the Moodle quiz, there are a few questions related to the review topics, and then you'll submit a github link for your notebook. "
   ]
  },
  {
   "cell_type": "code",
   "execution_count": 70,
   "metadata": {},
   "outputs": [
    {
     "data": {
      "text/plain": [
       "[<matplotlib.lines.Line2D at 0x7f079e922760>]"
      ]
     },
     "execution_count": 70,
     "metadata": {},
     "output_type": "execute_result"
    },
    {
     "data": {
      "image/png": "[encoded data removed]",
      "text/plain": [
       "<Figure size 432x288 with 1 Axes>"
      ]
     },
     "metadata": {
      "needs_background": "light"
     },
     "output_type": "display_data"
    }
   ],
   "source": [
    "co_data = np.genfromtxt(\"co2-mauna-loa.txt\", skip_header=2)\n",
    "year, co_ppm = co_data.T\n",
    "\n",
    "fig = plt.figure()\n",
    "ax = fig.gca()\n",
    "ax.set_title(\"$CO_2$ Levels from 1958 to 2017\")\n",
    "ax.set_ylabel(\"$CO_2$ Level (ppm)\")\n",
    "ax.set_xlabel(\"Time (Years)\")\n",
    "ax.plot(year, co_ppm, color=\"Red\")\n",
    "\n"
   ]
  },
  {
   "cell_type": "code",
   "execution_count": 74,
   "metadata": {},
   "outputs": [
    {
     "data": {
      "image/png": "[encoded data removed]",
      "text/plain": [
       "<Figure size 432x288 with 1 Axes>"
      ]
     },
     "metadata": {
      "needs_background": "light"
     },
     "output_type": "display_data"
    },
    {
     "data": {
      "image/png": "[encoded data removed]",
      "text/plain": [
       "<Figure size 432x288 with 1 Axes>"
      ]
     },
     "metadata": {
      "needs_background": "light"
     },
     "output_type": "display_data"
    }
   ],
   "source": [
    "from matplotlib.patches import Patch\n",
    "\n",
    "nothing = Patch(color=\"none\")\n",
    "\n",
    "division_yrs = [(1958, 1987), (1988, 2017)]\n",
    "\n",
    "for low, high in division_yrs:\n",
    "    in_range = (low < year) & (year <= high)\n",
    "    in_yr, in_co_ppm = year[in_range], co_ppm[in_range]\n",
    "    \n",
    "    intercept, slope = np.polynomial.polynomial.polyfit(in_yr, in_co_ppm, 1)\n",
    "    \n",
    "    pred_co = slope * in_yr + intercept\n",
    "    \n",
    "    fig = plt.figure()\n",
    "    ax = fig.gca()\n",
    "    ax.set_title(f\"$CO_2$ Levels from {low} to {high}\")\n",
    "    ax.set_ylabel(\"$CO_2$ Level (ppm)\")\n",
    "    ax.set_xlabel(\"Time (Years)\")\n",
    "    ax.legend((nothing, nothing, nothing), (f\"Slope: {slope:.02f}\", f\"Intercept: {intercept:.02f}\"))\n",
    "    ax.scatter(in_yr, in_co_ppm, s=2, color=\"blue\")\n",
    "    ax.plot(in_yr, pred_co, color=\"red\")"
   ]
  },
  {
   "cell_type": "code",
   "execution_count": 80,
   "metadata": {},
   "outputs": [
    {
     "name": "stdout",
     "output_type": "stream",
     "text": [
      "Prediction for 2040: CO2 Level of 445.07 ppm.\n"
     ]
    }
   ],
   "source": [
    "print(f\"Prediction for 2040: CO2 Level of {slope * 2040 + intercept:0.2f} ppm.\")"
   ]
  },
  {
   "cell_type": "code",
   "execution_count": null,
   "metadata": {},
   "outputs": [],
   "source": []
  }
 ],
 "metadata": {
  "kernelspec": {
   "display_name": "Python 3",
   "language": "python",
   "name": "python3"
  },
  "language_info": {
   "codemirror_mode": {
    "name": "ipython",
    "version": 3
   },
   "file_extension": ".py",
   "mimetype": "text/x-python",
   "name": "python",
   "nbconvert_exporter": "python",
   "pygments_lexer": "ipython3",
   "version": "3.8.5"
  }
 },
 "nbformat": 4,
 "nbformat_minor": 4
}
