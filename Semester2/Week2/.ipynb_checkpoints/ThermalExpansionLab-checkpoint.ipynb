{
 "cells": [
  {
   "cell_type": "markdown",
   "metadata": {},
   "source": [
    "# Thermal Expansion Lab\n",
    "\n",
    "## Go to the bottom to see quiz questions/answers.\n",
    "\n",
    "Paste in usual error method library."
   ]
  },
  {
   "cell_type": "code",
   "execution_count": 1,
   "metadata": {},
   "outputs": [],
   "source": [
    "import numpy as np\n",
    "from typing import Iterable, Tuple, Union\n",
    "\n",
    "# Define our rules...\n",
    "\n",
    "def rule_1(c, error_val):\n",
    "    return abs(c) * error_val\n",
    "\n",
    "def rule_2(c, val, error_val, power):\n",
    "    return abs(c * power * val ** (power - 1)) * error_val\n",
    "\n",
    "def rule_3(*err_vals: Iterable[float]) -> float:\n",
    "    \"\"\"\n",
    "    Calculate rule 3 from the paper 'Treatment of Data'.\n",
    "    \n",
    "    @param err_vals: A list of parameters, being the errors in each value. It is assumed they were summed \n",
    "                     together to get the final value.\n",
    "    \n",
    "    @returns: The error of all of the sum of the values...\n",
    "    \"\"\"\n",
    "    total = 0\n",
    "    \n",
    "    for err in err_vals:\n",
    "        total += err ** 2\n",
    "    \n",
    "    return np.sqrt(total)\n",
    "\n",
    "\n",
    "def rule_4(value: float, *error_list: Iterable[Tuple[float, float, float]]) -> float:\n",
    "    \"\"\"\n",
    "    Calculate rule 4 from the paper 'Treatment of Data'.\n",
    "    \n",
    "    @param value: The value of the thing we are trying to calculate the error of.\n",
    "    @param error_list: A list of length 3 tuples. \n",
    "                       Each tuple should contain:\n",
    "                       - A float: A value in the error formula.\n",
    "                       - A float: The measured error in the above value.\n",
    "                       - A float: The power of the above value in the multiplicative formula.\n",
    "\n",
    "    @returns: A float, being the error in 'value'.\n",
    "    \"\"\"\n",
    "    total = 0\n",
    "    \n",
    "    for x, x_err, power in error_list:\n",
    "        total += (power * (x_err / x)) ** 2\n",
    "        \n",
    "    return abs(value) * np.sqrt(total)\n",
    "\n",
    "# Fixed bug in checking code below...\n",
    "FloatVec = Union[float, np.ndarray] \n",
    "BoolVec = Union[bool, np.ndarray]\n",
    "\n",
    "def values_agree(val_1: FloatVec, err_1: FloatVec, val_2: FloatVec, err_2: FloatVec) -> BoolVec:\n",
    "    \"\"\"\n",
    "    Determines if the values in 2 vectors(arrays) agree with each other, given there uncertainty values. \n",
    "    \n",
    "    @param val_1: The 1st array of values.\n",
    "    @param err_1: The uncertainty values for the 1st vector.\n",
    "    @param val_2: The 2nd array of values.\n",
    "    @param err_2: The uncertainty values for the 2st vector. \n",
    "    \n",
    "    @returns: A vector of booleans, being whether each value agrees with the other.\n",
    "    \"\"\"\n",
    "    # Grab the ranges for each value...\n",
    "    r11, r12 = val_1 - err_1, val_1 + err_1\n",
    "    r21, r22 = val_2 - err_2, val_2 + err_2\n",
    "    \n",
    "    # The ranges are sorted (r21 <= r22 and r11 <= r12), so the simple 2 checks below are enough. \n",
    "    # Check 1: Does r21(lowest value of 2nd range) land above the 1st range? If so fail...\n",
    "    # Check 2: Does r22(highest value of 2nd range) fall below the 1st range? If so fail...\n",
    "    return ((r21 <= r12) & (r11 <= r22))"
   ]
  },
  {
   "cell_type": "markdown",
   "metadata": {},
   "source": [
    "## Pull in Data and Compute Coefficients of Linear Expansion"
   ]
  },
  {
   "cell_type": "code",
   "execution_count": 3,
   "metadata": {},
   "outputs": [
    {
     "data": {
      "text/markdown": [
       "Coefficient of linear expansion for Aluminium Tube: $27.62 \\pm 0.39\\text{ } (\\cdot 10^{-6} m)$"
      ],
      "text/plain": [
       "<IPython.core.display.Markdown object>"
      ]
     },
     "metadata": {},
     "output_type": "display_data"
    },
    {
     "data": {
      "text/markdown": [
       "Agrees with accepted value: No"
      ],
      "text/plain": [
       "<IPython.core.display.Markdown object>"
      ]
     },
     "metadata": {},
     "output_type": "display_data"
    },
    {
     "data": {
      "text/markdown": [
       "Coefficient of linear expansion for Copper Tube: $18.57 \\pm 0.35\\text{ } (\\cdot 10^{-6} m)$"
      ],
      "text/plain": [
       "<IPython.core.display.Markdown object>"
      ]
     },
     "metadata": {},
     "output_type": "display_data"
    },
    {
     "data": {
      "text/markdown": [
       "Agrees with accepted value: No"
      ],
      "text/plain": [
       "<IPython.core.display.Markdown object>"
      ]
     },
     "metadata": {},
     "output_type": "display_data"
    },
    {
     "name": "stdout",
     "output_type": "stream",
     "text": [
      "\n"
     ]
    },
    {
     "data": {
      "text/markdown": [
       "Ratio of experimental over accepted value for Aluminium Tube: $1.105 \\pm 0.016$"
      ],
      "text/plain": [
       "<IPython.core.display.Markdown object>"
      ]
     },
     "metadata": {},
     "output_type": "display_data"
    },
    {
     "data": {
      "text/markdown": [
       "Ratio of experimental over accepted value for Copper Tube: $1.093 \\pm 0.020$"
      ],
      "text/plain": [
       "<IPython.core.display.Markdown object>"
      ]
     },
     "metadata": {},
     "output_type": "display_data"
    },
    {
     "data": {
      "text/markdown": [
       "Do the ratios agree? Yes"
      ],
      "text/plain": [
       "<IPython.core.display.Markdown object>"
      ]
     },
     "metadata": {},
     "output_type": "display_data"
    }
   ],
   "source": [
    "import pandas as pd\n",
    "import numpy as np\n",
    "from IPython.display import Markdown\n",
    "\n",
    "data = pd.read_csv(\"pipedata.csv\", index_col=0)\n",
    "\n",
    "dL = (data[\"Dial (final) (mm)\"] / 1000) - (data[\"Dial (init) (mm)\"] / 1000)\n",
    "err_dL = rule_3(data[\"Err Dial (mm)\"] / 1000, data[\"Err Dial (mm)\"] / 1000)\n",
    "\n",
    "dT = data[\"T (final) (C )\"] - data[\"T (init) (C )\"]\n",
    "err_dT = rule_3(data[\"Err T (C )\"], data[\"Err T (C )\"])\n",
    "\n",
    "L = data[\"L (cm)\"] / 100\n",
    "err_L = data[\"Err L (mm)\"] / 1000\n",
    "\n",
    "alpha = dL / (L * dT)\n",
    "err_alpha = rule_4(alpha, (dL, err_dL, 1), (L, err_L, -1), (dT, err_dT, -1))\n",
    "\n",
    "# We will use these later...\n",
    "ACCEPTED_VALUES = {\n",
    "    \"Aluminium Tube\": 25e-6,\n",
    "    \"Copper Tube\": 17e-6\n",
    "}\n",
    "\n",
    "# Print coefficents to the terminal...\n",
    "for k in alpha.keys():\n",
    "    alpha_exp_6 = alpha[k] * 1e6\n",
    "    err_alpha_exp_6 = err_alpha[k] * 1e6\n",
    "    display(Markdown(fr\"Coefficient of linear expansion for {k}: ${alpha_exp_6:.02f} \\pm {err_alpha_exp_6:.02f}\\text{{ }} (\\cdot 10^{{-6}} m)$\"))\n",
    "    display(Markdown(f\"Agrees with accepted value: {'Yes' if(values_agree(alpha[k], err_alpha[k], ACCEPTED_VALUES[k], 0)) else 'No'}\"))\n",
    "\n",
    "# Look at ratio of experimental vs accepted value. (Are we over by a constant amount?)\n",
    "print()\n",
    "ratios = [None] * 2\n",
    "err_ratios = [None] * 2\n",
    "for i, k in enumerate(alpha.keys()):\n",
    "    ratio = alpha[k] / ACCEPTED_VALUES[k]\n",
    "    err_ratio = rule_4(ratio, (alpha[k], err_alpha[k], 1), (ACCEPTED_VALUES[k], 0, 1))\n",
    "    display(Markdown(fr\"Ratio of experimental over accepted value for {k}: ${ratio:.03f} \\pm {err_ratio:.03f}$\"))\n",
    "    ratios[i] = ratio\n",
    "    err_ratios[i] = err_ratio\n",
    "\n",
    "# Last check: Do the ratios agree? (Are we off by a consistant percentage that agrees for both pipes?)\n",
    "display(Markdown(fr\"Do the ratios agree? {'Yes' if(values_agree(ratios[0], err_ratios[0], ratios[1], err_ratios[1])) else 'No'}\"))"
   ]
  },
  {
   "cell_type": "markdown",
   "metadata": {},
   "source": [
    "# Lab Quiz Questions\n",
    "\n",
    "#### 1.  What are the value of  α±δα  you determined for the aluminum and copper tubes?\n",
    "\n",
    "I got a coefficient of $27.62 \\pm 0.39 \\text{ }(\\cdot10^{-6}m)$ for the aluminum tube, and a coefficient of $18.57 \\pm 0.35 \\text{ }(\\cdot10^{-6}m)$ for the copper tube.\n",
    "\n",
    "#### 2.  What are the accepted values of  α±δα  for aluminum and copper tubes?\n",
    "\n",
    "The accepted value linear expansion coefficient for aluminum (as stated in the book) is $25 \\cdot 10^{-6}m$, and the accepted value for copper is $17 \\cdot 10^{-6}m$. \n",
    "\n",
    "#### 3. Do your results agree with accepted values?\n",
    "\n",
    "Looking at the code above where results are printed, it can be seen that the results do not agree with the accepted values. Both calculated values overshoot the accepted values by about 10% (See ratio of experimental value vs accepted value).\n",
    "\n",
    "#### 4. If your results do not agree within uncertainties to the accepted values, suggest possible reasons for the discrepancy and how this error would affect your results. If your results indicate that systematic or random error(s) may be present, try to determine some possible sources of the error in the experiment.\n",
    "\n",
    "Looking at the results, it seems this experiment got incorrect results to to systematic error. We can conclude this because although results are not accurate, it seems the results are precise (We are over by 10% for both parts). Although one could argue the discrepancy is due to not factoring in enough error, I would argue this is not the case, as the amount we are over by is consistent between the two experiments (10%), and also large. Rather, I would argue the issue is that the accepted values were derived at sea level, and we are not at sea level (978.1 m above it). Being above sea level, we would expect to see a drop in atmospheric pressure, which would 'push' on the metal less, allowing it to stretch farther. This could cause the error in the experiment, as we are over the expected stretch factor by a consistent percentage. This would indicate that the linear expansion formula is only valid if the pressure is constant, and therefore a new formula would need to be derived to account for pressure. (Personally, I would expect the $\\alpha$ to be inversely proportional to the pressure.) \n",
    "\n",
    "#### 5.  Is the value for α constant in copper regardless of the axis along which the thermal expansion is measured?\n",
    "\n",
    "Copper is an isotropic metal, and therefore it's $\\alpha$ value is constant, no matter what axes the thermal expansion is measured on."
   ]
  },
  {
   "cell_type": "code",
   "execution_count": null,
   "metadata": {},
   "outputs": [],
   "source": []
  }
 ],
 "metadata": {
  "kernelspec": {
   "display_name": "Python 3",
   "language": "python",
   "name": "python3"
  },
  "language_info": {
   "codemirror_mode": {
    "name": "ipython",
    "version": 3
   },
   "file_extension": ".py",
   "mimetype": "text/x-python",
   "name": "python",
   "nbconvert_exporter": "python",
   "pygments_lexer": "ipython3",
   "version": "3.8.5"
  }
 },
 "nbformat": 4,
 "nbformat_minor": 4
}
