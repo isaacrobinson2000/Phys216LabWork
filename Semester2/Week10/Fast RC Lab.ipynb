{
 "cells": [
  {
   "cell_type": "markdown",
   "metadata": {},
   "source": [
    "# Fast RC Lab\n",
    "\n",
    "Usual Error and Display Code. I decided to move it out as a library..."
   ]
  },
  {
   "cell_type": "code",
   "execution_count": 81,
   "metadata": {},
   "outputs": [],
   "source": [
    "from lablib import *"
   ]
  },
  {
   "cell_type": "markdown",
   "metadata": {},
   "source": [
    "## Measurements\n",
    "\n",
    "Grabbing the data we collected:"
   ]
  },
  {
   "cell_type": "code",
   "execution_count": 82,
   "metadata": {},
   "outputs": [
    {
     "data": {
      "text/html": [
       "<div>\n",
       "<style scoped>\n",
       "    .dataframe tbody tr th:only-of-type {\n",
       "        vertical-align: middle;\n",
       "    }\n",
       "\n",
       "    .dataframe tbody tr th {\n",
       "        vertical-align: top;\n",
       "    }\n",
       "\n",
       "    .dataframe thead th {\n",
       "        text-align: right;\n",
       "    }\n",
       "</style>\n",
       "<table border=\"1\" class=\"dataframe\">\n",
       "  <thead>\n",
       "    <tr style=\"text-align: right;\">\n",
       "      <th></th>\n",
       "      <th>Experiment</th>\n",
       "      <th>t_half (ms)</th>\n",
       "      <th>t_half_err (ms)</th>\n",
       "      <th>alt_t_half_err (ms)</th>\n",
       "      <th>C1 (nF)</th>\n",
       "      <th>C2 (nF)</th>\n",
       "      <th>C_err (uF)</th>\n",
       "      <th>R (kOhm)</th>\n",
       "      <th>R_err (kOhm)</th>\n",
       "    </tr>\n",
       "  </thead>\n",
       "  <tbody>\n",
       "    <tr>\n",
       "      <th>0</th>\n",
       "      <td>1</td>\n",
       "      <td>0.082</td>\n",
       "      <td>0.002</td>\n",
       "      <td>0.018</td>\n",
       "      <td>10.5</td>\n",
       "      <td>10.6</td>\n",
       "      <td>0.1</td>\n",
       "      <td>9.83</td>\n",
       "      <td>0.01</td>\n",
       "    </tr>\n",
       "    <tr>\n",
       "      <th>1</th>\n",
       "      <td>2</td>\n",
       "      <td>0.150</td>\n",
       "      <td>0.002</td>\n",
       "      <td>0.018</td>\n",
       "      <td>10.5</td>\n",
       "      <td>10.6</td>\n",
       "      <td>0.1</td>\n",
       "      <td>9.83</td>\n",
       "      <td>0.01</td>\n",
       "    </tr>\n",
       "    <tr>\n",
       "      <th>2</th>\n",
       "      <td>3</td>\n",
       "      <td>0.048</td>\n",
       "      <td>0.002</td>\n",
       "      <td>0.018</td>\n",
       "      <td>10.5</td>\n",
       "      <td>10.6</td>\n",
       "      <td>0.1</td>\n",
       "      <td>9.83</td>\n",
       "      <td>0.01</td>\n",
       "    </tr>\n",
       "  </tbody>\n",
       "</table>\n",
       "</div>"
      ],
      "text/plain": [
       "   Experiment  t_half (ms)  t_half_err (ms)  alt_t_half_err (ms)  C1 (nF)  \\\n",
       "0           1        0.082            0.002                0.018     10.5   \n",
       "1           2        0.150            0.002                0.018     10.5   \n",
       "2           3        0.048            0.002                0.018     10.5   \n",
       "\n",
       "   C2 (nF)  C_err (uF)  R (kOhm)  R_err (kOhm)  \n",
       "0     10.6         0.1      9.83          0.01  \n",
       "1     10.6         0.1      9.83          0.01  \n",
       "2     10.6         0.1      9.83          0.01  "
      ]
     },
     "metadata": {},
     "output_type": "display_data"
    }
   ],
   "source": [
    "data = pd.read_csv(\"data.csv\")\n",
    "display(data)"
   ]
  },
  {
   "cell_type": "markdown",
   "metadata": {},
   "source": [
    "### 1) Write down your measurements of $t_{1/2}$ for all three of your trials: one capacitor, two in series, and two in parallel.  Indicate which measurement is which and include the uncertainties.  (4 points)\n",
    "\n",
    "Python code below displays all $t_{1/2}$ values for all 3 parts."
   ]
  },
  {
   "cell_type": "code",
   "execution_count": 83,
   "metadata": {
    "code_folding": []
   },
   "outputs": [
    {
     "data": {
      "text/markdown": [
       "$t_{1/2}$ for trial 1: $ 0.082 \\pm 0.002 \\: ms $"
      ],
      "text/plain": [
       "<IPython.core.display.Markdown object>"
      ]
     },
     "metadata": {},
     "output_type": "display_data"
    },
    {
     "data": {
      "text/markdown": [
       "$t_{1/2}$ for trial 2: $ 0.150 \\pm 0.002 \\: ms $"
      ],
      "text/plain": [
       "<IPython.core.display.Markdown object>"
      ]
     },
     "metadata": {},
     "output_type": "display_data"
    },
    {
     "data": {
      "text/markdown": [
       "$t_{1/2}$ for trial 3: $ 0.048 \\pm 0.002 \\: ms $"
      ],
      "text/plain": [
       "<IPython.core.display.Markdown object>"
      ]
     },
     "metadata": {},
     "output_type": "display_data"
    }
   ],
   "source": [
    "display_result(\n",
    "    [f\"$t_{{1/2}}$ for trial {i}:\" for i in range(1, 4)],\n",
    "    data[\"t_half (ms)\"],\n",
    "    data[\"t_half_err (ms)\"],\n",
    "    \"ms\",\n",
    "    3\n",
    ")"
   ]
  },
  {
   "cell_type": "markdown",
   "metadata": {},
   "source": [
    "### 2) Write down your measurement of the resistance of the resistor including the uncertainty.  (2 points)\n",
    "\n",
    "The resistance value was measured to be $9.83 \\pm 0.01 \\: k \\Omega$. Python code displays that value."
   ]
  },
  {
   "cell_type": "code",
   "execution_count": 84,
   "metadata": {},
   "outputs": [
    {
     "data": {
      "text/markdown": [
       "$R$ for all three trials: $ 9.83 \\pm 0.01 \\: k \\Omega $"
      ],
      "text/plain": [
       "<IPython.core.display.Markdown object>"
      ]
     },
     "metadata": {},
     "output_type": "display_data"
    }
   ],
   "source": [
    "display_result(\n",
    "    f\"$R$ for all three trials:\",\n",
    "    data[\"R (kOhm)\"][0],\n",
    "    data[\"R_err (kOhm)\"][0],\n",
    "    \"k \\Omega\"\n",
    ")"
   ]
  },
  {
   "cell_type": "markdown",
   "metadata": {},
   "source": [
    "### 3) Write down your measurements of the capacitances of the capacitors including the uncertainties.  (3 points)\n",
    "\n",
    "See results under python code below, which displays the values for $C_1$ and $C_2$."
   ]
  },
  {
   "cell_type": "code",
   "execution_count": 85,
   "metadata": {},
   "outputs": [
    {
     "data": {
      "text/markdown": [
       "$C_1$: $ 10.50 \\pm 0.10 \\: nF $"
      ],
      "text/plain": [
       "<IPython.core.display.Markdown object>"
      ]
     },
     "metadata": {},
     "output_type": "display_data"
    },
    {
     "data": {
      "text/markdown": [
       "$C_2$ $ 10.60 \\pm 0.10 \\: nF $"
      ],
      "text/plain": [
       "<IPython.core.display.Markdown object>"
      ]
     },
     "metadata": {},
     "output_type": "display_data"
    }
   ],
   "source": [
    "display_result(\n",
    "    [\"$C_1$:\", \"$C_2$\"],\n",
    "    [data[\"C1 (nF)\"][0], data[\"C2 (nF)\"][0]],\n",
    "    [data[\"C_err (uF)\"][0]] * 2,\n",
    "    \"nF\"\n",
    ")"
   ]
  },
  {
   "cell_type": "markdown",
   "metadata": {},
   "source": [
    "## Results and Analysis\n",
    "\n",
    "### 4) What is your experimental value for the time constant $\\tau$ for the circuit with one capacitor including the uncertainty?  Show your work.  (4 points)\n",
    "### 5) What was the theoretical value of the time constant $\\tau$ for your circuit with one capacitor including the uncertainty?  Show your work.  (4 points)\n",
    "\n",
    "We will merge this into one problem, as I like to do all my computation together. Below is the code that calculates the experimental and theoretical $\\tau$ values for all three exercises. At the bottom, the $\\tau$ values are printed out in a pretty format."
   ]
  },
  {
   "cell_type": "code",
   "execution_count": 86,
   "metadata": {},
   "outputs": [
    {
     "data": {
      "text/markdown": [
       "### Experimental Values"
      ],
      "text/plain": [
       "<IPython.core.display.Markdown object>"
      ]
     },
     "metadata": {},
     "output_type": "display_data"
    },
    {
     "data": {
      "text/markdown": [
       "Experimental $\\tau$ for Exercise 1:  $ 118.30 \\pm 2.89 \\: \\mu s $"
      ],
      "text/plain": [
       "<IPython.core.display.Markdown object>"
      ]
     },
     "metadata": {},
     "output_type": "display_data"
    },
    {
     "data": {
      "text/markdown": [
       "Experimental $\\tau$ for Exercise 2:  $ 216.40 \\pm 2.89 \\: \\mu s $"
      ],
      "text/plain": [
       "<IPython.core.display.Markdown object>"
      ]
     },
     "metadata": {},
     "output_type": "display_data"
    },
    {
     "data": {
      "text/markdown": [
       "Experimental $\\tau$ for Exercise 3:  $ 69.25 \\pm 2.89 \\: \\mu s $"
      ],
      "text/plain": [
       "<IPython.core.display.Markdown object>"
      ]
     },
     "metadata": {},
     "output_type": "display_data"
    },
    {
     "data": {
      "text/markdown": [
       "### Theoretical Values"
      ],
      "text/plain": [
       "<IPython.core.display.Markdown object>"
      ]
     },
     "metadata": {},
     "output_type": "display_data"
    },
    {
     "data": {
      "text/markdown": [
       "Theoretical $\\tau$ for Exercise 1:  $ 103.21 \\pm 0.99 \\: \\mu s $"
      ],
      "text/plain": [
       "<IPython.core.display.Markdown object>"
      ]
     },
     "metadata": {},
     "output_type": "display_data"
    },
    {
     "data": {
      "text/markdown": [
       "Theoretical $\\tau$ for Exercise 2:  $ 207.41 \\pm 1.41 \\: \\mu s $"
      ],
      "text/plain": [
       "<IPython.core.display.Markdown object>"
      ]
     },
     "metadata": {},
     "output_type": "display_data"
    },
    {
     "data": {
      "text/markdown": [
       "Theoretical $\\tau$ for Exercise 3:  $ 51.85 \\pm 0.35 \\: \\mu s $"
      ],
      "text/plain": [
       "<IPython.core.display.Markdown object>"
      ]
     },
     "metadata": {},
     "output_type": "display_data"
    }
   ],
   "source": [
    "# Unpack the raw data...\n",
    "t_half = data[\"t_half (ms)\"] / 1000\n",
    "R = data[\"R (kOhm)\"][0] * 1000\n",
    "C1 = data[\"C1 (nF)\"][0] / 1e9\n",
    "C2 = data[\"C2 (nF)\"][0] / 1e9\n",
    "# Unpack the errors....\n",
    "t_half_err = data[\"t_half_err (ms)\"][0] / 1000\n",
    "R_err = data[\"R_err (kOhm)\"][0] * 1000\n",
    "C_err = data[\"C_err (uF)\"][0] / 1e9\n",
    "\n",
    "# Compute tau experimental... Just t_half / ln(2)\n",
    "tau_e = t_half / np.log(2)\n",
    "tau_e_err = rule_1(1 / np.log(2), t_half_err)\n",
    "\n",
    "# Convert to microseconds for displaying the result.\n",
    "# Experimental Values...\n",
    "display(Markdown(\"### Experimental Values\"))\n",
    "display_result(\n",
    "    [fr\"Experimental $\\tau$ for Exercise {i}: \" for i in range(1, 4)],\n",
    "    tau_e * 1e6,\n",
    "    tau_e_err * 1e6,\n",
    "    \"\\mu s\"\n",
    ")\n",
    "\n",
    "tau_t = np.zeros(3)\n",
    "tau_t_err = np.zeros(3)\n",
    "\n",
    "# Theoretical 1: tau for the single capacitor C1...\n",
    "tau_t[0] = R * C1\n",
    "tau_t_err[0] = rule_4(tau_t[0], (R, R_err, 1), (C1, C_err, 1))\n",
    "\n",
    "# Theoretical 2: tau for the capacitors in parallel.\n",
    "C_comb2 = C1 + C2\n",
    "C_comb2_err = rule_3(C_err, C_err)\n",
    "\n",
    "tau_t[1] = C_comb2 * R\n",
    "tau_t_err[1] = rule_4(tau_t[1], (C_comb2, C_comb2_err, 1), (R, R_err, 1))\n",
    "\n",
    "# Theoretical 3: tau for the capacitors in series...\n",
    "C_bottom = ((1 / C1) + (1 / C2))\n",
    "C_bottom_err = rule_3(rule_2(1, C1, C_err, -1), rule_2(1, C2, C_err, -1))\n",
    "\n",
    "C_comb = 1 / C_bottom\n",
    "C_comb_err = rule_2(1, C_bottom, C_bottom_err, -1)\n",
    "\n",
    "tau_t[2] = C_comb * R\n",
    "tau_t_err[2] = rule_4(tau_t[2], (C_comb, C_comb_err, 1), (R, R_err, 1))\n",
    "\n",
    "# Finally, print the theoretical...\n",
    "display(Markdown(\"### Theoretical Values\"))\n",
    "display_result(\n",
    "    [fr\"Theoretical $\\tau$ for Exercise {i}: \" for i in range(1, 4)],\n",
    "    tau_t * 1e6,\n",
    "    tau_t_err * 1e6,\n",
    "    \"\\mu s\"\n",
    ")"
   ]
  },
  {
   "cell_type": "markdown",
   "metadata": {},
   "source": [
    "### 6) Do your experimental time constants for all three trials agree with the theoretical values?  Justify your answer.  (5 points)\n",
    "\n",
    "The theoretical and experimental values for all three exercises of the experiment do not agree, as there error bound, or uncertainty ranges, do not overlap. This can be easily be seen just by looking at the values above, but we confirm this using the python code below, which manually checks the ranges between the two result vectors. "
   ]
  },
  {
   "cell_type": "code",
   "execution_count": 87,
   "metadata": {},
   "outputs": [
    {
     "name": "stdout",
     "output_type": "stream",
     "text": [
      "Values for Exercise 1 do not agree!\n",
      "Values for Exercise 2 do not agree!\n",
      "Values for Exercise 3 do not agree!\n"
     ]
    }
   ],
   "source": [
    "for i, agree in enumerate(values_agree(tau_e, tau_e_err, tau_t, tau_t_err), 1):\n",
    "    print(f\"Values for Exercise {i} {'do not' * (not agree)} agree!\")"
   ]
  },
  {
   "cell_type": "markdown",
   "metadata": {},
   "source": [
    "## Concepts\n",
    "\n",
    "### 7) If we had done a trial using three identical capacitors in parallel, how would the time constant have compared to the value you found using just one capacitor?  Justify your answer.  (3 points)\n",
    "\n",
    "If we had used three capacitors of the same value instead of one, the identical capacitance of the system would be the sum of the capacitances, which would result in:\n",
    "\n",
    "$$\n",
    "C_{eq} = C_1 + C_1 + C_1 = 3C_1\n",
    "$$\n",
    "\n",
    "Now, we know the time constant is equal to the resistance times the capacitance, and therefore:\n",
    "\n",
    "$$\n",
    "\\tau_{eq} = RC_{eq} = 3RC_{1}\n",
    "$$\n",
    "\n",
    "The time constant would be expected to be three times the time constant we got for a single capacitor."
   ]
  },
  {
   "cell_type": "code",
   "execution_count": null,
   "metadata": {},
   "outputs": [],
   "source": []
  }
 ],
 "metadata": {
  "kernelspec": {
   "display_name": "Python 3",
   "language": "python",
   "name": "python3"
  },
  "language_info": {
   "codemirror_mode": {
    "name": "ipython",
    "version": 3
   },
   "file_extension": ".py",
   "mimetype": "text/x-python",
   "name": "python",
   "nbconvert_exporter": "python",
   "pygments_lexer": "ipython3",
   "version": "3.8.5"
  },
  "latex_envs": {
   "LaTeX_envs_menu_present": true,
   "autoclose": false,
   "autocomplete": true,
   "bibliofile": "biblio.bib",
   "cite_by": "apalike",
   "current_citInitial": 1,
   "eqLabelWithNumbers": true,
   "eqNumInitial": 1,
   "hotkeys": {
    "equation": "Ctrl-E",
    "itemize": "Ctrl-I"
   },
   "labels_anchors": false,
   "latex_user_defs": false,
   "report_style_numbering": false,
   "user_envs_cfg": false
  }
 },
 "nbformat": 4,
 "nbformat_minor": 4
}
