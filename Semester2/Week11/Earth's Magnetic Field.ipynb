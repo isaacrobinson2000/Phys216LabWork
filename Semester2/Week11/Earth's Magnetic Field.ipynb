{
 "cells": [
  {
   "cell_type": "code",
   "execution_count": 1,
   "metadata": {},
   "outputs": [],
   "source": [
    "from lablib import *\n",
    "import physplot\n",
    "import pandas as pd\n",
    "import numpy as np"
   ]
  },
  {
   "cell_type": "markdown",
   "metadata": {},
   "source": [
    "## Measurements\n",
    "\n",
    "### Preliminary:\n",
    "\n",
    "Data was entered into a spreadsheet and saved as a CSV file. There is some processing that still needs to be done, as the values per coil count are not separated, and the angles were not entered in order. That processing will be done below..."
   ]
  },
  {
   "cell_type": "code",
   "execution_count": 14,
   "metadata": {},
   "outputs": [
    {
     "data": {
      "text/html": [
       "<div>\n",
       "<style scoped>\n",
       "    .dataframe tbody tr th:only-of-type {\n",
       "        vertical-align: middle;\n",
       "    }\n",
       "\n",
       "    .dataframe tbody tr th {\n",
       "        vertical-align: top;\n",
       "    }\n",
       "\n",
       "    .dataframe thead th {\n",
       "        text-align: right;\n",
       "    }\n",
       "</style>\n",
       "<table border=\"1\" class=\"dataframe\">\n",
       "  <thead>\n",
       "    <tr style=\"text-align: right;\">\n",
       "      <th></th>\n",
       "      <th>Coil Count</th>\n",
       "      <th>Current (mA)</th>\n",
       "      <th>Angle (deg)</th>\n",
       "      <th>Current Error (mA)</th>\n",
       "      <th>Diameter of Coil (cm)</th>\n",
       "      <th>Diameter Error (cm)</th>\n",
       "      <th>Angle Error (deg)</th>\n",
       "    </tr>\n",
       "  </thead>\n",
       "  <tbody>\n",
       "    <tr>\n",
       "      <th>0</th>\n",
       "      <td>100</td>\n",
       "      <td>4.80</td>\n",
       "      <td>10</td>\n",
       "      <td>0.2</td>\n",
       "      <td>21.8</td>\n",
       "      <td>0.5</td>\n",
       "      <td>1</td>\n",
       "    </tr>\n",
       "    <tr>\n",
       "      <th>1</th>\n",
       "      <td>100</td>\n",
       "      <td>10.43</td>\n",
       "      <td>20</td>\n",
       "      <td>0.2</td>\n",
       "      <td>21.8</td>\n",
       "      <td>0.5</td>\n",
       "      <td>1</td>\n",
       "    </tr>\n",
       "    <tr>\n",
       "      <th>2</th>\n",
       "      <td>100</td>\n",
       "      <td>16.01</td>\n",
       "      <td>30</td>\n",
       "      <td>0.2</td>\n",
       "      <td>21.8</td>\n",
       "      <td>0.5</td>\n",
       "      <td>1</td>\n",
       "    </tr>\n",
       "    <tr>\n",
       "      <th>3</th>\n",
       "      <td>100</td>\n",
       "      <td>24.20</td>\n",
       "      <td>40</td>\n",
       "      <td>0.2</td>\n",
       "      <td>21.8</td>\n",
       "      <td>0.5</td>\n",
       "      <td>1</td>\n",
       "    </tr>\n",
       "    <tr>\n",
       "      <th>4</th>\n",
       "      <td>100</td>\n",
       "      <td>35.70</td>\n",
       "      <td>50</td>\n",
       "      <td>0.2</td>\n",
       "      <td>21.8</td>\n",
       "      <td>0.5</td>\n",
       "      <td>1</td>\n",
       "    </tr>\n",
       "    <tr>\n",
       "      <th>5</th>\n",
       "      <td>200</td>\n",
       "      <td>1.98</td>\n",
       "      <td>10</td>\n",
       "      <td>0.2</td>\n",
       "      <td>21.8</td>\n",
       "      <td>0.5</td>\n",
       "      <td>1</td>\n",
       "    </tr>\n",
       "    <tr>\n",
       "      <th>6</th>\n",
       "      <td>200</td>\n",
       "      <td>5.22</td>\n",
       "      <td>20</td>\n",
       "      <td>0.2</td>\n",
       "      <td>21.8</td>\n",
       "      <td>0.5</td>\n",
       "      <td>1</td>\n",
       "    </tr>\n",
       "    <tr>\n",
       "      <th>7</th>\n",
       "      <td>200</td>\n",
       "      <td>9.09</td>\n",
       "      <td>30</td>\n",
       "      <td>0.2</td>\n",
       "      <td>21.8</td>\n",
       "      <td>0.5</td>\n",
       "      <td>1</td>\n",
       "    </tr>\n",
       "    <tr>\n",
       "      <th>8</th>\n",
       "      <td>200</td>\n",
       "      <td>12.28</td>\n",
       "      <td>40</td>\n",
       "      <td>0.2</td>\n",
       "      <td>21.8</td>\n",
       "      <td>0.5</td>\n",
       "      <td>1</td>\n",
       "    </tr>\n",
       "    <tr>\n",
       "      <th>9</th>\n",
       "      <td>200</td>\n",
       "      <td>17.83</td>\n",
       "      <td>50</td>\n",
       "      <td>0.2</td>\n",
       "      <td>21.8</td>\n",
       "      <td>0.5</td>\n",
       "      <td>1</td>\n",
       "    </tr>\n",
       "    <tr>\n",
       "      <th>10</th>\n",
       "      <td>100</td>\n",
       "      <td>-4.50</td>\n",
       "      <td>-10</td>\n",
       "      <td>0.2</td>\n",
       "      <td>21.8</td>\n",
       "      <td>0.5</td>\n",
       "      <td>1</td>\n",
       "    </tr>\n",
       "    <tr>\n",
       "      <th>11</th>\n",
       "      <td>100</td>\n",
       "      <td>-10.49</td>\n",
       "      <td>-20</td>\n",
       "      <td>0.2</td>\n",
       "      <td>21.8</td>\n",
       "      <td>0.5</td>\n",
       "      <td>1</td>\n",
       "    </tr>\n",
       "    <tr>\n",
       "      <th>12</th>\n",
       "      <td>100</td>\n",
       "      <td>-16.30</td>\n",
       "      <td>-30</td>\n",
       "      <td>0.2</td>\n",
       "      <td>21.8</td>\n",
       "      <td>0.5</td>\n",
       "      <td>1</td>\n",
       "    </tr>\n",
       "    <tr>\n",
       "      <th>13</th>\n",
       "      <td>100</td>\n",
       "      <td>-25.80</td>\n",
       "      <td>-40</td>\n",
       "      <td>0.2</td>\n",
       "      <td>21.8</td>\n",
       "      <td>0.5</td>\n",
       "      <td>1</td>\n",
       "    </tr>\n",
       "    <tr>\n",
       "      <th>14</th>\n",
       "      <td>100</td>\n",
       "      <td>-35.20</td>\n",
       "      <td>-50</td>\n",
       "      <td>0.2</td>\n",
       "      <td>21.8</td>\n",
       "      <td>0.5</td>\n",
       "      <td>1</td>\n",
       "    </tr>\n",
       "    <tr>\n",
       "      <th>15</th>\n",
       "      <td>200</td>\n",
       "      <td>-2.39</td>\n",
       "      <td>-10</td>\n",
       "      <td>0.2</td>\n",
       "      <td>21.8</td>\n",
       "      <td>0.5</td>\n",
       "      <td>1</td>\n",
       "    </tr>\n",
       "    <tr>\n",
       "      <th>16</th>\n",
       "      <td>200</td>\n",
       "      <td>-5.20</td>\n",
       "      <td>-20</td>\n",
       "      <td>0.2</td>\n",
       "      <td>21.8</td>\n",
       "      <td>0.5</td>\n",
       "      <td>1</td>\n",
       "    </tr>\n",
       "    <tr>\n",
       "      <th>17</th>\n",
       "      <td>200</td>\n",
       "      <td>-8.09</td>\n",
       "      <td>-30</td>\n",
       "      <td>0.2</td>\n",
       "      <td>21.8</td>\n",
       "      <td>0.5</td>\n",
       "      <td>1</td>\n",
       "    </tr>\n",
       "    <tr>\n",
       "      <th>18</th>\n",
       "      <td>200</td>\n",
       "      <td>-13.11</td>\n",
       "      <td>-40</td>\n",
       "      <td>0.2</td>\n",
       "      <td>21.8</td>\n",
       "      <td>0.5</td>\n",
       "      <td>1</td>\n",
       "    </tr>\n",
       "    <tr>\n",
       "      <th>19</th>\n",
       "      <td>200</td>\n",
       "      <td>-17.52</td>\n",
       "      <td>-50</td>\n",
       "      <td>0.2</td>\n",
       "      <td>21.8</td>\n",
       "      <td>0.5</td>\n",
       "      <td>1</td>\n",
       "    </tr>\n",
       "  </tbody>\n",
       "</table>\n",
       "</div>"
      ],
      "text/plain": [
       "    Coil Count  Current (mA)  Angle (deg)  Current Error (mA)  \\\n",
       "0          100          4.80           10                 0.2   \n",
       "1          100         10.43           20                 0.2   \n",
       "2          100         16.01           30                 0.2   \n",
       "3          100         24.20           40                 0.2   \n",
       "4          100         35.70           50                 0.2   \n",
       "5          200          1.98           10                 0.2   \n",
       "6          200          5.22           20                 0.2   \n",
       "7          200          9.09           30                 0.2   \n",
       "8          200         12.28           40                 0.2   \n",
       "9          200         17.83           50                 0.2   \n",
       "10         100         -4.50          -10                 0.2   \n",
       "11         100        -10.49          -20                 0.2   \n",
       "12         100        -16.30          -30                 0.2   \n",
       "13         100        -25.80          -40                 0.2   \n",
       "14         100        -35.20          -50                 0.2   \n",
       "15         200         -2.39          -10                 0.2   \n",
       "16         200         -5.20          -20                 0.2   \n",
       "17         200         -8.09          -30                 0.2   \n",
       "18         200        -13.11          -40                 0.2   \n",
       "19         200        -17.52          -50                 0.2   \n",
       "\n",
       "    Diameter of Coil (cm)  Diameter Error (cm)  Angle Error (deg)  \n",
       "0                    21.8                  0.5                  1  \n",
       "1                    21.8                  0.5                  1  \n",
       "2                    21.8                  0.5                  1  \n",
       "3                    21.8                  0.5                  1  \n",
       "4                    21.8                  0.5                  1  \n",
       "5                    21.8                  0.5                  1  \n",
       "6                    21.8                  0.5                  1  \n",
       "7                    21.8                  0.5                  1  \n",
       "8                    21.8                  0.5                  1  \n",
       "9                    21.8                  0.5                  1  \n",
       "10                   21.8                  0.5                  1  \n",
       "11                   21.8                  0.5                  1  \n",
       "12                   21.8                  0.5                  1  \n",
       "13                   21.8                  0.5                  1  \n",
       "14                   21.8                  0.5                  1  \n",
       "15                   21.8                  0.5                  1  \n",
       "16                   21.8                  0.5                  1  \n",
       "17                   21.8                  0.5                  1  \n",
       "18                   21.8                  0.5                  1  \n",
       "19                   21.8                  0.5                  1  "
      ]
     },
     "metadata": {},
     "output_type": "display_data"
    }
   ],
   "source": [
    "data = pd.read_csv(\"data.csv\")\n",
    "display(data)"
   ]
  },
  {
   "cell_type": "markdown",
   "metadata": {},
   "source": [
    "### 1) Write down your measurement of the diameter of the coil including the uncertainty.  (2 points)\n",
    "\n",
    "We can see that the diameter of the coil was recorded as $21.80 \\pm 0.50 \\: cm$. Python code below extracts that value from the data."
   ]
  },
  {
   "cell_type": "code",
   "execution_count": 12,
   "metadata": {},
   "outputs": [
    {
     "data": {
      "text/markdown": [
       "Coil Diameter:  $ 21.80 \\pm 0.50 \\: cm $"
      ],
      "text/plain": [
       "<IPython.core.display.Markdown object>"
      ]
     },
     "metadata": {},
     "output_type": "display_data"
    }
   ],
   "source": [
    "display_result(\"Coil Diameter: \", data[\"Diameter of Coil (cm)\"][0], data[\"Diameter Error (cm)\"][0], \"cm\")"
   ]
  },
  {
   "cell_type": "markdown",
   "metadata": {},
   "source": [
    "### 2) Submit the Github link of your plots of tan(ϴ) vs. I with the appropriate fit parameters.  (7 points)\n",
    "\n",
    "Plotting code below, also includes the preprocessing code, which cleans up the data by splitting it per coil count and then sorting the data by angle so we can plot it."
   ]
  },
  {
   "cell_type": "code",
   "execution_count": 13,
   "metadata": {},
   "outputs": [
    {
     "data": {
      "image/png": "[encoded data removed]",
      "text/plain": [
       "<Figure size 432x288 with 1 Axes>"
      ]
     },
     "metadata": {
      "needs_background": "light"
     },
     "output_type": "display_data"
    },
    {
     "name": "stdout",
     "output_type": "stream",
     "text": [
      "Slope =  0.029443546170661146   A\n",
      "Error in slope =  8.734934292143138e-05   A\n",
      "Goodness of fit =  98.45953596531946\n"
     ]
    },
    {
     "data": {
      "image/png": "[encoded data removed]",
      "text/plain": [
       "<Figure size 432x288 with 1 Axes>"
      ]
     },
     "metadata": {
      "needs_background": "light"
     },
     "output_type": "display_data"
    },
    {
     "name": "stdout",
     "output_type": "stream",
     "text": [
      "Slope =  0.014862149492891318   A\n",
      "Error in slope =  8.734934292143138e-05   A\n",
      "Goodness of fit =  38.45901922555081\n"
     ]
    }
   ],
   "source": [
    "def get_for(coil_match, coils, tans, i_s, i_errors):\n",
    "    # Grabs values for a single coil count and sorts the results by the tangent of the angles.\n",
    "    # These values can be directly passed to ploting functions...\n",
    "    coils, tans, i_s, i_errors = [np.array(arr) for arr in [coils, tans, i_s, i_errors]]\n",
    "    idx = coils == coil_match\n",
    "    idx_sorted = np.argsort(tans[idx])\n",
    "    return tans[idx][idx_sorted], i_s[idx][idx_sorted], i_errors[idx][idx_sorted]\n",
    "\n",
    "# Grab Data\n",
    "coil_count = data[\"Coil Count\"]\n",
    "\n",
    "tan_vals = np.tan(np.deg2rad(data[\"Angle (deg)\"]))\n",
    "i_vals = data[\"Current (mA)\"] / 1000  # mA -> A\n",
    "i_error = data[\"Current Error (mA)\"] / 1000  # mA -> A\n",
    "\n",
    "# Plot our data, and get slopes.\n",
    "m100, dm100, N100 = physplot.plotfit(*get_for(100, coil_count, tan_vals, i_vals, i_error), r\"I vs tan($\\theta$)\", r\"Tan($\\theta$)\", \"I (A)\", r\"A\")\n",
    "\n",
    "m200, dm200, N200 = physplot.plotfit(*get_for(200, coil_count, tan_vals, i_vals, i_error), r\"I vs tan($\\theta$)\", r\"Tan($\\theta$)\", \"I (A)\", r\"A\")"
   ]
  },
  {
   "cell_type": "markdown",
   "metadata": {},
   "source": [
    "### 3) What is the value for the horizontal component of Earth’s magnetic field that you found for 100 turns of wire using the slope of your curve, including the uncertainty?  Show you work.  (6 points)\n",
    "\n",
    "Python code below uses slopes extracted from the plots above to compute the horizontal component of Earth's magnetic field for both the 100 and 200 turns of wire. For 100 turns, I got a horizontal magnetic component value of $169724 \\pm 3925 \\: nT$. Full results can be seen below."
   ]
  },
  {
   "cell_type": "code",
   "execution_count": 17,
   "metadata": {},
   "outputs": [
    {
     "data": {
      "text/markdown": [
       "#### Experimental Values"
      ],
      "text/plain": [
       "<IPython.core.display.Markdown object>"
      ]
     },
     "metadata": {},
     "output_type": "display_data"
    },
    {
     "data": {
      "text/markdown": [
       "Horizantal Component of Earth's Field from 100 Coils:  $ 169724 \\pm 3925 \\: nT $"
      ],
      "text/plain": [
       "<IPython.core.display.Markdown object>"
      ]
     },
     "metadata": {},
     "output_type": "display_data"
    },
    {
     "data": {
      "text/markdown": [
       "Horizantal Component of Earth's Field from 200 Coils:  $ 171342 \\pm 4057 \\: nT $"
      ],
      "text/plain": [
       "<IPython.core.display.Markdown object>"
      ]
     },
     "metadata": {},
     "output_type": "display_data"
    },
    {
     "data": {
      "text/markdown": [
       "#### Theoretical Values"
      ],
      "text/plain": [
       "<IPython.core.display.Markdown object>"
      ]
     },
     "metadata": {},
     "output_type": "display_data"
    },
    {
     "data": {
      "text/markdown": [
       "Horizantal Component of Earth's Field, Theoretical:  $ 18432 \\pm 128 \\: nT $"
      ],
      "text/plain": [
       "<IPython.core.display.Markdown object>"
      ]
     },
     "metadata": {},
     "output_type": "display_data"
    }
   ],
   "source": [
    "mu_0 = 4 * np.pi * 1E-7\n",
    "\n",
    "N100 = 100\n",
    "N200 = 200\n",
    "\n",
    "r = data[\"Diameter of Coil (cm)\"][0] / 2000\n",
    "r_err = data[\"Diameter Error (cm)\"][0] / 2000\n",
    "\n",
    "markdown(\"#### Experimental Values\")\n",
    "\n",
    "# Compute magnetic field of earth for 100 coils...\n",
    "B100 = (mu_0 * N100 * m100) / (2 * r) \n",
    "B100_err = rule_4(B100, (m100, dm100, 1), (r, r_err, -1))\n",
    "display_result(\"Horizantal Component of Earth's Field from 100 Coils: \", B100 * 1e9, B100_err * 1e9, r\"nT\", 0)\n",
    "\n",
    "# Compute magnetic field of earth for 200 coils...\n",
    "B200 = (mu_0 * N200 * m200) / (2 * r)\n",
    "B200_err = rule_4(B200, (m200, dm200, 1), (r, r_err, -1))\n",
    "display_result(\"Horizantal Component of Earth's Field from 200 Coils: \", B200 * 1e9, B200_err * 1e9, r\"nT\", 0)\n",
    "\n",
    "markdown(\"#### Theoretical Values\")\n",
    "# Theoretical Value, directly from https://www.ngdc.noaa.gov/geomag/calculators/magcalc.shtml#igrfwmm\n",
    "# Already in nano Tesla...\n",
    "B_t = 18432.5\n",
    "B_t_err = 128\n",
    "display_result(\"Horizantal Component of Earth's Field, Theoretical: \", B_t, B_t_err, \"nT\", 0)"
   ]
  },
  {
   "cell_type": "markdown",
   "metadata": {},
   "source": [
    "##  Results and Analysis\n",
    "\n",
    "###  4) What is the theoretical value of the horizontal component of Earth’s magnetic field and the two values you found using your plots including the uncertainty?  Do your experimental values agree with the accepted value?  Discuss the results for all two number of turns of wire.  Justify your answers.  (7 points)\n",
    "\n",
    "See the output of the code cell for question 3 to see the experimental and theoretical results calculated for the earth's gravity. My results do not agree with the theoretical value, as the python code below confirms. This can also easily be seen by looking at the values, as their uncertainty ranges don't overlap. Although my results are not accurate, they are precise, as the two values for 100 and 200 coils agree with each other, and their uncertainty ranges overlap."
   ]
  },
  {
   "cell_type": "code",
   "execution_count": 18,
   "metadata": {},
   "outputs": [
    {
     "data": {
      "text/markdown": [
       "#### Do Results Agree?"
      ],
      "text/plain": [
       "<IPython.core.display.Markdown object>"
      ]
     },
     "metadata": {},
     "output_type": "display_data"
    },
    {
     "data": {
      "text/markdown": [
       "Do 100 Coil and 200 Coil results agree? Yes"
      ],
      "text/plain": [
       "<IPython.core.display.Markdown object>"
      ]
     },
     "metadata": {},
     "output_type": "display_data"
    },
    {
     "data": {
      "text/markdown": [
       "Do 100 Coil and Theoretical results agree? No"
      ],
      "text/plain": [
       "<IPython.core.display.Markdown object>"
      ]
     },
     "metadata": {},
     "output_type": "display_data"
    },
    {
     "data": {
      "text/markdown": [
       "Do 200 Coil and Theoretical results agree? No"
      ],
      "text/plain": [
       "<IPython.core.display.Markdown object>"
      ]
     },
     "metadata": {},
     "output_type": "display_data"
    }
   ],
   "source": [
    "# Iterating all pairs to see if they agree...\n",
    "all_res = [(\"100 Coil\", B100, B100_err), (\"200 Coil\", B200, B200_err), (\"Theoretical\", B_t, B_t_err)]\n",
    "\n",
    "markdown(\"#### Do Results Agree?\")\n",
    "for i in range(len(all_res)):\n",
    "    for j in range(i + 1, len(all_res)):\n",
    "        comp = values_agree(*all_res[i][1:3], *all_res[j][1:3])\n",
    "        markdown(f\"Do {all_res[i][0]} and {all_res[j][0]} results agree? {'Yes' if(comp) else 'No'}\")"
   ]
  },
  {
   "cell_type": "markdown",
   "metadata": {},
   "source": [
    "##  Concepts and Analysis\n",
    "\n",
    "### 5) Briefly explain why your slope was highest for N = 200 loops and lowest for N = 100.  (3 points)\n",
    "\n",
    "My slope was not highest for 200 loops, but rather the lowest. This may just be due to the way I plotted the results. ($I$ on the y axis instead of $\\tan(\\theta)$). We can see, by rearranging the equation for computing the earth's magnetic field, that $I$ and $N$ are inversely proportional:\n",
    "\n",
    "$$\n",
    "B_{E,hor} = \\frac{\\mu_0 N I}{2r \\tan(\\theta)} \\implies N = \\frac{1}{I} \\cdot \\frac{2rB_{E,hor}\\tan(\\theta)}{\\mu_0} \\implies N \\propto \\frac{1}{I}\n",
    "$$\n",
    "\n",
    "Therefore, if we increase the number of turns and everything else remains constant except for the current, the current must decrease by the same factor that the number of turns increases by. This is why when N went from 100 to 200, or doubled, the current, and slope of the plot, halved."
   ]
  },
  {
   "cell_type": "code",
   "execution_count": null,
   "metadata": {},
   "outputs": [],
   "source": []
  }
 ],
 "metadata": {
  "kernelspec": {
   "display_name": "Python 3",
   "language": "python",
   "name": "python3"
  },
  "language_info": {
   "codemirror_mode": {
    "name": "ipython",
    "version": 3
   },
   "file_extension": ".py",
   "mimetype": "text/x-python",
   "name": "python",
   "nbconvert_exporter": "python",
   "pygments_lexer": "ipython3",
   "version": "3.8.5"
  }
 },
 "nbformat": 4,
 "nbformat_minor": 4
}
