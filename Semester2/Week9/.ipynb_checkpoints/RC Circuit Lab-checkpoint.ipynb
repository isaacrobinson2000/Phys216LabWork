{
 "cells": [
  {
   "cell_type": "markdown",
   "metadata": {},
   "source": [
    "# Slow Resistor Capacitor Lab"
   ]
  },
  {
   "cell_type": "code",
   "execution_count": 32,
   "metadata": {},
   "outputs": [],
   "source": [
    "from IPython.display import Markdown\n",
    "from typing import Iterable, Tuple, Union, Any\n",
    "import numpy as np\n",
    "import pandas as pd\n",
    "# Define our rules...\n",
    "\n",
    "def rule_1(c, error_val):\n",
    "    return abs(c) * error_val\n",
    "\n",
    "# res = c * val ^ power, where error in value is error_val....\n",
    "def rule_2(c, val, error_val, power):\n",
    "    return abs(c * power * val ** (power - 1)) * error_val\n",
    "\n",
    "def rule_3(*err_vals: Iterable[float]) -> float:\n",
    "    \"\"\"\n",
    "    Calculate rule 3 from the paper 'Treatment of Data'.\n",
    "    \n",
    "    @param err_vals: A list of parameters, being the errors in each value. It is assumed they were summed \n",
    "                     together to get the final value.\n",
    "    \n",
    "    @returns: The error of all of the sum of the values...\n",
    "    \"\"\"\n",
    "    total = 0\n",
    "    \n",
    "    for err in err_vals:\n",
    "        total += err ** 2\n",
    "    \n",
    "    return np.sqrt(total)\n",
    "\n",
    "\n",
    "def rule_4(value: float, *error_list: Iterable[Tuple[float, float, float]]) -> float:\n",
    "    \"\"\"\n",
    "    Calculate rule 4 from the paper 'Treatment of Data'.\n",
    "    \n",
    "    @param value: The value of the thing we are trying to calculate the error of.\n",
    "    @param error_list: A list of length 3 tuples. \n",
    "                       Each tuple should contain:\n",
    "                       - A float: A value in the error formula.\n",
    "                       - A float: The measured error in the above value.\n",
    "                       - A float: The power of the above value in the multiplicative formula.\n",
    "\n",
    "    @returns: A float, being the error in 'value'.\n",
    "    \"\"\"\n",
    "    total = 0\n",
    "    \n",
    "    for x, x_err, power in error_list:\n",
    "        total += (power * (x_err / x)) ** 2\n",
    "        \n",
    "    return abs(value) * np.sqrt(total)\n",
    "\n",
    "FloatVec = Union[float, np.ndarray] \n",
    "BoolVec = Union[bool, np.ndarray]\n",
    "OpVec = Union[Any, Iterable]\n",
    "StrVec = Union[str, Iterable[str]]\n",
    "\n",
    "def values_agree(val_1: FloatVec, err_1: FloatVec, val_2: FloatVec, err_2: FloatVec) -> BoolVec:\n",
    "    \"\"\"\n",
    "    Determines if the values in 2 vectors(arrays) agree with each other, given there uncertainty values. \n",
    "    \n",
    "    @param val_1: The 1st array of values.\n",
    "    @param err_1: The uncertainty values for the 1st vector.\n",
    "    @param val_2: The 2nd array of values.\n",
    "    @param err_2: The uncertainty values for the 2st vector. \n",
    "    \n",
    "    @returns: A vector of booleans, being whether each value agrees with the other.\n",
    "    \"\"\"\n",
    "    # Grab the ranges for each value...\n",
    "    r11, r12 = val_1 - err_1, val_1 + err_1\n",
    "    r21, r22 = val_2 - err_2, val_2 + err_2\n",
    "    \n",
    "    # The ranges are sorted (r21 <= r22 and r11 <= r12), so the simple 2 checks below are enough. \n",
    "    # Check 1: Does r21(lowest value of 2nd range) land above the 1st range? If so fail...\n",
    "    # Check 2: Does r22(highest value of 2nd range) fall below the 1st range? If so fail...\n",
    "    return ((r21 <= r12) & (r11 <= r22))\n",
    "\n",
    "# Some extra stuff for pretty printing measurements....\n",
    "from IPython.display import Markdown\n",
    "\n",
    "def format_result(msgs: OpVec, value: OpVec, value_error: OpVec, units: OpVec, past_dec: OpVec = 2) -> StrVec:\n",
    "    all_arrs = [msgs, value, value_error, units, past_dec]\n",
    "    \n",
    "    def to_vec(val, types): \n",
    "        return [val] if(isinstance(val, types)) else list(val)\n",
    "    \n",
    "    (msgs, value, value_error, units, past_dec) = all_arrs = [\n",
    "        to_vec(v, (float, int, str)) for v in all_arrs\n",
    "    ]\n",
    "    max_len = max(len(arr) for arr in all_arrs)\n",
    "    \n",
    "    msgs, value, value_error, units, past_dec = all_arrs = [\n",
    "        (v * max_len if(len(v) == 1) else v) for v in all_arrs\n",
    "    ]\n",
    "    \n",
    "    # Nesting variable in the formating of variables, not confusing at all....\n",
    "    return [\n",
    "        fr\"{msg} $ {v:.0{pd}f} \\pm {v_err:.0{pd}f} \\text{{ }} {u} $\"\n",
    "        for msg, v, v_err, pd, u in zip(msgs, value, value_error, past_dec, units)\n",
    "    ]\n",
    "\n",
    "def display_result(*args, **kwargs):\n",
    "    for res in format_result(*args, **kwargs):\n",
    "        display(Markdown(res))\n",
    "\n",
    "# Print function for markdown :)...\n",
    "def mkdwn(string):\n",
    "    display(Markdown(string))\n",
    "    \n",
    "def rmse(arr1, arr2):\n",
    "    return np.sqrt(np.sum((arr1 - arr2) ** 2) / len(arr1))"
   ]
  },
  {
   "cell_type": "markdown",
   "metadata": {},
   "source": [
    "## Part 1"
   ]
  },
  {
   "cell_type": "code",
   "execution_count": 44,
   "metadata": {},
   "outputs": [
    {
     "data": {
      "text/html": [
       "<div>\n",
       "<style scoped>\n",
       "    .dataframe tbody tr th:only-of-type {\n",
       "        vertical-align: middle;\n",
       "    }\n",
       "\n",
       "    .dataframe tbody tr th {\n",
       "        vertical-align: top;\n",
       "    }\n",
       "\n",
       "    .dataframe thead th {\n",
       "        text-align: right;\n",
       "    }\n",
       "</style>\n",
       "<table border=\"1\" class=\"dataframe\">\n",
       "  <thead>\n",
       "    <tr style=\"text-align: right;\">\n",
       "      <th></th>\n",
       "      <th>Time (s)</th>\n",
       "      <th>Discharge (V)</th>\n",
       "      <th>Charge (V)</th>\n",
       "    </tr>\n",
       "  </thead>\n",
       "  <tbody>\n",
       "    <tr>\n",
       "      <th>0</th>\n",
       "      <td>0</td>\n",
       "      <td>6.04</td>\n",
       "      <td>0.00</td>\n",
       "    </tr>\n",
       "    <tr>\n",
       "      <th>1</th>\n",
       "      <td>10</td>\n",
       "      <td>4.40</td>\n",
       "      <td>2.09</td>\n",
       "    </tr>\n",
       "    <tr>\n",
       "      <th>2</th>\n",
       "      <td>20</td>\n",
       "      <td>2.98</td>\n",
       "      <td>3.50</td>\n",
       "    </tr>\n",
       "    <tr>\n",
       "      <th>3</th>\n",
       "      <td>30</td>\n",
       "      <td>1.99</td>\n",
       "      <td>4.24</td>\n",
       "    </tr>\n",
       "    <tr>\n",
       "      <th>4</th>\n",
       "      <td>40</td>\n",
       "      <td>1.37</td>\n",
       "      <td>4.89</td>\n",
       "    </tr>\n",
       "    <tr>\n",
       "      <th>5</th>\n",
       "      <td>50</td>\n",
       "      <td>0.91</td>\n",
       "      <td>5.27</td>\n",
       "    </tr>\n",
       "    <tr>\n",
       "      <th>6</th>\n",
       "      <td>60</td>\n",
       "      <td>0.62</td>\n",
       "      <td>5.52</td>\n",
       "    </tr>\n",
       "    <tr>\n",
       "      <th>7</th>\n",
       "      <td>70</td>\n",
       "      <td>0.42</td>\n",
       "      <td>5.70</td>\n",
       "    </tr>\n",
       "    <tr>\n",
       "      <th>8</th>\n",
       "      <td>80</td>\n",
       "      <td>0.27</td>\n",
       "      <td>5.81</td>\n",
       "    </tr>\n",
       "    <tr>\n",
       "      <th>9</th>\n",
       "      <td>90</td>\n",
       "      <td>0.19</td>\n",
       "      <td>5.89</td>\n",
       "    </tr>\n",
       "    <tr>\n",
       "      <th>10</th>\n",
       "      <td>100</td>\n",
       "      <td>0.12</td>\n",
       "      <td>5.94</td>\n",
       "    </tr>\n",
       "    <tr>\n",
       "      <th>11</th>\n",
       "      <td>110</td>\n",
       "      <td>0.07</td>\n",
       "      <td>5.97</td>\n",
       "    </tr>\n",
       "    <tr>\n",
       "      <th>12</th>\n",
       "      <td>120</td>\n",
       "      <td>0.04</td>\n",
       "      <td>5.99</td>\n",
       "    </tr>\n",
       "  </tbody>\n",
       "</table>\n",
       "</div>"
      ],
      "text/plain": [
       "    Time (s)  Discharge (V)  Charge (V)\n",
       "0          0           6.04        0.00\n",
       "1         10           4.40        2.09\n",
       "2         20           2.98        3.50\n",
       "3         30           1.99        4.24\n",
       "4         40           1.37        4.89\n",
       "5         50           0.91        5.27\n",
       "6         60           0.62        5.52\n",
       "7         70           0.42        5.70\n",
       "8         80           0.27        5.81\n",
       "9         90           0.19        5.89\n",
       "10       100           0.12        5.94\n",
       "11       110           0.07        5.97\n",
       "12       120           0.04        5.99"
      ]
     },
     "metadata": {},
     "output_type": "display_data"
    },
    {
     "data": {
      "text/plain": [
       "[<matplotlib.lines.Line2D at 0x7f3717e41520>]"
      ]
     },
     "execution_count": 44,
     "metadata": {},
     "output_type": "execute_result"
    },
    {
     "data": {
      "image/png": "[encoded data removed]",
      "text/plain": [
       "<Figure size 432x288 with 1 Axes>"
      ]
     },
     "metadata": {
      "needs_background": "light"
     },
     "output_type": "display_data"
    },
    {
     "data": {
      "image/png": "[encoded data removed]",
      "text/plain": [
       "<Figure size 432x288 with 1 Axes>"
      ]
     },
     "metadata": {
      "needs_background": "light"
     },
     "output_type": "display_data"
    }
   ],
   "source": [
    "import matplotlib.pyplot as plt\n",
    "from IPython.display import Latex\n",
    "\n",
    "def build_plot(title, x_label, y_label) -> tuple:\n",
    "    fig = plt.figure()\n",
    "    ax = fig.gca()\n",
    "    ax.set_title(title)\n",
    "    ax.set_xlabel(x_label)\n",
    "    ax.set_ylabel(y_label)\n",
    "    \n",
    "    return fig, ax\n",
    "    \n",
    "\n",
    "data = pd.read_csv(\"RCPart1.csv\")\n",
    "\n",
    "display(data)\n",
    "\n",
    "fig, ax = build_plot(\"Charging of RC Circuit over Time\", \"Time (s)\", \"Electric Potential (V)\")\n",
    "ax.plot(data[\"Time (s)\"], data[\"Charge (V)\"], \"o-\", label = \"Experimental\")\n",
    "ax.plot()\n",
    "\n",
    "fig2, ax2 = build_plot(\"Discharging of RC Circuit over Time\", \"Time (s)\", \"Electric Potential (V)\")\n",
    "ax2.plot(data[\"Time (s)\"], data[\"Discharge (V)\"], \"o-\", label = \"Experimental\")"
   ]
  },
  {
   "cell_type": "markdown",
   "metadata": {},
   "source": [
    "## Part 2"
   ]
  },
  {
   "cell_type": "code",
   "execution_count": 55,
   "metadata": {
    "scrolled": true
   },
   "outputs": [
    {
     "data": {
      "text/html": [
       "<div>\n",
       "<style scoped>\n",
       "    .dataframe tbody tr th:only-of-type {\n",
       "        vertical-align: middle;\n",
       "    }\n",
       "\n",
       "    .dataframe tbody tr th {\n",
       "        vertical-align: top;\n",
       "    }\n",
       "\n",
       "    .dataframe thead th {\n",
       "        text-align: right;\n",
       "    }\n",
       "</style>\n",
       "<table border=\"1\" class=\"dataframe\">\n",
       "  <thead>\n",
       "    <tr style=\"text-align: right;\">\n",
       "      <th></th>\n",
       "      <th>Trial</th>\n",
       "      <th>Charge Time (s)</th>\n",
       "      <th>Discharge Time (s)</th>\n",
       "      <th>Max Potential (V)</th>\n",
       "      <th>Discharge Stop (V)</th>\n",
       "      <th>Charge Stop (V)</th>\n",
       "    </tr>\n",
       "  </thead>\n",
       "  <tbody>\n",
       "    <tr>\n",
       "      <th>0</th>\n",
       "      <td>1</td>\n",
       "      <td>25.75</td>\n",
       "      <td>26.07</td>\n",
       "      <td>6.1</td>\n",
       "      <td>2.2448</td>\n",
       "      <td>3.8552</td>\n",
       "    </tr>\n",
       "    <tr>\n",
       "      <th>1</th>\n",
       "      <td>2</td>\n",
       "      <td>25.79</td>\n",
       "      <td>25.69</td>\n",
       "      <td>6.1</td>\n",
       "      <td>2.2448</td>\n",
       "      <td>3.8552</td>\n",
       "    </tr>\n",
       "    <tr>\n",
       "      <th>2</th>\n",
       "      <td>3</td>\n",
       "      <td>25.98</td>\n",
       "      <td>26.01</td>\n",
       "      <td>6.1</td>\n",
       "      <td>2.2448</td>\n",
       "      <td>3.8552</td>\n",
       "    </tr>\n",
       "    <tr>\n",
       "      <th>3</th>\n",
       "      <td>4</td>\n",
       "      <td>26.27</td>\n",
       "      <td>25.94</td>\n",
       "      <td>6.1</td>\n",
       "      <td>2.2448</td>\n",
       "      <td>3.8552</td>\n",
       "    </tr>\n",
       "    <tr>\n",
       "      <th>4</th>\n",
       "      <td>5</td>\n",
       "      <td>25.83</td>\n",
       "      <td>25.78</td>\n",
       "      <td>6.1</td>\n",
       "      <td>2.2448</td>\n",
       "      <td>3.8552</td>\n",
       "    </tr>\n",
       "  </tbody>\n",
       "</table>\n",
       "</div>"
      ],
      "text/plain": [
       "   Trial  Charge Time (s)  Discharge Time (s)  Max Potential (V)  \\\n",
       "0      1            25.75               26.07                6.1   \n",
       "1      2            25.79               25.69                6.1   \n",
       "2      3            25.98               26.01                6.1   \n",
       "3      4            26.27               25.94                6.1   \n",
       "4      5            25.83               25.78                6.1   \n",
       "\n",
       "   Discharge Stop (V)  Charge Stop (V)  \n",
       "0              2.2448           3.8552  \n",
       "1              2.2448           3.8552  \n",
       "2              2.2448           3.8552  \n",
       "3              2.2448           3.8552  \n",
       "4              2.2448           3.8552  "
      ]
     },
     "metadata": {},
     "output_type": "display_data"
    },
    {
     "name": "stdout",
     "output_type": "stream",
     "text": [
      "['$\\\\tau$ for Charging:  $ 25.92 \\\\pm 0.08 \\\\text{ } s $']\n"
     ]
    },
    {
     "data": {
      "text/markdown": [
       "$\\tau$ for Discharging:  $ 25.90 \\pm 0.06 \\text{ } s $"
      ],
      "text/plain": [
       "<IPython.core.display.Markdown object>"
      ]
     },
     "metadata": {},
     "output_type": "display_data"
    }
   ],
   "source": [
    "p2data = pd.read_csv(\"RCPart2.csv\")\n",
    "display(p2data)\n",
    "\n",
    "TauC_all = p2data[\"Charge Time (s)\"]\n",
    "TauC = np.mean(TauC_all)\n",
    "err_TauC = np.std(TauC_all) / np.sqrt(TauC_all.size)\n",
    "print(format_result(r\"$\\tau$ for Charging: \", TauC, err_TauC, \"s\"))\n",
    "\n",
    "TauD_all = p2data[\"Discharge Time (s)\"]\n",
    "TauD = np.mean(TauD_all)\n",
    "err_TauD = np.std(TauD_all) / np.sqrt(TauD_all.size)\n",
    "display_result(r\"$\\tau$ for Discharging: \", TauD, err_TauD, \"s\")"
   ]
  },
  {
   "cell_type": "markdown",
   "metadata": {},
   "source": [
    "## Part 3"
   ]
  },
  {
   "cell_type": "code",
   "execution_count": 35,
   "metadata": {},
   "outputs": [
    {
     "data": {
      "text/markdown": [
       "Theoretical $\\tau$:  $ 23.00 \\pm 0.07 \\text{ } s $"
      ],
      "text/plain": [
       "<IPython.core.display.Markdown object>"
      ]
     },
     "metadata": {},
     "output_type": "display_data"
    }
   ],
   "source": [
    "C = 45 / 1e6  #microF -> F\n",
    "err_C = 0.1 / 1e6 # Limit on read from multimeter.\n",
    "\n",
    "R = 511 * 1000  # kOhm -> Ohm\n",
    "err_R = 1 * 1000 # Due to limit on multimeter.\n",
    "\n",
    "ETau = C * R\n",
    "err_ETau = rule_4(ETau, (C, err_C, 1), (R, err_R, 1))\n",
    "\n",
    "display_result(r\"Theoretical $\\tau$: \", ETau, err_ETau, \"s\")"
   ]
  },
  {
   "cell_type": "markdown",
   "metadata": {},
   "source": [
    "## Part 1 with Part 3 Data Added."
   ]
  },
  {
   "cell_type": "code",
   "execution_count": 36,
   "metadata": {},
   "outputs": [
    {
     "data": {
      "text/plain": [
       "<matplotlib.legend.Legend at 0x7f371f6a8550>"
      ]
     },
     "execution_count": 36,
     "metadata": {},
     "output_type": "execute_result"
    },
    {
     "data": {
      "image/png": "[encoded data removed]",
      "text/plain": [
       "<Figure size 432x288 with 1 Axes>"
      ]
     },
     "metadata": {
      "needs_background": "light"
     },
     "output_type": "display_data"
    },
    {
     "data": {
      "image/png": "[encoded data removed]",
      "text/plain": [
       "<Figure size 432x288 with 1 Axes>"
      ]
     },
     "metadata": {
      "needs_background": "light"
     },
     "output_type": "display_data"
    }
   ],
   "source": [
    "V0 = data[\"Discharge (V)\"][0] # Our voltage init.\n",
    "\n",
    "t_charge = V0 * (1 - np.exp(-data[\"Time (s)\"] / (R * C)))\n",
    "\n",
    "fig3, ax3 = build_plot(\"Charging of RC Circuit over Time\", \"Time (s)\", \"Electric Potential (V)\")\n",
    "ax3.plot(data[\"Time (s)\"], data[\"Charge (V)\"], \"o-\", label = \"Experimental\")\n",
    "ax3.plot(data[\"Time (s)\"], t_charge, label=\"Theoretical\")\n",
    "# Displaying the mean square error...\n",
    "ax3.text(0.99, 0.01, f\"RMSE: {rmse(data['Charge (V)'], t_charge):.05f}\", size=14, va=\"bottom\", ha=\"right\", transform=ax3.transAxes)\n",
    "ax3.legend()\n",
    "\n",
    "t_discharge = V0 * (np.exp(-data[\"Time (s)\"] / (R * C)))\n",
    "\n",
    "fig4, ax4 = build_plot(\"Discharging of RC Circuit over Time\", \"Time (s)\", \"Electric Potential (V)\")\n",
    "ax4.plot(data[\"Time (s)\"], data[\"Discharge (V)\"], \"o-\", label = \"Experimental\")\n",
    "ax4.plot(data[\"Time (s)\"], t_discharge, label=\"Theoretical\")\n",
    "ax4.text(0.01, 0.01, f\"RMSE: {rmse(data['Discharge (V)'], t_discharge):.02f}\", size=14, va=\"bottom\", ha=\"left\", transform=ax4.transAxes)\n",
    "ax4.legend()"
   ]
  },
  {
   "cell_type": "code",
   "execution_count": null,
   "metadata": {},
   "outputs": [],
   "source": []
  }
 ],
 "metadata": {
  "author": "Hello World",
  "kernelspec": {
   "display_name": "Python 3",
   "language": "python",
   "name": "python3"
  },
  "language_info": {
   "codemirror_mode": {
    "name": "ipython",
    "version": 3
   },
   "file_extension": ".py",
   "mimetype": "text/x-python",
   "name": "python",
   "nbconvert_exporter": "python",
   "pygments_lexer": "ipython3",
   "version": "3.8.5"
  },
  "latex_envs": {
   "LaTeX_envs_menu_present": true,
   "autoclose": false,
   "autocomplete": true,
   "bibliofile": "biblio.bib",
   "cite_by": "apalike",
   "current_citInitial": 1,
   "eqLabelWithNumbers": true,
   "eqNumInitial": 1,
   "hotkeys": {
    "equation": "Ctrl-E",
    "itemize": "Ctrl-I"
   },
   "labels_anchors": false,
   "latex_user_defs": false,
   "report_style_numbering": false,
   "user_envs_cfg": false
  }
 },
 "nbformat": 4,
 "nbformat_minor": 4
}
