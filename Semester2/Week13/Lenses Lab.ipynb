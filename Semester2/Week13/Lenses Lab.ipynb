{
 "cells": [
  {
   "cell_type": "markdown",
   "metadata": {},
   "source": [
    "# Lenses Lab\n",
    "\n",
    "#### _Note: Variable names in the code don't match part numbers given in questions, they refer to the order the experiments (1.1, 2.1, 1.2, 2.2)._\n",
    "\n",
    "Error for all parts was determined by seeing how far the white background could be moved without noticing the blur. We concluded this value to be about a centimeter.\n",
    "\n",
    "## Measurements\n",
    "\n",
    "### 1) Write down your measurement of the image distance from Experiment 1(part 1.1), when your object was at a distance of infinity, including the uncertainty.  (2 points)\n",
    "\n",
    "Note that the image distance, and focal point are identical for this part, since the light comes from infinity. The measurements gathered for part 1 are printed in the cell below."
   ]
  },
  {
   "cell_type": "code",
   "execution_count": 78,
   "metadata": {},
   "outputs": [
    {
     "data": {
      "text/markdown": [
       "Results for Part 1.1 (Image Distance/Focal Point): $ 16.20 \\pm 1.00 \\: cm $"
      ],
      "text/plain": [
       "<IPython.core.display.Markdown object>"
      ]
     },
     "metadata": {},
     "output_type": "display_data"
    }
   ],
   "source": [
    "from lablib import *\n",
    "import physplot\n",
    "\n",
    "fp1 = 16.2\n",
    "fp1_err = 1\n",
    "display_result(\"Results for Part 1.1 (Image Distance/Focal Point):\", fp1, fp1_err, \"cm\")"
   ]
  },
  {
   "cell_type": "markdown",
   "metadata": {},
   "source": [
    "### 2) Write down your measurements of the object and image distances from Experiment 2(part 1.2) for one of your cases including the uncertainties.  (3 points)\n",
    "\n",
    "Python code displays the first measure object and image distance."
   ]
  },
  {
   "cell_type": "code",
   "execution_count": 106,
   "metadata": {
    "scrolled": true
   },
   "outputs": [
    {
     "data": {
      "text/markdown": [
       "#### A Measurement For Part 1.2 (1.5f or 1st Measurement)"
      ],
      "text/plain": [
       "<IPython.core.display.Markdown object>"
      ]
     },
     "metadata": {},
     "output_type": "display_data"
    },
    {
     "data": {
      "text/markdown": [
       "Object Distance for 1st Measurement: $ 24.30 \\pm 1.00 \\: cm $"
      ],
      "text/plain": [
       "<IPython.core.display.Markdown object>"
      ]
     },
     "metadata": {},
     "output_type": "display_data"
    },
    {
     "data": {
      "text/markdown": [
       "Image Distance for 1st Measurement $ 40.50 \\pm 1.00 \\: cm $"
      ],
      "text/plain": [
       "<IPython.core.display.Markdown object>"
      ]
     },
     "metadata": {},
     "output_type": "display_data"
    }
   ],
   "source": [
    "o3s = np.array([1.5 * fp1, 2 * fp1, 4 * fp1])\n",
    "img3 = np.array([64.8, 61.5, 84.5]) - o3s\n",
    "markdown(\"#### A Measurement For Part 1.2 (1.5f or 1st Measurement)\")\n",
    "display_result(\n",
    "    [\"Object Distance for 1st Measurement:\", \"Image Distance for 1st Measurement\"],\n",
    "    [o3s[0], img3[0]],\n",
    "    [1, 1], # Again, assume 1 for the image error, 1 for object since it was lined up approximately to the start of the bar...\n",
    "    \"cm\"\n",
    ")"
   ]
  },
  {
   "cell_type": "markdown",
   "metadata": {},
   "source": [
    "### 3) Write down your measurement of the image distance from Experiment 3(part 2.1), when your object was at a distance of infinity, including the uncertainty.  (2 points)\n",
    "\n",
    "Python code displays result below. It was about $40 \\: cm$."
   ]
  },
  {
   "cell_type": "code",
   "execution_count": 101,
   "metadata": {},
   "outputs": [
    {
     "data": {
      "text/markdown": [
       "Image Distance for Part 2.1: $ 40.30 \\pm 1.00 \\: cm $"
      ],
      "text/plain": [
       "<IPython.core.display.Markdown object>"
      ]
     },
     "metadata": {},
     "output_type": "display_data"
    }
   ],
   "source": [
    "img2 = 40.3\n",
    "img2_err = 1\n",
    "display_result(f\"Image Distance for Part 2.1:\", img2, img2_err, \"cm\")\n",
    "\n",
    "# Calculate focal point here...\n",
    "fp2 = 1 / ((1 / img2) - (1 / fp1))\n",
    "fp2_err = 1\n",
    "# display_result(\"Results for Part 2.1:\", fp2, fp2_err, \"cm\")"
   ]
  },
  {
   "cell_type": "markdown",
   "metadata": {},
   "source": [
    "### 4) Write down your measurement of the object distance from the converging lens that you used in Experiment 4(part 2.2), including the uncertainty. (for separation of lenses of 8 cm)  (2 points)\n",
    "\n",
    "Code below prints the values for the object distance, (image from part 1.2), from the divergent lens. Notice they are all negative since they are on the same side as the image."
   ]
  },
  {
   "cell_type": "code",
   "execution_count": 81,
   "metadata": {},
   "outputs": [
    {
     "data": {
      "text/markdown": [
       "#### Object Distances for Part 2.2"
      ],
      "text/plain": [
       "<IPython.core.display.Markdown object>"
      ]
     },
     "metadata": {},
     "output_type": "display_data"
    },
    {
     "data": {
      "text/markdown": [
       "Object Disance for 2f: $ -14.10 \\pm 1.00 \\: cm $"
      ],
      "text/plain": [
       "<IPython.core.display.Markdown object>"
      ]
     },
     "metadata": {},
     "output_type": "display_data"
    },
    {
     "data": {
      "text/markdown": [
       "Object Disance for 4f: $ -11.70 \\pm 1.00 \\: cm $"
      ],
      "text/plain": [
       "<IPython.core.display.Markdown object>"
      ]
     },
     "metadata": {},
     "output_type": "display_data"
    },
    {
     "data": {
      "text/markdown": [
       "Results for Part 2.2: $ -24.39 \\pm 1.00 \\: cm $"
      ],
      "text/plain": [
       "<IPython.core.display.Markdown object>"
      ]
     },
     "metadata": {},
     "output_type": "display_data"
    }
   ],
   "source": [
    "o4s = -(img3[1:] - np.array([15, 8]))\n",
    "markdown(\"#### Object Distances for Part 2.2\")\n",
    "\n",
    "img4s = np.array([77.8 - 47.4, 97.2 - 72.8])\n",
    "display_result(\n",
    "    [f\"Object Disance for {i}f:\" for i in [2, 4]],\n",
    "    o4s,\n",
    "    1,\n",
    "    \"cm\"\n",
    ")"
   ]
  },
  {
   "cell_type": "markdown",
   "metadata": {},
   "source": [
    "## Results and Analysis\n",
    "\n",
    "### 5) What was the focal length you calculated in Experiment 2 (part 1.2) for one of your cases?  Show your work.  (3 points)\n",
    "\n",
    "Code below was used to calculate the focal distance for experiment 2, part 1.2. Below the cell displays the results for all of the cases, and the averaged value for the focal distance is displayed."
   ]
  },
  {
   "cell_type": "code",
   "execution_count": 85,
   "metadata": {
    "scrolled": true
   },
   "outputs": [
    {
     "data": {
      "text/markdown": [
       "#### Individual Results for Part 1.2"
      ],
      "text/plain": [
       "<IPython.core.display.Markdown object>"
      ]
     },
     "metadata": {},
     "output_type": "display_data"
    },
    {
     "data": {
      "text/markdown": [
       "Focal Distance for 1.5f Case: $ 15.19 \\pm 1.00 \\: cm $"
      ],
      "text/plain": [
       "<IPython.core.display.Markdown object>"
      ]
     },
     "metadata": {},
     "output_type": "display_data"
    },
    {
     "data": {
      "text/markdown": [
       "Focal Distance for 2f Case: $ 15.33 \\pm 1.00 \\: cm $"
      ],
      "text/plain": [
       "<IPython.core.display.Markdown object>"
      ]
     },
     "metadata": {},
     "output_type": "display_data"
    },
    {
     "data": {
      "text/markdown": [
       "Focal Distance for 4f Case: $ 15.11 \\pm 1.00 \\: cm $"
      ],
      "text/plain": [
       "<IPython.core.display.Markdown object>"
      ]
     },
     "metadata": {},
     "output_type": "display_data"
    },
    {
     "data": {
      "text/markdown": [
       "#### Average Focal Distance for Part 1.2"
      ],
      "text/plain": [
       "<IPython.core.display.Markdown object>"
      ]
     },
     "metadata": {},
     "output_type": "display_data"
    },
    {
     "data": {
      "text/markdown": [
       "Combined Result for Part 1.2 (Average): $ 15.21 \\pm 1.00 \\: cm $"
      ],
      "text/plain": [
       "<IPython.core.display.Markdown object>"
      ]
     },
     "metadata": {},
     "output_type": "display_data"
    }
   ],
   "source": [
    "fp3s = 1 / (1 / o3s + 1 / img3)\n",
    "fp3 = np.mean(fp3s)\n",
    "fp3_err = 1\n",
    "\n",
    "markdown(\"#### Individual Results for Part 1.2\")\n",
    "display_result(\n",
    "    [f\"Focal Distance for {f}f Case:\" for f in [1.5, 2, 4]],\n",
    "    fp3s,\n",
    "    fp3_err,\n",
    "    \"cm\"\n",
    ")\n",
    "\n",
    "markdown(\"#### Average Focal Distance for Part 1.2\")\n",
    "display_result(\"Combined Result for Part 1.2 (Average):\", fp3, fp3_err, \"cm\")"
   ]
  },
  {
   "cell_type": "markdown",
   "metadata": {},
   "source": [
    "### 6) What is the focal length you calculated in Experiment 1 (part 1.1) and the average from Experiment 2 (part 1.2) including the uncertainties?  Do these values agree?  Justify your answer.  (3 points)\n",
    "\n",
    "The focal distance for part 1.1 was $16.20 \\pm 1.00 \\: cm$, and the average focal distance for part 2 was $15.21 \\pm 1.00 \\: cm$. These values (barely) agree, as their uncertainty ranges of $-1$ to $+1$ do actually overlap. The code below checks this on the unrounded values, confirming they agree."
   ]
  },
  {
   "cell_type": "code",
   "execution_count": 93,
   "metadata": {
    "scrolled": true
   },
   "outputs": [
    {
     "data": {
      "text/markdown": [
       "#### Results from Parts 1.1 and 1.2"
      ],
      "text/plain": [
       "<IPython.core.display.Markdown object>"
      ]
     },
     "metadata": {},
     "output_type": "display_data"
    },
    {
     "data": {
      "text/markdown": [
       "Results for Part 1.1: $ 16.20 \\pm 1.00 \\: cm $"
      ],
      "text/plain": [
       "<IPython.core.display.Markdown object>"
      ]
     },
     "metadata": {},
     "output_type": "display_data"
    },
    {
     "data": {
      "text/markdown": [
       "Combined Result for Part 1.2 (Average): $ 15.21 \\pm 1.00 \\: cm $"
      ],
      "text/plain": [
       "<IPython.core.display.Markdown object>"
      ]
     },
     "metadata": {},
     "output_type": "display_data"
    },
    {
     "data": {
      "text/markdown": [
       "_Do values agree for parts 1.1 and 1.2? Yes!_"
      ],
      "text/plain": [
       "<IPython.core.display.Markdown object>"
      ]
     },
     "metadata": {},
     "output_type": "display_data"
    }
   ],
   "source": [
    "markdown(\"#### Results from Parts 1.1 and 1.2\")\n",
    "display_result(\"Results for Part 1.1:\", fp1, fp1_err, \"cm\")\n",
    "display_result(\"Combined Result for Part 1.2 (Average):\", fp3, fp3_err, \"cm\")\n",
    "markdown(f\"_Do values agree for parts 1.1 and 1.2? {'Yes!' if(values_agree(fp1, fp1_err, fp3, fp3_err)) else 'No!'}_\")"
   ]
  },
  {
   "cell_type": "markdown",
   "metadata": {},
   "source": [
    "### 7) What was the focal length you calculated for the diverging lens for one of your cases in Experiment 4(part 2.2)?  Show your work.  (4 points)\n",
    "\n",
    "The following python code below was used to calculate the focal length for part 2.2. Results of these calculations for each part and the average are displayed below."
   ]
  },
  {
   "cell_type": "code",
   "execution_count": 98,
   "metadata": {
    "scrolled": true
   },
   "outputs": [
    {
     "data": {
      "text/markdown": [
       "#### Individual Results for Part 2.2"
      ],
      "text/plain": [
       "<IPython.core.display.Markdown object>"
      ]
     },
     "metadata": {},
     "output_type": "display_data"
    },
    {
     "data": {
      "text/markdown": [
       "Focal Distance for 2f Case: $ -26.30 \\pm 1.00 \\: cm $"
      ],
      "text/plain": [
       "<IPython.core.display.Markdown object>"
      ]
     },
     "metadata": {},
     "output_type": "display_data"
    },
    {
     "data": {
      "text/markdown": [
       "Focal Distance for 4f Case: $ -22.48 \\pm 1.00 \\: cm $"
      ],
      "text/plain": [
       "<IPython.core.display.Markdown object>"
      ]
     },
     "metadata": {},
     "output_type": "display_data"
    },
    {
     "data": {
      "text/markdown": [
       "#### Average Focal Distance for Part 2.2"
      ],
      "text/plain": [
       "<IPython.core.display.Markdown object>"
      ]
     },
     "metadata": {},
     "output_type": "display_data"
    },
    {
     "data": {
      "text/markdown": [
       "Combined Result for Part 2.2 (Average): $ -24.39 \\pm 1.00 \\: cm $"
      ],
      "text/plain": [
       "<IPython.core.display.Markdown object>"
      ]
     },
     "metadata": {},
     "output_type": "display_data"
    }
   ],
   "source": [
    "fp4s = 1 / (1 / o4s + 1 / img4s)\n",
    "fp4 = np.mean(fp4s)\n",
    "fp4_err = 1\n",
    "\n",
    "markdown(\"#### Individual Results for Part 2.2\")\n",
    "display_result(\n",
    "    [f\"Focal Distance for {f}f Case:\" for f in [2, 4]],\n",
    "    fp4s,\n",
    "    fp4_err,\n",
    "    \"cm\"\n",
    ")\n",
    "\n",
    "markdown(\"#### Average Focal Distance for Part 2.2\")\n",
    "display_result(\"Combined Result for Part 2.2 (Average):\", fp4, fp4_err, \"cm\")"
   ]
  },
  {
   "cell_type": "markdown",
   "metadata": {},
   "source": [
    "###  8) What is the focal length you calculated in Experiment 3(part 2.1) and the average from Experiment 4(part 2.2) including the uncertainties?  Do these values agree?  Justify your answer.  (3 points)\n",
    "\n",
    "The focal length for part 2.1 is $−27.09 \\pm 1.00 \\: cm$ and part 2.2 is $−24.39 \\pm 1.00 \\: cm$. These results happen to not agree with each other, as their uncertainty ranges do not overlap (-27.09 and -24.39 are not 1 away from each other). The code below checks this on the unrounded values and reaches the same conclusion. "
   ]
  },
  {
   "cell_type": "code",
   "execution_count": 103,
   "metadata": {},
   "outputs": [
    {
     "data": {
      "text/markdown": [
       "#### Results for Parts 2.1 and 2.2"
      ],
      "text/plain": [
       "<IPython.core.display.Markdown object>"
      ]
     },
     "metadata": {},
     "output_type": "display_data"
    },
    {
     "data": {
      "text/markdown": [
       "Results for Part 2.1: $ -27.09 \\pm 1.00 \\: cm $"
      ],
      "text/plain": [
       "<IPython.core.display.Markdown object>"
      ]
     },
     "metadata": {},
     "output_type": "display_data"
    },
    {
     "data": {
      "text/markdown": [
       "Combined Result for Part 2.2 (Average): $ -24.39 \\pm 1.00 \\: cm $"
      ],
      "text/plain": [
       "<IPython.core.display.Markdown object>"
      ]
     },
     "metadata": {},
     "output_type": "display_data"
    },
    {
     "data": {
      "text/markdown": [
       "Do values agree for parts 2.1 and 2.2? No!"
      ],
      "text/plain": [
       "<IPython.core.display.Markdown object>"
      ]
     },
     "metadata": {},
     "output_type": "display_data"
    }
   ],
   "source": [
    "markdown(\"#### Results for Parts 2.1 and 2.2\")\n",
    "display_result(\"Results for Part 2.1:\", fp2, fp2_err, \"cm\")\n",
    "display_result(\"Combined Result for Part 2.2 (Average):\", fp4, fp4_err, \"cm\")\n",
    "markdown(f\"Do values agree for parts 2.1 and 2.2? {'Yes!' if(values_agree(fp2, fp2_err, fp4, fp4_err)) else 'No!'}\")"
   ]
  },
  {
   "cell_type": "markdown",
   "metadata": {},
   "source": [
    "## Concepts\n",
    "\n",
    "### 9) Why did we have to use a two lens system to find the focal length of the diverging lens?  (3 points)\n",
    "\n",
    "The image constructed by a divergent lens is virtual, and therefore not visible to the observer (The image appears behind the lens, and does not actually converge at that point, it just appears to diverge from that point). Therefore, to generate a virtual image that is actually visible, the divergent lens must be combined with a convergent lens. The image generated by the convergent lens produces a negative object (object on the same side as the final image), which the divergent lens is capable of showing a visible virtual image for that can be observed, measured."
   ]
  },
  {
   "cell_type": "code",
   "execution_count": null,
   "metadata": {},
   "outputs": [],
   "source": []
  }
 ],
 "metadata": {
  "kernelspec": {
   "display_name": "Python 3",
   "language": "python",
   "name": "python3"
  },
  "language_info": {
   "codemirror_mode": {
    "name": "ipython",
    "version": 3
   },
   "file_extension": ".py",
   "mimetype": "text/x-python",
   "name": "python",
   "nbconvert_exporter": "python",
   "pygments_lexer": "ipython3",
   "version": "3.8.5"
  }
 },
 "nbformat": 4,
 "nbformat_minor": 4
}
