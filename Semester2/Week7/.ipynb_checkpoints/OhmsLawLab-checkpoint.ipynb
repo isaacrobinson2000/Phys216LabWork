{
 "cells": [
  {
   "cell_type": "markdown",
   "metadata": {},
   "source": [
    "# Ohms Law Lab\n",
    "\n",
    "### ~~Submit your GitHub link for your plot of V vs I for the unknown resistor (4 pts)~~\n",
    "### ~~What was the directly measured (with your multimeter) value for the resistance of the unknown resistor including the uncertainty.  This is considered to be the \"accepted\" value. (2 pts)~~\n",
    "\n",
    "As stated in class, we didn't have to do this part of the lab this week, as we did a similar plot for last weeks lab.\n",
    "\n",
    "Usual error code..."
   ]
  },
  {
   "cell_type": "code",
   "execution_count": 2,
   "metadata": {},
   "outputs": [],
   "source": [
    "from IPython.display import Markdown\n",
    "from typing import Iterable, Tuple, Union, Any\n",
    "import numpy as np\n",
    "# Define our rules...\n",
    "\n",
    "def rule_1(c, error_val):\n",
    "    return abs(c) * error_val\n",
    "\n",
    "# res = c * val ^ power, where error in value is error_val....\n",
    "def rule_2(c, val, error_val, power):\n",
    "    return abs(c * power * val ** (power - 1)) * error_val\n",
    "\n",
    "def rule_3(*err_vals: Iterable[float]) -> float:\n",
    "    \"\"\"\n",
    "    Calculate rule 3 from the paper 'Treatment of Data'.\n",
    "    \n",
    "    @param err_vals: A list of parameters, being the errors in each value. It is assumed they were summed \n",
    "                     together to get the final value.\n",
    "    \n",
    "    @returns: The error of all of the sum of the values...\n",
    "    \"\"\"\n",
    "    total = 0\n",
    "    \n",
    "    for err in err_vals:\n",
    "        total += err ** 2\n",
    "    \n",
    "    return np.sqrt(total)\n",
    "\n",
    "\n",
    "def rule_4(value: float, *error_list: Iterable[Tuple[float, float, float]]) -> float:\n",
    "    \"\"\"\n",
    "    Calculate rule 4 from the paper 'Treatment of Data'.\n",
    "    \n",
    "    @param value: The value of the thing we are trying to calculate the error of.\n",
    "    @param error_list: A list of length 3 tuples. \n",
    "                       Each tuple should contain:\n",
    "                       - A float: A value in the error formula.\n",
    "                       - A float: The measured error in the above value.\n",
    "                       - A float: The power of the above value in the multiplicative formula.\n",
    "\n",
    "    @returns: A float, being the error in 'value'.\n",
    "    \"\"\"\n",
    "    total = 0\n",
    "    \n",
    "    for x, x_err, power in error_list:\n",
    "        total += (power * (x_err / x)) ** 2\n",
    "        \n",
    "    return abs(value) * np.sqrt(total)\n",
    "\n",
    "FloatVec = Union[float, np.ndarray] \n",
    "BoolVec = Union[bool, np.ndarray]\n",
    "OpVec = Union[Any, Iterable]\n",
    "StrVec = Union[str, Iterable[str]]\n",
    "\n",
    "def values_agree(val_1: FloatVec, err_1: FloatVec, val_2: FloatVec, err_2: FloatVec) -> BoolVec:\n",
    "    \"\"\"\n",
    "    Determines if the values in 2 vectors(arrays) agree with each other, given there uncertainty values. \n",
    "    \n",
    "    @param val_1: The 1st array of values.\n",
    "    @param err_1: The uncertainty values for the 1st vector.\n",
    "    @param val_2: The 2nd array of values.\n",
    "    @param err_2: The uncertainty values for the 2st vector. \n",
    "    \n",
    "    @returns: A vector of booleans, being whether each value agrees with the other.\n",
    "    \"\"\"\n",
    "    # Grab the ranges for each value...\n",
    "    r11, r12 = val_1 - err_1, val_1 + err_1\n",
    "    r21, r22 = val_2 - err_2, val_2 + err_2\n",
    "    \n",
    "    # The ranges are sorted (r21 <= r22 and r11 <= r12), so the simple 2 checks below are enough. \n",
    "    # Check 1: Does r21(lowest value of 2nd range) land above the 1st range? If so fail...\n",
    "    # Check 2: Does r22(highest value of 2nd range) fall below the 1st range? If so fail...\n",
    "    return ((r21 <= r12) & (r11 <= r22))\n",
    "\n",
    "# Some extra stuff for pretty printing measurements....\n",
    "from IPython.display import Markdown\n",
    "\n",
    "def format_result(msgs: OpVec, value: OpVec, value_error: OpVec, units: OpVec, past_dec: OpVec = 2) -> StrVec:\n",
    "    all_arrs = [msgs, value, value_error, units, past_dec]\n",
    "    \n",
    "    def to_vec(val, types): \n",
    "        return [val] if(isinstance(val, types)) else list(val)\n",
    "    \n",
    "    (msgs, value, value_error, units, past_dec) = all_arrs = [\n",
    "        to_vec(v, (float, int, str)) for v in all_arrs\n",
    "    ]\n",
    "    max_len = max(len(arr) for arr in all_arrs)\n",
    "    \n",
    "    msgs, value, value_error, units, past_dec = all_arrs = [\n",
    "        (v * max_len if(len(v) == 1) else v) for v in all_arrs\n",
    "    ]\n",
    "    \n",
    "    # Nesting variable in the formating of variables, not confusing at all....\n",
    "    return [\n",
    "        fr\"{msg}$ {v:.0{pd}f} \\pm {v_err:.0{pd}f} \\text{{ }} {u} $\"\n",
    "        for msg, v, v_err, pd, u in zip(msgs, value, value_error, past_dec, units)\n",
    "    ]\n",
    "\n",
    "def display_result(*args, **kwargs):\n",
    "    for res in format_result(*args, **kwargs):\n",
    "        display(Markdown(res))\n",
    "\n",
    "# Print function for markdown :)...\n",
    "def mkdwn(string):\n",
    "    display(Markdown(string))"
   ]
  },
  {
   "cell_type": "markdown",
   "metadata": {},
   "source": [
    "## Measurements\n",
    "\n",
    "Here is the entire table of values that I measured, and used for my calculations."
   ]
  },
  {
   "cell_type": "code",
   "execution_count": 3,
   "metadata": {},
   "outputs": [
    {
     "data": {
      "text/html": [
       "<div>\n",
       "<style scoped>\n",
       "    .dataframe tbody tr th:only-of-type {\n",
       "        vertical-align: middle;\n",
       "    }\n",
       "\n",
       "    .dataframe tbody tr th {\n",
       "        vertical-align: top;\n",
       "    }\n",
       "\n",
       "    .dataframe thead th {\n",
       "        text-align: right;\n",
       "    }\n",
       "</style>\n",
       "<table border=\"1\" class=\"dataframe\">\n",
       "  <thead>\n",
       "    <tr style=\"text-align: right;\">\n",
       "      <th></th>\n",
       "      <th>V1 (V)</th>\n",
       "      <th>V2 (V)</th>\n",
       "      <th>I1 (mA)</th>\n",
       "      <th>I2 (mA)</th>\n",
       "      <th>VT (V)</th>\n",
       "      <th>V Error (V)</th>\n",
       "      <th>I Error (mA)</th>\n",
       "    </tr>\n",
       "    <tr>\n",
       "      <th>Circut</th>\n",
       "      <th></th>\n",
       "      <th></th>\n",
       "      <th></th>\n",
       "      <th></th>\n",
       "      <th></th>\n",
       "      <th></th>\n",
       "      <th></th>\n",
       "    </tr>\n",
       "  </thead>\n",
       "  <tbody>\n",
       "    <tr>\n",
       "      <th>Series</th>\n",
       "      <td>2.55</td>\n",
       "      <td>0.48</td>\n",
       "      <td>26.0</td>\n",
       "      <td>26.0</td>\n",
       "      <td>3.17</td>\n",
       "      <td>0.01275</td>\n",
       "      <td>0.3120</td>\n",
       "    </tr>\n",
       "    <tr>\n",
       "      <th>Parallel</th>\n",
       "      <td>2.91</td>\n",
       "      <td>2.91</td>\n",
       "      <td>29.2</td>\n",
       "      <td>138.6</td>\n",
       "      <td>0.00</td>\n",
       "      <td>0.01455</td>\n",
       "      <td>1.6632</td>\n",
       "    </tr>\n",
       "  </tbody>\n",
       "</table>\n",
       "</div>"
      ],
      "text/plain": [
       "          V1 (V)  V2 (V)  I1 (mA)  I2 (mA)  VT (V)  V Error (V)  I Error (mA)\n",
       "Circut                                                                       \n",
       "Series      2.55    0.48     26.0     26.0    3.17      0.01275        0.3120\n",
       "Parallel    2.91    2.91     29.2    138.6    0.00      0.01455        1.6632"
      ]
     },
     "metadata": {},
     "output_type": "display_data"
    }
   ],
   "source": [
    "import pandas as pd\n",
    "\n",
    "# Load in the raw data for both parts...\n",
    "i_and_v = pd.read_csv(\"i_and_v.csv\", index_col=0)\n",
    "display(i_and_v)"
   ]
  },
  {
   "cell_type": "markdown",
   "metadata": {},
   "source": [
    "### 1.) Write down your measurements of the potential drops V1, V2 and Vtotal for the circuit with the two resistors in series with uncertainties. (3 pts)\n",
    "\n",
    "The following code below loads in the dataset, computes the voltage errors, and displays the voltages and there uncertainties. See the output of the cell below to get the values for V1, V2, and Vtotal... "
   ]
  },
  {
   "cell_type": "code",
   "execution_count": 4,
   "metadata": {},
   "outputs": [
    {
     "data": {
      "text/markdown": [
       "$V_1$: $ 2.55 \\pm 0.01 \\text{ } V $"
      ],
      "text/plain": [
       "<IPython.core.display.Markdown object>"
      ]
     },
     "metadata": {},
     "output_type": "display_data"
    },
    {
     "data": {
      "text/markdown": [
       "$V_2$: $ 0.48 \\pm 0.01 \\text{ } V $"
      ],
      "text/plain": [
       "<IPython.core.display.Markdown object>"
      ]
     },
     "metadata": {},
     "output_type": "display_data"
    },
    {
     "data": {
      "text/markdown": [
       "$V_{total}$: $ 3.17 \\pm 0.02 \\text{ } V $"
      ],
      "text/plain": [
       "<IPython.core.display.Markdown object>"
      ]
     },
     "metadata": {},
     "output_type": "display_data"
    }
   ],
   "source": [
    "import pandas as pd\n",
    "\n",
    "# Load in the raw data for both parts...\n",
    "i_and_v = pd.read_csv(\"i_and_v.csv\", index_col=0)\n",
    "V1 = i_and_v[\"V1 (V)\"]\n",
    "V2 = i_and_v[\"V2 (V)\"]\n",
    "err_V = i_and_v[\"V Error (V)\"]\n",
    "\n",
    "V_total = i_and_v[\"VT (V)\"][\"Series\"]\n",
    "err_V_total = rule_3(err_V, err_V)[\"Series\"]\n",
    "\n",
    "# Display the results using our new display function....\n",
    "display_result(\n",
    "    [\"$V_1$: \", \"$V_2$: \", \"$V_{total}$: \"], \n",
    "    [V1[\"Series\"], V2[\"Series\"], V_total], \n",
    "    [err_V[\"Series\"], err_V[\"Series\"], err_V_total], \n",
    "    \"V\"\n",
    ")"
   ]
  },
  {
   "cell_type": "markdown",
   "metadata": {},
   "source": [
    "### 2.) Write down your measurements of the currents I1, I2, and Itotal for the circuit with two resistors in parallel.     (3 pts)\n",
    "\n",
    "Listed in the output for the below code cell are my measurements of I1, I2, and Itotal for the parallel circuit."
   ]
  },
  {
   "cell_type": "code",
   "execution_count": 5,
   "metadata": {},
   "outputs": [
    {
     "data": {
      "text/markdown": [
       "$I_1$: $ 29.20 \\pm 1.66 \\text{ } mA $"
      ],
      "text/plain": [
       "<IPython.core.display.Markdown object>"
      ]
     },
     "metadata": {},
     "output_type": "display_data"
    },
    {
     "data": {
      "text/markdown": [
       "$I_2$: $ 138.60 \\pm 1.66 \\text{ } mA $"
      ],
      "text/plain": [
       "<IPython.core.display.Markdown object>"
      ]
     },
     "metadata": {},
     "output_type": "display_data"
    },
    {
     "data": {
      "text/markdown": [
       "$I_{total}$: $ 167.80 \\pm 2.35 \\text{ } mA $"
      ],
      "text/plain": [
       "<IPython.core.display.Markdown object>"
      ]
     },
     "metadata": {},
     "output_type": "display_data"
    }
   ],
   "source": [
    "I1 = i_and_v[\"I1 (mA)\"] / 1000  # mA -> A \n",
    "I2 = i_and_v[\"I2 (mA)\"] / 1000  # mA -> A\n",
    "err_I = i_and_v[\"I Error (mA)\"] / 1000  # mA -> A\n",
    "\n",
    "sum_I = (I1 + I2)[1]\n",
    "err_sum_I = rule_3(err_I, err_I)[\"Parallel\"]\n",
    "\n",
    "# Quickly convert back to mA for display, otherwise values are really small...\n",
    "display_result(\n",
    "    [\"$I_1$: \", \"$I_2$: \", \"$I_{total}$: \"], \n",
    "    [i * 1000 for i in [I1[\"Parallel\"], I2[\"Parallel\"], sum_I]], \n",
    "    [i * 1000 for i in [err_I[\"Parallel\"], err_I[\"Parallel\"], err_sum_I]], \n",
    "    \"mA\"\n",
    ")"
   ]
  },
  {
   "cell_type": "markdown",
   "metadata": {},
   "source": [
    "## Calculations\n",
    "\n",
    "### ~~What is the value of the resistance that you found from your plot for the single resistor circuit including the uncertainty?  Does this resistance agree with the one that you directly measured using the multimeter?  Justify your answer.  (3 points)~~\n",
    "\n",
    "Again, did not do this part of the experiment.\n",
    "\n",
    "### What was the value of the equivalent resistance that you calculated for the circuit with two resistors in series from your measurements of Vtotal and Itotal. Make sure to include the estimated uncertainty.  Does this value agree with the directly measured (with the ohmmeter) equivalent resistance value?  Justify your answer. (4 points)\n",
    "\n",
    "See the code block below for code calculations. For the first part of the experiment, I got a total resistance of $ 121.92 \\pm 1.62 \\text{ } \\Omega $. This value does not agree with the theoretical value a calculated, which is $ 117.70 \\pm 0.80 \\text{ } \\Omega $, as the error ranges on theses values don't overlap at any given location. I suspect this is due to the errors given in the operators manual for measurements not being enough, as I suspect more error in the instrument. Also, the meter seems to consistently read resistance values significantly less than both the experimental values and labeled values on the resistor (also did this during the last exercise), so I suspect there is an issue with my multimeter.\n",
    "\n",
    "### What was the value of the equivalent resistance that you calculated for the circuit with two resistors in parallel from your measurements. Make sure to include the estimated uncertainty.  Does this value agree with the directly measured (with the ohmmeter) equivalent resistance value?  Justify your answer. (4 points)\n",
    "\n",
    "See the code block below for code calculations. For the second part of the experiment, I got a total resistance of $ 17.34 \\pm 0.26 \\text{ } \\Omega $. This again, does not agree with my directly measured values for the total resistance, which gave a result of $ 16.34 \\pm 0.11 \\text{ } \\Omega $, which does not overlap the experimental result at any given location when comparing their error ranges. I suspect the values failed to agree for similar reasons as the first part, specifically the multimeter giving poor direct resistance measurements."
   ]
  },
  {
   "cell_type": "code",
   "execution_count": 9,
   "metadata": {
    "scrolled": false
   },
   "outputs": [
    {
     "data": {
      "text/markdown": [
       "#### Experimental $R_1$: "
      ],
      "text/plain": [
       "<IPython.core.display.Markdown object>"
      ]
     },
     "metadata": {},
     "output_type": "display_data"
    },
    {
     "data": {
      "text/markdown": [
       "$R_{1}$ Series: $ 98.08 \\pm 1.28 \\text{ } \\Omega $"
      ],
      "text/plain": [
       "<IPython.core.display.Markdown object>"
      ]
     },
     "metadata": {},
     "output_type": "display_data"
    },
    {
     "data": {
      "text/markdown": [
       "$R_{1}$ Parallel: $ 99.66 \\pm 5.70 \\text{ } \\Omega $"
      ],
      "text/plain": [
       "<IPython.core.display.Markdown object>"
      ]
     },
     "metadata": {},
     "output_type": "display_data"
    },
    {
     "data": {
      "text/markdown": [
       "#### Experimental $R_2$: "
      ],
      "text/plain": [
       "<IPython.core.display.Markdown object>"
      ]
     },
     "metadata": {},
     "output_type": "display_data"
    },
    {
     "data": {
      "text/markdown": [
       "$R_{2}$ Series: $ 18.46 \\pm 0.54 \\text{ } \\Omega $"
      ],
      "text/plain": [
       "<IPython.core.display.Markdown object>"
      ]
     },
     "metadata": {},
     "output_type": "display_data"
    },
    {
     "data": {
      "text/markdown": [
       "$R_{2}$ Parallel: $ 21.00 \\pm 0.27 \\text{ } \\Omega $"
      ],
      "text/plain": [
       "<IPython.core.display.Markdown object>"
      ]
     },
     "metadata": {},
     "output_type": "display_data"
    },
    {
     "data": {
      "text/markdown": [
       "#### Experimental $R_{total}$ for Series:"
      ],
      "text/plain": [
       "<IPython.core.display.Markdown object>"
      ]
     },
     "metadata": {},
     "output_type": "display_data"
    },
    {
     "data": {
      "text/markdown": [
       "$R_{total}$ Parallel: $ 121.92 \\pm 1.62 \\text{ } \\Omega $"
      ],
      "text/plain": [
       "<IPython.core.display.Markdown object>"
      ]
     },
     "metadata": {},
     "output_type": "display_data"
    },
    {
     "data": {
      "text/markdown": [
       "#### Experimental $R_{total}$ for Parallel:"
      ],
      "text/plain": [
       "<IPython.core.display.Markdown object>"
      ]
     },
     "metadata": {},
     "output_type": "display_data"
    },
    {
     "data": {
      "text/markdown": [
       "$R_{total}$ Series: $ 17.34 \\pm 0.26 \\text{ } \\Omega $"
      ],
      "text/plain": [
       "<IPython.core.display.Markdown object>"
      ]
     },
     "metadata": {},
     "output_type": "display_data"
    },
    {
     "data": {
      "text/markdown": [
       "#### Directly Measured $R$ Values: "
      ],
      "text/plain": [
       "<IPython.core.display.Markdown object>"
      ]
     },
     "metadata": {},
     "output_type": "display_data"
    },
    {
     "data": {
      "text/markdown": [
       "$R_1$: $ 98.10 \\pm 0.78 \\text{ } \\Omega $"
      ],
      "text/plain": [
       "<IPython.core.display.Markdown object>"
      ]
     },
     "metadata": {},
     "output_type": "display_data"
    },
    {
     "data": {
      "text/markdown": [
       "$R_2$: $ 19.60 \\pm 0.16 \\text{ } \\Omega $"
      ],
      "text/plain": [
       "<IPython.core.display.Markdown object>"
      ]
     },
     "metadata": {},
     "output_type": "display_data"
    },
    {
     "data": {
      "text/markdown": [
       "#### Directly Calculated(Theoretical) $R_{total}$ for Series:"
      ],
      "text/plain": [
       "<IPython.core.display.Markdown object>"
      ]
     },
     "metadata": {},
     "output_type": "display_data"
    },
    {
     "data": {
      "text/markdown": [
       "$R_{total}$ Parallel: $ 117.70 \\pm 0.80 \\text{ } \\Omega $"
      ],
      "text/plain": [
       "<IPython.core.display.Markdown object>"
      ]
     },
     "metadata": {},
     "output_type": "display_data"
    },
    {
     "data": {
      "text/markdown": [
       "#### Directly Calculated(Theoretical) $R_{total}$ for Paralell:"
      ],
      "text/plain": [
       "<IPython.core.display.Markdown object>"
      ]
     },
     "metadata": {},
     "output_type": "display_data"
    },
    {
     "data": {
      "text/markdown": [
       "$R_{total}$ Parallel: $ 16.34 \\pm 0.11 \\text{ } \\Omega $"
      ],
      "text/plain": [
       "<IPython.core.display.Markdown object>"
      ]
     },
     "metadata": {},
     "output_type": "display_data"
    }
   ],
   "source": [
    "r = pd.read_csv(\"r.csv\")\n",
    "# Compute experimental R1 for both parts....\n",
    "R1 = V1 / I1\n",
    "err_R1 = rule_4(R1, (I1, err_I, -1), (V1, err_V, 1))\n",
    "mkdwn(\"#### Experimental $R_1$: \")\n",
    "display_result([\"$R_{1}$ Series: \", \"$R_{1}$ Parallel: \"], R1, err_R1, \"\\Omega\")\n",
    "\n",
    "# Compute experimental R2 for both parts...\n",
    "R2 = V2 / I2\n",
    "err_R2 = rule_4(R2, (I2, err_I, -1), (V2, err_V, 1))\n",
    "mkdwn(\"#### Experimental $R_2$: \")\n",
    "display_result([\"$R_{2}$ Series: \", \"$R_{2}$ Parallel: \"], R2, err_R2, \"\\Omega\")\n",
    "\n",
    "# R total for part one of the experiment.\n",
    "R_total_p1 = (V_total / I1[0])\n",
    "err_R_total_p1 = rule_4(R_total_p1, (V_total, err_V_total, 1), (I1[0], err_I[0], -1))\n",
    "mkdwn(\"#### Experimental $R_{total}$ for Series:\")\n",
    "display_result(\"$R_{total}$ Parallel: \", R_total_p1, err_R_total_p1, \"\\Omega\")\n",
    "\n",
    "# R total for part two of the experiment...\n",
    "R_total_p2 = (V1[1] / sum_I)\n",
    "err_R_total_p2 = rule_4(R_total_p2, (V1[1], err_V[1], 1), (sum_I, err_sum_I, -1))\n",
    "mkdwn(\"#### Experimental $R_{total}$ for Parallel:\")\n",
    "display_result(\"$R_{total}$ Series: \", R_total_p2, err_R_total_p2, \"\\Omega\")\n",
    "\n",
    "# R1 and R2 measured directly....\n",
    "R1_direct, R2_direct = r[\"R Measured (Ohms)\"]\n",
    "err_R1_direct, err_R2_direct = r[\"R Error (Ohms)\"]\n",
    "mkdwn(\"#### Directly Measured $R$ Values: \")\n",
    "display_result([\"$R_1$: \", \"$R_2$: \"], [R1_direct, R2_direct], [err_R1_direct, err_R2_direct], \"\\Omega\")\n",
    "\n",
    "R_total_p1_direct = R1_direct + R2_direct\n",
    "err_R_total_p1_direct = rule_3(err_R1_direct, err_R2_direct)\n",
    "mkdwn(\"#### Directly Calculated(Theoretical) $R_{total}$ for Series:\")\n",
    "display_result(\"$R_{total}$ Parallel: \", R_total_p1_direct, err_R_total_p1_direct, \"\\Omega\")\n",
    "\n",
    "inv = (1 / R1_direct) + (1 / R2_direct)\n",
    "R_total_p2_direct = 1 / inv\n",
    "err_inv = rule_3(rule_2(1, R1_direct, err_R1_direct, -1), rule_2(1, R2_direct, err_R2_direct, -1))\n",
    "err_R_total_p2_direct = rule_2(1, inv, err_inv, -1)\n",
    "mkdwn(\"#### Directly Calculated(Theoretical) $R_{total}$ for Paralell:\")\n",
    "display_result(\"$R_{total}$ Parallel: \", R_total_p2_direct, err_R_total_p2_direct, \"\\Omega\")"
   ]
  },
  {
   "cell_type": "markdown",
   "metadata": {},
   "source": [
    "## Concepts\n",
    "\n",
    "### 1.) What should have been the relationship between the currents I1, I2 and Itotal for the circuit with two resistors in parallel? (2 points)\n",
    "\n",
    "We see the relationship for resistance is:\n",
    "$$\n",
    "\\frac {1} {R_f} = \\frac {1} {R_1} + \\frac {1} {R_2}\n",
    "$$\n",
    "Now, plugging in $\\frac{V}{I}$ for $R$, and noting $V_1=V_2=V_f$ we can solve for $I_f$:\n",
    "$$\n",
    "\\frac {I_f}{V} = \\frac {I_1}{V} + \\frac {I_2}{V} \\implies I_f = I_1 + I_2\n",
    "$$\n",
    "\n",
    "Notice, this tells us the total or final current equals the sum of the two currents passing through each resistor. This makes sense intrinsically also, as the current gets divided between the two paths or resistors, yet we know that none of the current 'disappears', as we can see the same total current coming out the other side.\n",
    "\n",
    "### 1.) If you were to add another 100 ohm resistor to the parallel circuit, would the total resistance increase or decrease? (2 points)\n",
    "\n",
    "If we add another resistor to the circuit, we provide another pathway for the current to travel down, and therefore more current can travel through our resistor array. By definition, since voltage is constant and the current has increased, the resistance resisting the current must have gone down to account for this. This intuitive conclusion matches the conclusion we would arrive at by applying the formula for calculating the resistance of parallel resistors, as we add another reciprocal term."
   ]
  },
  {
   "cell_type": "code",
   "execution_count": null,
   "metadata": {},
   "outputs": [],
   "source": []
  }
 ],
 "metadata": {
  "celltoolbar": "Raw Cell Format",
  "kernelspec": {
   "display_name": "Python 3",
   "language": "python",
   "name": "python3"
  },
  "language_info": {
   "codemirror_mode": {
    "name": "ipython",
    "version": 3
   },
   "file_extension": ".py",
   "mimetype": "text/x-python",
   "name": "python",
   "nbconvert_exporter": "python",
   "pygments_lexer": "ipython3",
   "version": "3.8.5"
  }
 },
 "nbformat": 4,
 "nbformat_minor": 4
}
