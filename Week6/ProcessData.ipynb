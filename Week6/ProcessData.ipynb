{
 "cells": [
  {
   "cell_type": "markdown",
   "metadata": {},
   "source": [
    "## PART 1:"
   ]
  },
  {
   "cell_type": "code",
   "execution_count": 68,
   "metadata": {},
   "outputs": [
    {
     "data": {
      "text/html": [
       "<div>\n",
       "<style scoped>\n",
       "    .dataframe tbody tr th:only-of-type {\n",
       "        vertical-align: middle;\n",
       "    }\n",
       "\n",
       "    .dataframe tbody tr th {\n",
       "        vertical-align: top;\n",
       "    }\n",
       "\n",
       "    .dataframe thead th {\n",
       "        text-align: right;\n",
       "    }\n",
       "</style>\n",
       "<table border=\"1\" class=\"dataframe\">\n",
       "  <thead>\n",
       "    <tr style=\"text-align: right;\">\n",
       "      <th></th>\n",
       "      <th>Theta(deg)</th>\n",
       "    </tr>\n",
       "  </thead>\n",
       "  <tbody>\n",
       "    <tr>\n",
       "      <th>0</th>\n",
       "      <td>45.0</td>\n",
       "    </tr>\n",
       "    <tr>\n",
       "      <th>1</th>\n",
       "      <td>46.0</td>\n",
       "    </tr>\n",
       "    <tr>\n",
       "      <th>2</th>\n",
       "      <td>45.5</td>\n",
       "    </tr>\n",
       "    <tr>\n",
       "      <th>3</th>\n",
       "      <td>46.0</td>\n",
       "    </tr>\n",
       "    <tr>\n",
       "      <th>4</th>\n",
       "      <td>46.0</td>\n",
       "    </tr>\n",
       "    <tr>\n",
       "      <th>5</th>\n",
       "      <td>46.0</td>\n",
       "    </tr>\n",
       "    <tr>\n",
       "      <th>6</th>\n",
       "      <td>46.0</td>\n",
       "    </tr>\n",
       "    <tr>\n",
       "      <th>7</th>\n",
       "      <td>46.0</td>\n",
       "    </tr>\n",
       "    <tr>\n",
       "      <th>8</th>\n",
       "      <td>46.0</td>\n",
       "    </tr>\n",
       "    <tr>\n",
       "      <th>9</th>\n",
       "      <td>46.0</td>\n",
       "    </tr>\n",
       "  </tbody>\n",
       "</table>\n",
       "</div>"
      ],
      "text/plain": [
       "   Theta(deg)\n",
       "0        45.0\n",
       "1        46.0\n",
       "2        45.5\n",
       "3        46.0\n",
       "4        46.0\n",
       "5        46.0\n",
       "6        46.0\n",
       "7        46.0\n",
       "8        46.0\n",
       "9        46.0"
      ]
     },
     "metadata": {},
     "output_type": "display_data"
    },
    {
     "name": "stdout",
     "output_type": "stream",
     "text": [
      "Velocity: 5.04m/s\n"
     ]
    }
   ],
   "source": [
    "# @hidden_cell\n",
    "import pandas as pd\n",
    "import numpy as np\n",
    "\n",
    "p1d = pd.read_csv(\"Part1Data.csv\")\n",
    "display(p1d)\n",
    "\n",
    "m = 65.5 / 1000 # g... -> kg\n",
    "M = 191.7 / 1000 # g... -> kg\n",
    "R = 27.7 / 100 # cm -> m\n",
    "\n",
    "dm = 0.1 / 1000 # g -> kg\n",
    "dM = 0.1 / 1000 # g -> kg\n",
    "dR = 0.2 / 100 # cm -> m\n",
    "\n",
    "g = 9.8 # in m/s^2\n",
    "\n",
    "theta_avg_rad = np.deg2rad(np.mean(p1d[\"Theta(deg)\"]))\n",
    "v = ((m + M) / m) * np.sqrt(2 * g * R * (1 - np.cos(theta_avg_rad)))\n",
    "print(f\"Velocity: {v:.02f}m/s\")"
   ]
  },
  {
   "cell_type": "code",
   "execution_count": 69,
   "metadata": {},
   "outputs": [
    {
     "name": "stdout",
     "output_type": "stream",
     "text": [
      "Error in Velocity: 0.022532m/s\n"
     ]
    }
   ],
   "source": [
    "cosVals = 1 - np.cos(np.deg2rad(p1d[\"Theta(deg)\"]))\n",
    "\n",
    "dmDM = np.sqrt(dM ** 2 + dm ** 2)\n",
    "cosAvg = np.mean(cosVals)\n",
    "d1cos = np.std(cosVals) / np.sqrt(len(cosVals))\n",
    "\n",
    "# Ah yes, the error formula, long enough to go off screen...\n",
    "dv = v * np.sqrt((dmDM / (M + m)) ** 2 + (-1 * (dm / m)) ** 2 + (0.5 * (dR / R)) ** 2 + (0.5 * (d1cos / cosAvg)) ** 2)\n",
    "print(f\"Error in Velocity: {dv:.06f}m/s\")"
   ]
  },
  {
   "cell_type": "markdown",
   "metadata": {},
   "source": [
    "## PART 2:"
   ]
  },
  {
   "cell_type": "code",
   "execution_count": 72,
   "metadata": {},
   "outputs": [
    {
     "data": {
      "text/html": [
       "<div>\n",
       "<style scoped>\n",
       "    .dataframe tbody tr th:only-of-type {\n",
       "        vertical-align: middle;\n",
       "    }\n",
       "\n",
       "    .dataframe tbody tr th {\n",
       "        vertical-align: top;\n",
       "    }\n",
       "\n",
       "    .dataframe thead th {\n",
       "        text-align: right;\n",
       "    }\n",
       "</style>\n",
       "<table border=\"1\" class=\"dataframe\">\n",
       "  <thead>\n",
       "    <tr style=\"text-align: right;\">\n",
       "      <th></th>\n",
       "      <th>Distance (cm)</th>\n",
       "      <th>Total Dist(m)</th>\n",
       "    </tr>\n",
       "  </thead>\n",
       "  <tbody>\n",
       "    <tr>\n",
       "      <th>0</th>\n",
       "      <td>6.0</td>\n",
       "      <td>2.178</td>\n",
       "    </tr>\n",
       "    <tr>\n",
       "      <th>1</th>\n",
       "      <td>6.5</td>\n",
       "      <td>2.183</td>\n",
       "    </tr>\n",
       "    <tr>\n",
       "      <th>2</th>\n",
       "      <td>7.0</td>\n",
       "      <td>2.188</td>\n",
       "    </tr>\n",
       "    <tr>\n",
       "      <th>3</th>\n",
       "      <td>7.2</td>\n",
       "      <td>2.190</td>\n",
       "    </tr>\n",
       "    <tr>\n",
       "      <th>4</th>\n",
       "      <td>7.3</td>\n",
       "      <td>2.191</td>\n",
       "    </tr>\n",
       "    <tr>\n",
       "      <th>5</th>\n",
       "      <td>8.5</td>\n",
       "      <td>2.203</td>\n",
       "    </tr>\n",
       "    <tr>\n",
       "      <th>6</th>\n",
       "      <td>8.8</td>\n",
       "      <td>2.206</td>\n",
       "    </tr>\n",
       "    <tr>\n",
       "      <th>7</th>\n",
       "      <td>9.2</td>\n",
       "      <td>2.210</td>\n",
       "    </tr>\n",
       "    <tr>\n",
       "      <th>8</th>\n",
       "      <td>9.8</td>\n",
       "      <td>2.216</td>\n",
       "    </tr>\n",
       "    <tr>\n",
       "      <th>9</th>\n",
       "      <td>9.0</td>\n",
       "      <td>2.208</td>\n",
       "    </tr>\n",
       "    <tr>\n",
       "      <th>10</th>\n",
       "      <td>8.6</td>\n",
       "      <td>2.204</td>\n",
       "    </tr>\n",
       "  </tbody>\n",
       "</table>\n",
       "</div>"
      ],
      "text/plain": [
       "    Distance (cm)  Total Dist(m)\n",
       "0             6.0          2.178\n",
       "1             6.5          2.183\n",
       "2             7.0          2.188\n",
       "3             7.2          2.190\n",
       "4             7.3          2.191\n",
       "5             8.5          2.203\n",
       "6             8.8          2.206\n",
       "7             9.2          2.210\n",
       "8             9.8          2.216\n",
       "9             9.0          2.208\n",
       "10            8.6          2.204"
      ]
     },
     "metadata": {},
     "output_type": "display_data"
    },
    {
     "name": "stdout",
     "output_type": "stream",
     "text": [
      "2.197909090909091 0.0035569848533810954\n",
      "0.991 0.001414213562373095\n",
      "Initial Velocity: 4.887321828384322m/s\n",
      "Error in velocity: 0.00864403763871746m/s\n"
     ]
    }
   ],
   "source": [
    "p2d = pd.read_csv(\"Part2Data.csv\")\n",
    "\n",
    "D1 = 193.7 / 100 # cm\n",
    "D2 = 18.1 / 100 # cm\n",
    "\n",
    "p2d[\"Total Dist(m)\"] = D1 + D2 + (p2d[\"Distance (cm)\"] / 100)\n",
    "\n",
    "display(p2d)\n",
    "\n",
    "x_avg = np.mean(p2d[\"Total Dist(m)\"])\n",
    "x_err = np.std(p2d[\"Total Dist(m)\"]) / np.sqrt(len(p2d[\"Total Dist(m)\"]))\n",
    "print(x_avg, x_err)\n",
    "\n",
    "y1 = 91.5 / 100 # cm -> m\n",
    "y2 = 7.6 / 100 # cm -> m\n",
    "yp_err = 0.1 / 100 # cm -> m\n",
    "y = (y1 + y2)\n",
    "y_err = np.sqrt(yp_err ** 2 + yp_err ** 2) \n",
    "print(y, y_err)\n",
    "\n",
    "vi = x_avg * np.sqrt(g / (2 * y))\n",
    "print(f\"Initial Velocity: {vi}m/s\")\n",
    "vi_err = vi * np.sqrt(((-1 / 2) * (y_err / y)) ** 2 + (x_err / x_avg) ** 2)\n",
    "print(f\"Error in velocity: {vi_err}m/s\")"
   ]
  },
  {
   "cell_type": "code",
   "execution_count": null,
   "metadata": {},
   "outputs": [],
   "source": []
  }
 ],
 "metadata": {
  "kernelspec": {
   "display_name": "Python 3",
   "language": "python",
   "name": "python3"
  },
  "language_info": {
   "codemirror_mode": {
    "name": "ipython",
    "version": 3
   },
   "file_extension": ".py",
   "mimetype": "text/x-python",
   "name": "python",
   "nbconvert_exporter": "python",
   "pygments_lexer": "ipython3",
   "version": "3.8.5"
  }
 },
 "nbformat": 4,
 "nbformat_minor": 4
}
