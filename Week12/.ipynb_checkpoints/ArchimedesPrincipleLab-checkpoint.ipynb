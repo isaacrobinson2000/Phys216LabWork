{
 "cells": [
  {
   "cell_type": "markdown",
   "metadata": {},
   "source": [
    "## Buoyancy Lab\n",
    "\n",
    "We'll start by redefining our error calculating toolkit."
   ]
  },
  {
   "cell_type": "code",
   "execution_count": 80,
   "metadata": {},
   "outputs": [],
   "source": [
    "import numpy as np\n",
    "from typing import Iterable, Tuple, Union\n",
    "\n",
    "# Define our rules...\n",
    "\n",
    "def rule_1(c, error_val):\n",
    "    return abs(c) * error_val\n",
    "\n",
    "def rule_2(c, val, error_val, power):\n",
    "    return abs(c * power * val ** (power - 1)) * error_val\n",
    "\n",
    "def rule_3(*err_vals: Iterable[float]) -> float:\n",
    "    \"\"\"\n",
    "    Calculate rule 4 from the paper 'Treatment of Data'.\n",
    "    \n",
    "    @param err_vals: A list of parameters, being the errors in each value. It is assumed they were summed \n",
    "                     together to get the final value.\n",
    "    \n",
    "    @returns: The error of all of the sum of the values...\n",
    "    \"\"\"\n",
    "    total = 0\n",
    "    \n",
    "    for err in err_vals:\n",
    "        total += err ** 2\n",
    "    \n",
    "    return np.sqrt(total)\n",
    "\n",
    "\n",
    "def rule_4(value: float, *error_list: Iterable[Tuple[float, float, float]]) -> float:\n",
    "    \"\"\"\n",
    "    Calculate rule 4 from the paper 'Treatment of Data'.\n",
    "    \n",
    "    @param value: The value of the thing we are trying to calculate the error of.\n",
    "    @param error_list: A list of length 3 tuples. \n",
    "                       Each tuple should contain:\n",
    "                       - A float: A value in the error formula.\n",
    "                       - A float: The measured error in the above value.\n",
    "                       - A float: The power of the above value in the multiplicative formula.\n",
    "\n",
    "    @returns: A float, being the error in 'value'.\n",
    "    \"\"\"\n",
    "    total = 0\n",
    "    \n",
    "    for x, x_err, power in error_list:\n",
    "        total += (power * (x_err / x)) ** 2\n",
    "        \n",
    "    return abs(value) * np.sqrt(total)\n",
    "\n",
    "# Adding this to the toolkit, checks if two values \"agree\" with each other.... Might add docs later...\n",
    "FloatVec = Union[float, np.ndarray] \n",
    "BoolVec = Union[bool, np.ndarray]\n",
    "\n",
    "def values_agree(val_1: FloatVec, err_1: FloatVec, val_2: FloatVec, err_2: FloatVec) -> BoolVec:\n",
    "    r11, r12 = val_1 - err_1, val_1 + err_1\n",
    "    r21, r22 = val_2 - err_2, val_2 + err_2\n",
    "    \n",
    "    r11 <= r21\n",
    "    \n",
    "    return ((r11 <= r21) & (r21 <= r12)) | ((r11 <= r22) & (r22 <= r12))"
   ]
  },
  {
   "cell_type": "markdown",
   "metadata": {},
   "source": [
    "We'll also define a function for pretty printing our results."
   ]
  },
  {
   "cell_type": "code",
   "execution_count": 51,
   "metadata": {},
   "outputs": [],
   "source": [
    "def print_vals(vals, errs, units, msgs):\n",
    "    for val, err, unit, msg in zip(vals, errs, units, msgs):\n",
    "        print(f\"{msg}: {val} ± {err} {unit}\")\n",
    "        \n",
    "messages = [\n",
    "    \"Buoyancy Force for Section 1\",\n",
    "    \"Buoyancy Force for Sections 1 & 2\",\n",
    "    \"Buoyancy Force for Sections 1-3\",\n",
    "    \"Buoyancy Force for Entire Cylinder\"\n",
    "]\n",
    "\n",
    "units = [\"N\"] * 4"
   ]
  },
  {
   "cell_type": "markdown",
   "metadata": {},
   "source": [
    "## Part 1 (Theoretical Buoyancy)"
   ]
  },
  {
   "cell_type": "code",
   "execution_count": 60,
   "metadata": {},
   "outputs": [
    {
     "name": "stdout",
     "output_type": "stream",
     "text": [
      "Buoyancy Force for Section 1: 0.09310204888474237 ± 0.0005270156809125469 N\n",
      "Buoyancy Force for Sections 1 & 2: 0.18620409776948474 ± 0.0009662863339913572 N\n",
      "Buoyancy Force for Sections 1-3: 0.2773614563380967 ± 0.001414098444625251 N\n",
      "Buoyancy Force for Entire Cylinder: 0.37532523101316506 ± 0.0019006802208185595 N\n"
     ]
    }
   ],
   "source": [
    "g = 9.8 # Accel due to gravity...\n",
    "\n",
    "mass_water = (483.4 - 161.7) / 1000 # grams -> kg\n",
    "mass_water_err = rule_3(0.1 / 1000, 0.1 / 1000)\n",
    "\n",
    "volume_water = 326 / 1e6 # mL -> m^3\n",
    "volume_water_err = 1 / 1e6 # mL -> m^3\n",
    "\n",
    "water_d = mass_water / volume_water\n",
    "water_d_err = rule_4(water_d, (mass_water, mass_water_err, 1), (volume_water, volume_water_err, -1))\n",
    "\n",
    "heights = np.array([1.915, 3.83, 5.705, 7.72]) / 100 # cm -> m\n",
    "heights_err = 0.05 / 1000 # mm -> m\n",
    "\n",
    "r = (2.53 / 2) / 100 # cm -> m\n",
    "r_err = (0.05 / 2) / 1000 # mm -> m\n",
    "\n",
    "volume_cyl = np.pi * (r ** 2) * heights\n",
    "volume_cyl_err = rule_4(volume_cyl, (r, r_err, 2), (heights, heights_err, 1))\n",
    "\n",
    "buoyancy = volume_cyl * water_d * g\n",
    "buoyancy_err = rule_4(boyancy, (volume_cyl, volume_cyl_err, 1), (water_d, water_d_err, 1))\n",
    "\n",
    "print_vals(boyancy, boyancy_err, units, messages)"
   ]
  },
  {
   "cell_type": "markdown",
   "metadata": {},
   "source": [
    "## Part 2 (Experimental Buoyancy)"
   ]
  },
  {
   "cell_type": "code",
   "execution_count": 73,
   "metadata": {},
   "outputs": [
    {
     "name": "stdout",
     "output_type": "stream",
     "text": [
      "Buoyancy Force for Section 1: 0.09016000000000002 ± 0.0013859292911256335 N\n",
      "Buoyancy Force for Sections 1 & 2: 0.19011999999999984 ± 0.0013859292911256335 N\n",
      "Buoyancy Force for Sections 1-3: 0.28126000000000007 ± 0.0013859292911256335 N\n",
      "Buoyancy Force for Entire Cylinder: 0.37926000000000004 ± 0.0013859292911256335 N\n",
      "[False False False False]\n"
     ]
    }
   ],
   "source": [
    "total_w = (111.3 / 1000) * 9.8 \n",
    "total_w_err = (0.1 / 1000) * 9.8\n",
    "\n",
    "apparent_w = (np.array([102.1, 91.9, 82.6, 72.6]) / 1000) * 9.8\n",
    "apparent_w_err = (0.1 / 1000) * 9.8\n",
    "\n",
    "buoyancy2 = total_w - apparent_w\n",
    "buoyancy2_err = rule_3(total_w_err, apparent_w_err)\n",
    "\n",
    "print_vals(boyancy2, [boyancy2_err] * len(boyancy2), units, messages)\n",
    "\n",
    "print(values_agree(boyancy, boyancy_err, boyancy2, boyancy2_err))"
   ]
  },
  {
   "cell_type": "code",
   "execution_count": null,
   "metadata": {},
   "outputs": [],
   "source": []
  }
 ],
 "metadata": {
  "kernelspec": {
   "display_name": "Python 3",
   "language": "python",
   "name": "python3"
  },
  "language_info": {
   "codemirror_mode": {
    "name": "ipython",
    "version": 3
   },
   "file_extension": ".py",
   "mimetype": "text/x-python",
   "name": "python",
   "nbconvert_exporter": "python",
   "pygments_lexer": "ipython3",
   "version": "3.8.5"
  }
 },
 "nbformat": 4,
 "nbformat_minor": 4
}
