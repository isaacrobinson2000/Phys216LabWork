{
 "cells": [
  {
   "cell_type": "markdown",
   "metadata": {},
   "source": [
    "## Part 1:\n",
    "\n",
    "Below are the 4 error rules. Errors rules 3 and 4 are implemented to accept infinite arguments:"
   ]
  },
  {
   "cell_type": "code",
   "execution_count": 22,
   "metadata": {},
   "outputs": [],
   "source": [
    "import numpy as np\n",
    "from typing import Iterable, Tuple\n",
    "\n",
    "def rule_1(c, error_val):\n",
    "    return abs(c) * error_val\n",
    "\n",
    "def rule_2(c, val, error_val, power):\n",
    "    return abs(c * power * val ** (power - 1)) * error_val\n",
    "\n",
    "def rule_3(*err_vals: Iterable[float]) -> float:\n",
    "    \"\"\"\n",
    "    Calculate rule 4 from the paper 'Treatment of Data'.\n",
    "    \n",
    "    @param err_vals: A list of parameters, being the errors in each value. It is assumed they were summed \n",
    "                     together to get the final value.\n",
    "    \n",
    "    @returns: The error of all of the sum of the values...\n",
    "    \"\"\"\n",
    "    total = 0\n",
    "    \n",
    "    for err in err_vals:\n",
    "        total += err ** 2\n",
    "    \n",
    "    return np.sqrt(total)\n",
    "\n",
    "\n",
    "def rule_4(value: float, *error_list: Iterable[Tuple[float, float, float]]) -> float:\n",
    "    \"\"\"\n",
    "    Calculate rule 4 from the paper 'Treatment of Data'.\n",
    "    \n",
    "    @param value: The value of the thing we are trying to calculate the error of.\n",
    "    @param error_list: A list of length 3 tuples. \n",
    "                       Each tuple should contain:\n",
    "                       - A float: A value in the error formula.\n",
    "                       - A float: The measured error in the above value.\n",
    "                       - A float: The power of the above value in the multiplicative formula.\n",
    "\n",
    "    @returns: A float, being the error in 'value'.\n",
    "    \"\"\"\n",
    "    total = 0\n",
    "    \n",
    "    for x, x_err, power in error_list:\n",
    "        total += (power * (x_err / x)) ** 2\n",
    "        \n",
    "    return value * np.sqrt(total)\n",
    "\n"
   ]
  },
  {
   "cell_type": "markdown",
   "metadata": {},
   "source": [
    "## Part 2\n",
    "\n",
    "Not surprisingly, my result for the error in force is identical to the result I got in the actual experiment. This is because I used the python during the experiment to get my results."
   ]
  },
  {
   "cell_type": "code",
   "execution_count": 23,
   "metadata": {},
   "outputs": [
    {
     "name": "stdout",
     "output_type": "stream",
     "text": [
      "0.2321187468298957\n"
     ]
    }
   ],
   "source": [
    "F_c = 0.7836098947719582\n",
    "\n",
    "mass = 208.3 / 1000 # In grams... convert...\n",
    "mass_err = 0.1 / 1000 # In grams, convert...\n",
    "\n",
    "slope = 10.494194167087143\n",
    "slope_err = 3.1085569697194075\n",
    "\n",
    "# Find the force...\n",
    "F2 = (4 * (np.pi ** 2) * mass) / slope\n",
    "# Don't even have to find the formula :)....\n",
    "F2_err = rule_4(F2, (mass, mass_err, 1), (slope, slope_err, -1))\n",
    "\n",
    "print(F2_err) # <-- Same exact answer..."
   ]
  },
  {
   "cell_type": "markdown",
   "metadata": {},
   "source": [
    "## Part 3"
   ]
  },
  {
   "cell_type": "code",
   "execution_count": 19,
   "metadata": {},
   "outputs": [
    {
     "name": "stdout",
     "output_type": "stream",
     "text": [
      "The average: 1.1166666666666667\n",
      "The standard deviation: 0.17950549357115014\n"
     ]
    }
   ],
   "source": [
    "# The data...\n",
    "x = np.array([1.1, 1.3, 1.4, 0.9, 0.95, 1.05])\n",
    "\n",
    "print(f\"The average: {np.mean(x)}\")\n",
    "print(f\"The standard deviation: {np.std(x)}\")"
   ]
  },
  {
   "cell_type": "markdown",
   "metadata": {},
   "source": [
    "## Part 4\n",
    "\n",
    "We now present a general form for rule 3 in the error propagation paper, where $Q = A + B$ or $Q = A - B$, and we are trying to find the error of $Q$:\n",
    "\n",
    "$$\n",
    "\\delta Q = \\sqrt{(\\delta A ^ 2) + (\\delta B ^ 2)}  \n",
    "$$\n",
    "\n",
    "The error in the last experiment for $\\delta \\Sigma F_c$ was calculated to be:\n",
    "\n",
    "$$\n",
    "\\delta \\Sigma F_c = |\\Sigma F_c| \\sqrt{\\big(\\frac{\\delta m} {m}\\big) ^ 2 + \\big(\\frac{-\\delta s}{s}\\big) ^ 2}\n",
    "$$\n",
    "\n",
    "where $m$ is the mass, $\\delta m$ is the error in mass, $s$ is the slope, and $\\delta s$ is the error in slope.\n",
    "\n",
    "## Part 5 \n",
    "\n",
    "Look in the directory of this jupyter notebook, which includes a dummy lab report."
   ]
  },
  {
   "cell_type": "code",
   "execution_count": null,
   "metadata": {},
   "outputs": [],
   "source": []
  }
 ],
 "metadata": {
  "kernelspec": {
   "display_name": "Python 3",
   "language": "python",
   "name": "python3"
  },
  "language_info": {
   "codemirror_mode": {
    "name": "ipython",
    "version": 3
   },
   "file_extension": ".py",
   "mimetype": "text/x-python",
   "name": "python",
   "nbconvert_exporter": "python",
   "pygments_lexer": "ipython3",
   "version": "3.8.5"
  }
 },
 "nbformat": 4,
 "nbformat_minor": 4
}
