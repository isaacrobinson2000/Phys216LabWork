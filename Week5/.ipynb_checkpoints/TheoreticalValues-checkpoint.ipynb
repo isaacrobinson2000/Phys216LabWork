{
 "cells": [
  {
   "cell_type": "markdown",
   "metadata": {},
   "source": [
    "## Approach for Part 1\n",
    "\n",
    "The point diagram for part 1:\n",
    "![A point diagram for part 1, which shows all forces acting on the center ring.](diagrams/PointDiagram1.svg)\n",
    "\n",
    "Looking at problem 1, we compute the compenents of the 2 known forces ($T_1$,$T_2$) using the formulas below:\n",
    "\n",
    "$$\n",
    "T_x = am\\cos(\\theta)\n",
    "$$\n",
    "$$\n",
    "T_y = am\\sin(\\theta)\n",
    "$$\n",
    "\n",
    "Where $a$ is the acceleration, $m$ is the mass, and $\\theta$ is the angle counter-clockwise from the right sided horizantal. \n",
    "As for computing $m_3$ and $m_4$, they land directly on the x and y axis, so we can compute the mass they need to stay in equilibrium them as below:\n",
    "\n",
    "$$\n",
    "m_3 = \\frac {\\sum_{m=1}^{2}{T_x}} {a}\n",
    "$$\n",
    "$$\n",
    "m_4 = \\frac {\\sum_{m=1}^{2}{T_y}} {a} \n",
    "$$\n",
    "\n",
    "Since we multiply each mass by the acceleration and then immediatly divide by the acceleration afterwards, we can actually completely remove acceleration from gravity from both equations and get the same answer. The final formulas are shown below:\n",
    "$$\n",
    "m_3 = \\frac {\\sum_{i=1}^{2}{am_i\\cos(\\theta)}} {a} = \\sum_{i=1}^{2}{m_i\\cos(\\theta)}\n",
    "$$\n",
    "$$\n",
    "m_4 = \\frac {\\sum_{i=1}^{2}{am_i\\sin(\\theta)}} {a} = \\sum_{i=1}^{2}{m_i\\sin(\\theta)}\n",
    "$$"
   ]
  },
  {
   "cell_type": "code",
   "execution_count": 103,
   "metadata": {},
   "outputs": [
    {
     "name": "stdout",
     "output_type": "stream",
     "text": [
      "   Angle (deg)  Mass (g)\n",
      "0            0       200\n",
      "1          120       100\n",
      "\n",
      "Mass 3: 150.00g, Mass 4: 86.60g\n",
      "Mass 3: 150.00g, Mass 4: 86.60g\n"
     ]
    }
   ],
   "source": [
    "import pandas as pd\n",
    "import numpy as np\n",
    "import matplotlib.pyplot as plt\n",
    "\n",
    "knowns = pd.read_csv(\"data/experimental_part_1.csv\")\n",
    "print(knowns)\n",
    "print()\n",
    "\n",
    "g = 9.8\n",
    "masses = knowns[\"Mass (g)\"] / 1000  # Convert to kg\n",
    "angles = np.deg2rad(knowns[\"Angle (deg)\"])  # Convert to radians\n",
    "m_3 = np.sum(masses * np.cos(angles))\n",
    "m_4 = np.sum(masses * np.sin(angles))\n",
    "# Notice: we have to take the absolute value as the components currently contain directional info...\n",
    "print(f\"Mass 3: {np.abs(m_3) * 1000:.02f}g, Mass 4: {np.abs(m_4) * 1000:.02f}g\")\n",
    "# Proving the above is the same as including the accelerations...\n",
    "m_3 = np.sum(9.8 * masses * np.cos(angles)) / 9.8\n",
    "m_4 = np.sum(9.8 * masses * np.sin(angles)) / 9.8\n",
    "print(f\"Mass 3: {np.abs(m_3) * 1000:.02f}g, Mass 4: {np.abs(m_4) * 1000:.02f}g\")\n",
    "print(f\"Force 3: {g * np.abs(m_3):.02f}N, Force 4: {g * np.abs(m_4):.02f}N\")"
   ]
  },
  {
   "cell_type": "markdown",
   "metadata": {},
   "source": [
    "## Approach for Part 2\n",
    "The point diagram for part 2:\n",
    "![A point diagram for part 2, which shows all forces acting on the center ring.](diagrams/PointDiagram2.svg)\n",
    "\n",
    "For part 2, we are simply removing $m_4$ and allowing $\\theta_3$ to change. This means we need to compute the force that equates to $m_3$ and $m_4$ combined. First, we compute the magnitude and then mass:\n",
    "\n",
    "$$\n",
    "m_3 = \\frac {\\sqrt{{T_{3_{old}}}^2 + {T_4}^2}} {a} = \\frac {\\sqrt{(am_{3_{old}})^2 + (am_4)^2}} {a}\n",
    " = \\frac {\\sqrt{a^2({m_{3_{old}}}^2 + {m_4}^2)}} {a} = \\frac {a\\sqrt{({m_{3_{old}}}^2 + {m_4}^2)}} {a}\n",
    " = \\sqrt{({m_{3_{old}}}^2 + {m_4}^2)}\n",
    "$$\n",
    "\n",
    "Now, we need to compute the angle of the mass needs to be placed at($\\theta_3$). We can compute that using the formula below:\n",
    "$$\n",
    "\\theta_3 = \\tan^{-1}(\\frac {-T_4}{-T_{3_{old}}}) = \\tan^{-1}(\\frac {-am_4}{-am_{3_{old}}})\n",
    " = \\tan^{-1}(\\frac {-m_4}{-m_{3_{old}}})\n",
    "$$\n",
    "Notice: I have negated both tensions since the force must resist the force of the other 2 weights by pulling on them. Also, we expect this angle to land between $180^{\\circ}$ and $270^{\\circ}$, we will use a special tangent function which also returns the angle with the correct quadrant."
   ]
  },
  {
   "cell_type": "code",
   "execution_count": 102,
   "metadata": {},
   "outputs": [
    {
     "name": "stdout",
     "output_type": "stream",
     "text": [
      "Mass 3: 173.21g, Angle 3: 210.00°\n"
     ]
    }
   ],
   "source": [
    "m_3_new = np.sqrt(m_3 ** 2 + m_4 ** 2)\n",
    "theta_3_new = np.rad2deg(np.arctan2(-m_4, -m_3))\n",
    "# Above function produces a negative angle which is correct, but much easier to interpet when positive...\n",
    "theta_3_new = 360 * (theta_3_new < 0) + theta_3_new # Branchless as a bonus :)....\n",
    "print(f\"Mass 3: {m_3_new * 1000:.02f}g, Angle 3: {theta_3_new:.02f}\\u00B0\")"
   ]
  },
  {
   "cell_type": "markdown",
   "metadata": {},
   "source": [
    "## Approach for Part 3\n",
    "\n",
    "The point diagram for part 3:\n",
    "![A point diagram for part 3, which shows all forces acting on the center ring.](diagrams/PointDiagram3.svg)\n",
    "\n",
    "Notice, this is pretty much identical to the prior problems part 1 and 2 combined, but with different angles. We will use the formulas below:\n",
    "\n",
    "$$\n",
    "m_x = \\frac {\\sum_{m_i \\in \\{m_a, m_b\\}}{am_i\\cos(\\theta)}} {a} = \\sum_{m_i \\in \\{m_a, m_b\\}}{m_i\\cos(\\theta)}\n",
    "$$\n",
    "$$\n",
    "m_y = \\frac {\\sum_{m_i \\in \\{m_a, m_b\\}}{am_i\\sin(\\theta)}} {a} = \\sum_{m_i \\in \\{m_a, m_b\\}}{m_i\\sin(\\theta)}\n",
    "$$\n",
    "The above 2 formulas will give us the x and y compenents, and then the 2 below will give us the magnitude and angle of $m_c$:\n",
    "$$\n",
    "m_c = \\sqrt{({m_x}^2 + {m_y}^2)}\n",
    "$$\n",
    "$$\n",
    "\\theta_c = \\tan^{-1}(\\frac {-F_y}{-F_x}) = \\tan^{-1}(\\frac {-am_y}{-am_x})\n",
    " = \\tan^{-1}(\\frac {-m_y}{-m_x})\n",
    "$$"
   ]
  },
  {
   "cell_type": "code",
   "execution_count": 101,
   "metadata": {},
   "outputs": [
    {
     "name": "stdout",
     "output_type": "stream",
     "text": [
      "   Angle (deg)  Mass (g)\n",
      "0           60       200\n",
      "1          145       122\n",
      "\n",
      "X Component Mass: 0.06g, Y Component Mass: 243.18g\n",
      "Mass C: 243.18g, Angle C: 269.99°\n"
     ]
    }
   ],
   "source": [
    "knowns = pd.read_csv(\"data/experimental_part_3.csv\")\n",
    "print(knowns)\n",
    "print()\n",
    "masses = knowns[\"Mass (g)\"] / 1000  # Convert to kg\n",
    "angles = np.deg2rad(knowns[\"Angle (deg)\"])  # Convert to radians\n",
    "m_x = np.sum(masses * np.cos(angles))\n",
    "m_y = np.sum(masses * np.sin(angles))\n",
    "# Notice: we have to take the absolute value as the components currently contain directional info...\n",
    "print(f\"X Component Mass: {np.abs(m_x) * 1000:.02f}g, Y Component Mass: {np.abs(m_y) * 1000:.02f}g\")\n",
    "# Part 2: Compenents to Single force...\n",
    "m_c = np.sqrt(m_x ** 2 + m_y ** 2)\n",
    "theta_c = np.rad2deg(np.arctan2(-m_y, -m_x))\n",
    "theta_c = 360 * (theta_c < 0) + theta_c # Branchless as a bonus :)....\n",
    "print(f\"Mass C: {m_c * 1000:.02f}g, Angle C: {theta_c:.02f}\\u00B0\")"
   ]
  },
  {
   "cell_type": "code",
   "execution_count": null,
   "metadata": {},
   "outputs": [],
   "source": []
  }
 ],
 "metadata": {
  "kernelspec": {
   "display_name": "Python 3",
   "language": "python",
   "name": "python3"
  },
  "language_info": {
   "codemirror_mode": {
    "name": "ipython",
    "version": 3
   },
   "file_extension": ".py",
   "mimetype": "text/x-python",
   "name": "python",
   "nbconvert_exporter": "python",
   "pygments_lexer": "ipython3",
   "version": "3.8.5"
  }
 },
 "nbformat": 4,
 "nbformat_minor": 4
}
