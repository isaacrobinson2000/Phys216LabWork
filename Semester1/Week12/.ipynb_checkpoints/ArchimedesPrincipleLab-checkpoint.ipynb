{
 "cells": [
  {
   "cell_type": "markdown",
   "metadata": {},
   "source": [
    "## Buoyancy Lab\n",
    "\n",
    "We'll start by redefining our error calculating toolkit."
   ]
  },
  {
   "cell_type": "code",
   "execution_count": 41,
   "metadata": {},
   "outputs": [],
   "source": [
    "import numpy as np\n",
    "from typing import Iterable, Tuple, Union\n",
    "\n",
    "# Define our rules...\n",
    "\n",
    "def rule_1(c, error_val):\n",
    "    return abs(c) * error_val\n",
    "\n",
    "def rule_2(c, val, error_val, power):\n",
    "    return abs(c * power * val ** (power - 1)) * error_val\n",
    "\n",
    "def rule_3(*err_vals: Iterable[float]) -> float:\n",
    "    \"\"\"\n",
    "    Calculate rule 4 from the paper 'Treatment of Data'.\n",
    "    \n",
    "    @param err_vals: A list of parameters, being the errors in each value. It is assumed they were summed \n",
    "                     together to get the final value.\n",
    "    \n",
    "    @returns: The error of all of the sum of the values...\n",
    "    \"\"\"\n",
    "    total = 0\n",
    "    \n",
    "    for err in err_vals:\n",
    "        total += err ** 2\n",
    "    \n",
    "    return np.sqrt(total)\n",
    "\n",
    "\n",
    "def rule_4(value: float, *error_list: Iterable[Tuple[float, float, float]]) -> float:\n",
    "    \"\"\"\n",
    "    Calculate rule 4 from the paper 'Treatment of Data'.\n",
    "    \n",
    "    @param value: The value of the thing we are trying to calculate the error of.\n",
    "    @param error_list: A list of length 3 tuples. \n",
    "                       Each tuple should contain:\n",
    "                       - A float: A value in the error formula.\n",
    "                       - A float: The measured error in the above value.\n",
    "                       - A float: The power of the above value in the multiplicative formula.\n",
    "\n",
    "    @returns: A float, being the error in 'value'.\n",
    "    \"\"\"\n",
    "    total = 0\n",
    "    \n",
    "    for x, x_err, power in error_list:\n",
    "        total += (power * (x_err / x)) ** 2\n",
    "        \n",
    "    return abs(value) * np.sqrt(total)\n",
    "\n",
    "# Adding this to the toolkit, checks if two values \"agree\" with each other.... \n",
    "FloatVec = Union[float, np.ndarray] \n",
    "BoolVec = Union[bool, np.ndarray]\n",
    "\n",
    "def values_agree(val_1: FloatVec, err_1: FloatVec, val_2: FloatVec, err_2: FloatVec) -> BoolVec:\n",
    "    \"\"\"\n",
    "    Determines if the values in 2 vectors(arrays) agree with each other, given there uncertainty values. \n",
    "    \n",
    "    @param val_1: The 1st array of values.\n",
    "    @param err_1: The uncertainty values for the 1st vector.\n",
    "    @param val_2: The 2nd array of values.\n",
    "    @param err_2: The uncertainty values for the 2st vector. \n",
    "    \n",
    "    @returns: A vector of booleans, being whether each value agrees with the other.\n",
    "    \"\"\"\n",
    "    r11, r12 = val_1 - err_1, val_1 + err_1\n",
    "    r21, r22 = val_2 - err_2, val_2 + err_2\n",
    "    \n",
    "    r11 <= r21\n",
    "    \n",
    "    return ((r11 <= r21) & (r21 <= r12)) | ((r11 <= r22) & (r22 <= r12))\n"
   ]
  },
  {
   "cell_type": "markdown",
   "metadata": {},
   "source": [
    "We'll also define a function for pretty printing our results."
   ]
  },
  {
   "cell_type": "code",
   "execution_count": 42,
   "metadata": {},
   "outputs": [],
   "source": [
    "def print_vals(vals, errs, units, msgs):\n",
    "    for val, err, unit, msg in zip(vals, errs, units, msgs):\n",
    "        print(f\"{msg}: {val} ± {err} {unit}\")\n",
    "        \n",
    "messages = [\n",
    "    \"Buoyancy Force for Section 1\",\n",
    "    \"Buoyancy Force for Sections 1 & 2\",\n",
    "    \"Buoyancy Force for Sections 1-3\",\n",
    "    \"Buoyancy Force for Entire Cylinder\"\n",
    "]\n",
    "\n",
    "units = [\"N\"] * 4"
   ]
  },
  {
   "cell_type": "markdown",
   "metadata": {},
   "source": [
    "## Part 1 (Theoretical Buoyancy)"
   ]
  },
  {
   "cell_type": "code",
   "execution_count": 43,
   "metadata": {},
   "outputs": [
    {
     "name": "stdout",
     "output_type": "stream",
     "text": [
      "0.3217\n",
      "0.0001414213562373095\n",
      "Buoyancy Force for Section 1: 0.09310204888474237 ± 0.0005270156809125469 N\n",
      "Buoyancy Force for Sections 1 & 2: 0.18620409776948474 ± 0.0009662863339913572 N\n",
      "Buoyancy Force for Sections 1-3: 0.2773614563380967 ± 0.001414098444625251 N\n",
      "Buoyancy Force for Entire Cylinder: 0.37532523101316506 ± 0.0019006802208185595 N\n"
     ]
    }
   ],
   "source": [
    "g = 9.8 # Accel due to gravity...\n",
    "\n",
    "mass_water = (483.4 - 161.7) / 1000 # grams -> kg\n",
    "mass_water_err = rule_3(0.1 / 1000, 0.1 / 1000)\n",
    "print(mass_water)\n",
    "print(mass_water_err)\n",
    "\n",
    "volume_water = 326 / 1e6 # mL -> m^3\n",
    "volume_water_err = 1 / 1e6 # mL -> m^3\n",
    "\n",
    "water_d = mass_water / volume_water\n",
    "water_d_err = rule_4(water_d, (mass_water, mass_water_err, 1), (volume_water, volume_water_err, -1))\n",
    "\n",
    "heights = np.array([1.915, 3.83, 5.705, 7.72]) / 100 # cm -> m\n",
    "heights_err = 0.05 / 1000 # mm -> m\n",
    "\n",
    "r = (2.53 / 2) / 100 # cm -> m\n",
    "r_err = (0.05 / 2) / 1000 # mm -> m\n",
    "\n",
    "volume_cyl = np.pi * (r ** 2) * heights\n",
    "volume_cyl_err = rule_4(volume_cyl, (r, r_err, 2), (heights, heights_err, 1))\n",
    "\n",
    "buoyancy = volume_cyl * water_d * g\n",
    "buoyancy_err = rule_4(buoyancy, (volume_cyl, volume_cyl_err, 1), (water_d, water_d_err, 1))\n",
    "\n",
    "print_vals(buoyancy, buoyancy_err, units, messages)"
   ]
  },
  {
   "cell_type": "markdown",
   "metadata": {},
   "source": [
    "## Part 2 (Experimental Buoyancy)"
   ]
  },
  {
   "cell_type": "code",
   "execution_count": 44,
   "metadata": {},
   "outputs": [
    {
     "name": "stdout",
     "output_type": "stream",
     "text": [
      "Buoyancy Force for Section 1: 0.09016000000000002 ± 0.0013859292911256335 N\n",
      "Buoyancy Force for Sections 1 & 2: 0.19011999999999984 ± 0.0013859292911256335 N\n",
      "Buoyancy Force for Sections 1-3: 0.28126000000000007 ± 0.0013859292911256335 N\n",
      "Buoyancy Force for Entire Cylinder: 0.37926000000000004 ± 0.0013859292911256335 N\n"
     ]
    }
   ],
   "source": [
    "total_w = (111.3 / 1000) * 9.8 \n",
    "total_w_err = (0.1 / 1000) * 9.8\n",
    "\n",
    "apparent_w = (np.array([102.1, 91.9, 82.6, 72.6]) / 1000) * 9.8\n",
    "apparent_w_err = (0.1 / 1000) * 9.8\n",
    "\n",
    "buoyancy2 = total_w - apparent_w\n",
    "buoyancy2_err = rule_3(total_w_err, apparent_w_err)\n",
    "\n",
    "print_vals(buoyancy2, [buoyancy2_err] * len(buoyancy2), units, messages)"
   ]
  },
  {
   "cell_type": "markdown",
   "metadata": {},
   "source": [
    "## Questions Section\n",
    "\n",
    "__1) Write your measurements of the volume and mass of the water in your beaker including the uncertainty. (2 points)__\n",
    "\n",
    "I got a mass for the water of $321.70 \\pm 0.14\\text{ }g$, and a volume for the water of $326.00 \\pm 1.00\\text{ }mL$.\n",
    "\n",
    "__2) Write your measurement of the full length(height) of the cylinder including the uncertainty. (2 points)__\n",
    "\n",
    "I got a measurement for the height of the cylinder of $7.720 \\pm 0.005\\text{ }cm$.\n",
    "\n",
    "### Results\n",
    "\n",
    "__3) What is the value of the buoyant force $F_b$ you calculated in Part I when the cylinder was half submerged including the uncertainty.  Show your work.  (6 points)__\n",
    "\n",
    "Work for computing $F_b$ in part 1 can be seen in the code in the above sections. I got a result for $F_b$ when the cylinder was half submerged in part 1 of $0.186 \\pm 0.001\\text{ }N$. \n",
    "\n",
    "__4) What is the value of the buoyant force $F_b$ you found in Part II when the cylinder was half submerged including the uncertainty.  Show your work.  (4 points)__\n",
    "\n",
    "Work for computing $F_b$ in part 2 can be seen in the code in the above sections. I got a result for $F_b$ when the cylinder was half submerged in part 2 of $0.190 \\pm 0.001\\text{ }N$.\n",
    "\n",
    "__5) Do your results for the forces from Parts I and II agree for when the cylinder was half submerged?  Justify your answer.  (4 points)__\n",
    "\n",
    "The values I got for both part 1 and 2 do not agree with each other, because their error ranges to not overlap. In this case, $F_b$ for part 1 ranges from $0.185 \\text{ }N$ to $0.187 \\text{ }N$, while the value computed for $F_b$ in part 2 ranges from $0.189 \\text{ }N$ to $0.192 \\text{ }N$.\n",
    "\n",
    "__6) Do you results for Parts I and II agree for when the cylinder was $\\frac{1}{4}$ submerged, $\\frac{3}{4}$ submerged and fully submerged? (4 points)__\n",
    "\n",
    "None of my results agree with each other for parts I and II, including when the cylinder was $\\frac{1}{4}$ submerged, $\\frac{3}{4}$ submerged, and fully submerged. This can be seen in the code below, which checks to see if any of the error ranges overlap."
   ]
  },
  {
   "cell_type": "code",
   "execution_count": 45,
   "metadata": {},
   "outputs": [
    {
     "name": "stdout",
     "output_type": "stream",
     "text": [
      "\n",
      "Checking if values agree...\n",
      "\tBuoyancy Force for Section 1: Parts I and II DO NOT agree with each other.\n",
      "\tBuoyancy Force for Sections 1 & 2: Parts I and II DO NOT agree with each other.\n",
      "\tBuoyancy Force for Sections 1-3: Parts I and II DO NOT agree with each other.\n",
      "\tBuoyancy Force for Entire Cylinder: Parts I and II DO NOT agree with each other.\n",
      "Percent of Agreeing Values: 0.00%\n"
     ]
    }
   ],
   "source": [
    "# Extreme sadness :(... (None of my values agree)\n",
    "print()\n",
    "print(\"Checking if values agree...\")\n",
    "results = values_agree(buoyancy, buoyancy_err, buoyancy2, buoyancy2_err)\n",
    "for msg, result in zip(messages, results):\n",
    "    print(f'\\t{msg}: Parts I and II{\"\" if(result) else \" DO NOT\"} agree with each other.')\n",
    "print(f\"Percent of Agreeing Values: {np.mean(results) * 100:.02f}%\")"
   ]
  },
  {
   "cell_type": "markdown",
   "metadata": {},
   "source": [
    "### Concepts\n",
    "\n",
    "__7) If we had used ethyl alcohol, with a density of approximately $800 \\frac{kg}{m^3}$, instead of water for this experiment, would the buoyant forces have been greater, smaller, or the same as the ones that you found?  Justify your answer.  (3 points)__\n",
    "\n",
    "If ethyl alcohol had been used instead of water, the buoyant forces would have been smaller then the ones computed in this experiment. We can see why by looking at the formula for the buoyant force:\n",
    "\n",
    "$$\n",
    "F_b = \\text{weight of displaced fluid} = mg = \\rho Vg\n",
    "$$\n",
    "\n",
    "In this formula, if the volume and acceleration due to gravity are kept constant, the buoyant force and the density of the fluid become directly proportional. This means raising the fluid density will increase the buoyant force, while decreasing the fluid density will decrease the buoyant force. Since the density of ethyl alcohol is less than water, the buoyant force would be less."
   ]
  },
  {
   "cell_type": "code",
   "execution_count": null,
   "metadata": {},
   "outputs": [],
   "source": []
  }
 ],
 "metadata": {
  "kernelspec": {
   "display_name": "Python 3",
   "language": "python",
   "name": "python3"
  },
  "language_info": {
   "codemirror_mode": {
    "name": "ipython",
    "version": 3
   },
   "file_extension": ".py",
   "mimetype": "text/x-python",
   "name": "python",
   "nbconvert_exporter": "python",
   "pygments_lexer": "ipython3",
   "version": "3.8.5"
  }
 },
 "nbformat": 4,
 "nbformat_minor": 4
}
