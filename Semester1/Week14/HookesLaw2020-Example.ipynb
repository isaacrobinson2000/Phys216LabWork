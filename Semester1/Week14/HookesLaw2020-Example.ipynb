{
 "cells": [
  {
   "cell_type": "markdown",
   "metadata": {},
   "source": [
    "The usual error function toolkit..."
   ]
  },
  {
   "cell_type": "code",
   "execution_count": 1,
   "metadata": {},
   "outputs": [],
   "source": [
    "import numpy as np\n",
    "from typing import Iterable, Tuple, Union\n",
    "\n",
    "# Define our rules...\n",
    "\n",
    "def rule_1(c, error_val):\n",
    "    return abs(c) * error_val\n",
    "\n",
    "def rule_2(c, val, error_val, power):\n",
    "    return abs(c * power * val ** (power - 1)) * error_val\n",
    "\n",
    "def rule_3(*err_vals: Iterable[float]) -> float:\n",
    "    \"\"\"\n",
    "    Calculate rule 4 from the paper 'Treatment of Data'.\n",
    "    \n",
    "    @param err_vals: A list of parameters, being the errors in each value. It is assumed they were summed \n",
    "                     together to get the final value.\n",
    "    \n",
    "    @returns: The error of all of the sum of the values...\n",
    "    \"\"\"\n",
    "    total = 0\n",
    "    \n",
    "    for err in err_vals:\n",
    "        total += err ** 2\n",
    "    \n",
    "    return np.sqrt(total)\n",
    "\n",
    "\n",
    "def rule_4(value: float, *error_list: Iterable[Tuple[float, float, float]]) -> float:\n",
    "    \"\"\"\n",
    "    Calculate rule 4 from the paper 'Treatment of Data'.\n",
    "    \n",
    "    @param value: The value of the thing we are trying to calculate the error of.\n",
    "    @param error_list: A list of length 3 tuples. \n",
    "                       Each tuple should contain:\n",
    "                       - A float: A value in the error formula.\n",
    "                       - A float: The measured error in the above value.\n",
    "                       - A float: The power of the above value in the multiplicative formula.\n",
    "\n",
    "    @returns: A float, being the error in 'value'.\n",
    "    \"\"\"\n",
    "    total = 0\n",
    "    \n",
    "    for x, x_err, power in error_list:\n",
    "        total += (power * (x_err / x)) ** 2\n",
    "        \n",
    "    return abs(value) * np.sqrt(total)\n",
    "\n",
    "# Fixed bug in checking code below...\n",
    "FloatVec = Union[float, np.ndarray] \n",
    "BoolVec = Union[bool, np.ndarray]\n",
    "\n",
    "def values_agree(val_1: FloatVec, err_1: FloatVec, val_2: FloatVec, err_2: FloatVec) -> BoolVec:\n",
    "    \"\"\"\n",
    "    Determines if the values in 2 vectors(arrays) agree with each other, given there uncertainty values. \n",
    "    \n",
    "    @param val_1: The 1st array of values.\n",
    "    @param err_1: The uncertainty values for the 1st vector.\n",
    "    @param val_2: The 2nd array of values.\n",
    "    @param err_2: The uncertainty values for the 2st vector. \n",
    "    \n",
    "    @returns: A vector of booleans, being whether each value agrees with the other.\n",
    "    \"\"\"\n",
    "    # Grab the ranges for each value...\n",
    "    r11, r12 = val_1 - err_1, val_1 + err_1\n",
    "    r21, r22 = val_2 - err_2, val_2 + err_2\n",
    "    \n",
    "    # The ranges are sorted (r21 <= r22 and r11 <= r12), so the simple 2 checks below are enough. \n",
    "    # Check 1: Does r21(lowest value of 2nd range) land above the 1st range? If so fail...\n",
    "    # Check 2: Does r22(highest value of 2nd range) fall below the 1st range? If so fail...\n",
    "    return ((r21 <= r12) & (r11 <= r22))\n"
   ]
  },
  {
   "cell_type": "markdown",
   "metadata": {},
   "source": [
    "# Method 1:  Determine k for Spring 1 (smallest k)"
   ]
  },
  {
   "cell_type": "code",
   "execution_count": 2,
   "metadata": {},
   "outputs": [
    {
     "data": {
      "image/png": "[encoded data removed]",
      "text/plain": [
       "<Figure size 432x288 with 1 Axes>"
      ]
     },
     "metadata": {
      "needs_background": "light"
     },
     "output_type": "display_data"
    },
    {
     "name": "stdout",
     "output_type": "stream",
     "text": [
      "Slope = 3.00 N/m\n",
      "Error in slope = 0.03 N/m\n",
      "Goodness of fit = 0.24\n",
      "Spring Constant is: 3.00 ± 0.03 N/m\n"
     ]
    }
   ],
   "source": [
    "import physplot as phys\n",
    "import numpy as np\n",
    "\n",
    "# My measurements...\n",
    "m1 = np.array([100, 130, 150, 170, 190, 210]) / 1000 # g -> kg\n",
    "x1 = np.array([33, 43, 49.5, 56, 62.5, 69]) / 100 # cm -> m\n",
    "errm = np.array([1, 1, 1, 1, 1, 1]) / 1000 # mm -> m\n",
    "\n",
    "#call the plotfit function from the physplot.py code\n",
    "#You can open that code to see how it works\n",
    "#This is what the plotfit function looks like.  Pass\n",
    "#in the parameters in the correct order\n",
    "#plotfit(x,y,dy,title,xlabel,ylabel,slopeunit)\n",
    "\n",
    "k11, dk11, N = phys.plotfit(x1,m1*9.8,errm*9.8,'Small k spring','x(m)','F(N)','N/m')\n",
    "\n",
    "print(f\"Spring Constant is: {k11:0.2f} ± {dk11:0.2f} N/m\")"
   ]
  },
  {
   "cell_type": "markdown",
   "metadata": {},
   "source": [
    "# Method 1:  Determine k for Spring 2 (largest k)"
   ]
  },
  {
   "cell_type": "code",
   "execution_count": 3,
   "metadata": {},
   "outputs": [
    {
     "data": {
      "image/png": "[encoded data removed]",
      "text/plain": [
       "<Figure size 432x288 with 1 Axes>"
      ]
     },
     "metadata": {
      "needs_background": "light"
     },
     "output_type": "display_data"
    },
    {
     "name": "stdout",
     "output_type": "stream",
     "text": [
      "Slope = 11.82 N/m\n",
      "Error in slope = 0.09 N/m\n",
      "Goodness of fit = 28.92\n",
      "Spring Constant is: 11.82 ± 0.09 N/m\n"
     ]
    }
   ],
   "source": [
    "# My measurements...\n",
    "m1 = np.array([100, 140, 170, 200, 230, 260]) / 1000 # g -> kg\n",
    "x1 = np.array([8.5, 12, 14.5, 17, 19, 22]) / 100 # cm -> m\n",
    "errm = np.array([1, 1, 1, 1, 1, 1]) / 1000 # mm -> m\n",
    "\n",
    "#call the plotfit function from the physplot.py code\n",
    "#You can open that code to see how it works\n",
    "#This is what the plotfit function looks like.  Pass\n",
    "#in the parameters in the correct order\n",
    "#plotfit(x,y,dy,title,xlabel,ylabel,slopeunit)\n",
    "\n",
    "k12, dk12, N = phys.plotfit(x1,m1*9.8,errm*9.8,'Large k spring','x(m)','F(N)','N/m')\n",
    "\n",
    "print(f\"Spring Constant is: {k12:0.2f} ± {dk12:0.2f} N/m\")"
   ]
  },
  {
   "cell_type": "markdown",
   "metadata": {},
   "source": [
    "# Method 2 for Spring 1 (smallest k)"
   ]
  },
  {
   "cell_type": "code",
   "execution_count": 4,
   "metadata": {},
   "outputs": [
    {
     "data": {
      "image/png": "[encoded data removed]",
      "text/plain": [
       "<Figure size 432x288 with 1 Axes>"
      ]
     },
     "metadata": {
      "needs_background": "light"
     },
     "output_type": "display_data"
    },
    {
     "name": "stdout",
     "output_type": "stream",
     "text": [
      "Slope = 13.88 s^2/kg\n",
      "Error in slope = 1.54 s^2/kg\n",
      "Goodness of fit = 0.29\n",
      "Spring Constant is: 2.84 ± 0.32 N/m\n"
     ]
    }
   ],
   "source": [
    "# My measurements...\n",
    "m = np.array([150, 140, 130, 120, 110, 100]) / 1000 # g -> kg\n",
    "t = np.array([14.26, 13.69, 13.13, 12.65, 12.05, 11.60]) # seconds...\n",
    "errm = np.array([1, 1, 1, 1, 1, 1]) / 1000\n",
    "errt = 250 / 1000 # 250ms, because my reaction times are bad...\n",
    "\n",
    "T = t / 10\n",
    "errT = errt / 10\n",
    "\n",
    "T2 = T ** 2\n",
    "errT2 = rule_2(1, T, errT, 2)\n",
    "\n",
    "s, ds, N = phys.plotfit(m, T2, errT2, 'Small k spring', 'm(kg)', '$T^2(s^2)$', 's^2/kg')\n",
    "\n",
    "k21 = (4 * np.pi ** 2) / s\n",
    "dk21 = rule_4(k21, (s, ds, -1))\n",
    "\n",
    "print(f\"Spring Constant is: {k21:0.2f} ± {dk21:0.2f} N/m\")"
   ]
  },
  {
   "cell_type": "markdown",
   "metadata": {},
   "source": [
    "# Method 2 for Spring 2 (largest k)"
   ]
  },
  {
   "cell_type": "code",
   "execution_count": 5,
   "metadata": {},
   "outputs": [
    {
     "data": {
      "image/png": "[encoded data removed]",
      "text/plain": [
       "<Figure size 432x288 with 1 Axes>"
      ]
     },
     "metadata": {
      "needs_background": "light"
     },
     "output_type": "display_data"
    },
    {
     "name": "stdout",
     "output_type": "stream",
     "text": [
      "Slope = 3.55 s^2/kg\n",
      "Error in slope = 0.54 s^2/kg\n",
      "Goodness of fit = 0.34\n",
      "Spring Constant is: 11.11 ± 1.70 N/m\n"
     ]
    }
   ],
   "source": [
    "# My measurements...\n",
    "m = np.array([300, 280, 260, 240, 220, 200]) / 1000 # g -> kg\n",
    "t = np.array([10.08, 9.72, 9.40, 8.83, 8.58, 8.16]) # seconds...\n",
    "errm = np.array([1, 1, 1, 1, 1, 1]) / 1000\n",
    "\n",
    "errt = 250 / 1000 # 250ms, because my reaction times are bad...\n",
    "\n",
    "T = t / 10\n",
    "errT = errt / 10\n",
    "\n",
    "T2 = T ** 2\n",
    "errT2 = rule_2(1, T, errT, 2)\n",
    "\n",
    "s, ds, N = phys.plotfit(m, T2, errT2, 'Large k spring', 'm(kg)', '$T^2(s^2)$', 's^2/kg')\n",
    "\n",
    "k22 = (4 * np.pi ** 2) / s\n",
    "dk22 = rule_4(k22, (s, ds, -1))\n",
    "\n",
    "print(f\"Spring Constant is: {k22:0.2f} ± {dk22:0.2f} N/m\")"
   ]
  },
  {
   "cell_type": "markdown",
   "metadata": {},
   "source": [
    "# Comparing Results"
   ]
  },
  {
   "cell_type": "code",
   "execution_count": 6,
   "metadata": {},
   "outputs": [
    {
     "name": "stdout",
     "output_type": "stream",
     "text": [
      "Do the values for the smallest k spring aggree? Yes.\n",
      "Do the values for the largest k spring aggree? Yes.\n"
     ]
    }
   ],
   "source": [
    "print(\"Do the values for the smallest k spring aggree?\", \"Yes.\" if(values_agree(k11, dk11, k21, dk21)) else \"No.\")\n",
    "print(\"Do the values for the largest k spring aggree?\", \"Yes.\" if(values_agree(k12, dk12, k22, dk22)) else \"No.\")"
   ]
  },
  {
   "cell_type": "markdown",
   "metadata": {},
   "source": [
    "# Post-Lab Questions\n",
    "\n",
    "### 1. What is the value for the spring constant for the smallest k spring you used in Part I including the uncertainty?\n",
    "\n",
    "For the first part of the experiment for the smallest k spring, I got a value for the spring constant of $3.00 \\pm 0.03 \\text{ }\\frac{N}{m}$. \n",
    "\n",
    "### 2. What is the value for the spring constant for the smallest k spring you used in Part II including the uncertainty? SHOW YOUR WORK\n",
    "\n",
    "For the second part of the experiment, I got a spring constant for the smallest k spring of $2.84 \\pm 0.32 \\text{ }\\frac{N}{m}$. The work for this can be seen above in the third section of this jupyter notebook. \n",
    "\n",
    "### 3. What is the value for the spring constant for the largest k spring you used in Part I including the uncertainty?\n",
    "\n",
    "For the first part of the experiment for the largest k spring, I got a value for the spring constant of $11.82 \\pm 0.09 \\text{ }\\frac{N}{m}$. \n",
    "\n",
    "### 4. What is the value for the spring constant for the largest k spring you used in Part II including the uncertainty? SHOW YOUR WORK\n",
    "\n",
    "For the second part of the experiment, I got a spring constant for the largest k spring of $11.11 \\pm 1.70 \\text{ }\\frac{N}{m}$. The work for this can be seen above in the fourth section of this jupyter notebook. \n",
    "\n",
    "### 5. Do your results for the spring constants that you found in Part I and Part II agree for the smallest k spring?\n",
    "\n",
    "We can from the 5th section of the notebook, that the values computed for the smallest k spring in part 1 and 2 agree. This can also be easily checked by simply seeing if the error ranges overlap, which they do. (Error range for part 1 is (2.97, 3.03) and for part 2 is (2.52, 3.16)).\n",
    "\n",
    "### 6. Do your results for the spring constants that you found in Part I and Part II agree for the largest k spring?\n",
    "\n",
    "Again, by looking at the checking code in part 5, we can see that the values for part 1 and part 2 agree for the largest k spring. This can also be checked quickly by hand, giving us the range (11.73, 11.91) for part 1 and (9.41, 12.81) for part 2.\n",
    "\n",
    "### 7. For a given mass m, what would happen to the oscillation period if you changed springs to one with a higher spring constant?  Justify your answer.\n",
    "\n",
    "Based on looking at the data gathered in part 2 of the experiment, we would expect swapping out the spring with one with a higher spring constant to decrease the oscillation period, given everything else holds constant. As seen in the data in part 2 of the experiment, increasing the mass increases the oscillation period (This can both be seen in the raw data and the tables, as it increases linearly with $T^2$). If we compare the 2 spring's results in part 2, we see the spring with a larger spring constant actually has decreased oscillation periods, even though the masses being utilized are larger. Since mass alone would increase the period, and the only other parameter changed is the spring constant, the spring constant must be decreasing the period.\n"
   ]
  },
  {
   "cell_type": "code",
   "execution_count": null,
   "metadata": {},
   "outputs": [],
   "source": []
  }
 ],
 "metadata": {
  "kernelspec": {
   "display_name": "Python 3",
   "language": "python",
   "name": "python3"
  },
  "language_info": {
   "codemirror_mode": {
    "name": "ipython",
    "version": 3
   },
   "file_extension": ".py",
   "mimetype": "text/x-python",
   "name": "python",
   "nbconvert_exporter": "python",
   "pygments_lexer": "ipython3",
   "version": "3.8.5"
  }
 },
 "nbformat": 4,
 "nbformat_minor": 2
}
