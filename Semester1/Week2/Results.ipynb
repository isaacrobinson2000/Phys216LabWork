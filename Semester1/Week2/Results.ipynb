{
 "cells": [
  {
   "cell_type": "code",
   "execution_count": 1,
   "metadata": {},
   "outputs": [
    {
     "name": "stdout",
     "output_type": "stream",
     "text": [
      "More precise result: \n",
      "7.571915564683659\n",
      "0.08488170635078074\n",
      "Less precise result: \n",
      "8.540660320651503\n",
      "0.9910920053632707\n"
     ]
    }
   ],
   "source": [
    "import numpy as np\n",
    "\n",
    "def density(mass, diam, length):\n",
    "    return (mass / (np.pi * ((diam / 2) ** 2) * length))\n",
    "\n",
    "def error(me, de, le, mass, diam, length, density):\n",
    "    m = (me / mass) ** 2\n",
    "    d = (2 * (de / (diam / 2))) ** 2\n",
    "    l = (le / length) ** 2\n",
    "    return density * np.sqrt(m + d + l)\n",
    "\n",
    "diam = 1.860\n",
    "length = 1.585\n",
    "de = 0.005\n",
    "le = 0.005\n",
    "mass = 32.61\n",
    "me = 0.01\n",
    "\n",
    "d = density(mass, diam, length)\n",
    "e = error(me, de, le, mass, diam, length, d)\n",
    "\n",
    "print(\"More precise result: \")\n",
    "print(d)\n",
    "print(e)\n",
    "\n",
    "diam = 1.8\n",
    "length = 1.5\n",
    "de = 0.05\n",
    "le = 0.05\n",
    "mass = 32.6\n",
    "me = 0.1\n",
    "\n",
    "d = density(mass, diam, length)\n",
    "e = error(me, de, le, mass, diam, length, d)\n",
    "\n",
    "print(\"Less precise result: \")\n",
    "print(d)\n",
    "print(e)"
   ]
  },
  {
   "cell_type": "code",
   "execution_count": null,
   "metadata": {},
   "outputs": [],
   "source": []
  },
  {
   "cell_type": "code",
   "execution_count": null,
   "metadata": {},
   "outputs": [],
   "source": []
  }
 ],
 "metadata": {
  "kernelspec": {
   "display_name": "Python 3",
   "language": "python",
   "name": "python3"
  },
  "language_info": {
   "codemirror_mode": {
    "name": "ipython",
    "version": 3
   },
   "file_extension": ".py",
   "mimetype": "text/x-python",
   "name": "python",
   "nbconvert_exporter": "python",
   "pygments_lexer": "ipython3",
   "version": "3.8.5"
  }
 },
 "nbformat": 4,
 "nbformat_minor": 4
}
